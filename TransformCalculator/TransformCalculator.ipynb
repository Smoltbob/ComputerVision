{
 "cells": [
  {
   "cell_type": "markdown",
   "metadata": {},
   "source": [
    "# How to run this notebook\n",
    "`bazel build //TransformCalculator:jupyter && ./bazel-bin/TransformCalculator/jupyter`\n",
    "\n",
    "# Goal\n",
    "We need a tool that can be used to reduce bugs when working with transforms.\n",
    "We want to be able to chain transforms together, and keep track of what they do.\n",
    "\n",
    "To do so we need two mechanisms:\n",
    "- A graph data structure to link transforms together.\n",
    "- A Transform class to add semantic information to mathematical transforms."
   ]
  },
  {
   "cell_type": "code",
   "execution_count": 39,
   "metadata": {},
   "outputs": [],
   "source": [
    "class Transform:\n",
    "    \"\"\"\n",
    "    Generic transform class.\n",
    "    Can be used with any transform that can be composed, \n",
    "    for instance SE3, SO3, S1, etc\n",
    "    \"\"\"\n",
    "    \n",
    "    def __init__(self, transform, to: str, frm: str):\n",
    "        self.transform_type = type(transform)\n",
    "        self.transform = transform\n",
    "        self.to = to\n",
    "        self.frm = frm\n",
    "        \n",
    "    def __repr__(self):\n",
    "        return f\"Transforms from {self.frm} to {self.to} using {self.transform}\"\n",
    "        \n",
    "    def __matmul__(self, rhs):\n",
    "        assert(self.transform_type == rhs.transform_type)\n",
    "        assert(self.to == rhs.frm)\n",
    "        return Transform(\n",
    "            transform = self.transform @ rhs.transform,\n",
    "            to = rhs.to,\n",
    "            frm = self.frm)\n",
    "    \n",
    "    def inverse(self):\n",
    "        return Transform(self.transform.inverse(), to = self.frm, frm = self.to)"
   ]
  },
  {
   "cell_type": "code",
   "execution_count": 43,
   "metadata": {},
   "outputs": [],
   "source": [
    "from lib.Transforms.CircleGroup.S1 import S1\n",
    "S1_orig_to_90deg = S1(1.5)\n",
    "Ta = Transform(S1_orig_to_90deg, to = \"top\", frm = \"orig\")\n",
    "Ta_i = Ta.inverse()\n",
    "Tb = Transform(S1(0.1), frm = \"top\", to = \"past_top\")\n",
    "Tc = (Ta @ Tb).inverse() @ Ta"
   ]
  },
  {
   "cell_type": "code",
   "execution_count": 88,
   "metadata": {},
   "outputs": [
    {
     "name": "stdout",
     "output_type": "stream",
     "text": [
      "Transforms from orig to top using S1: 1.5 rads\n",
      "Transforms from top to past_top using S1: 0.09999999999999999 rads\n",
      "Transforms from past_top to orig using S1: -1.6 rads\n",
      "Transforms from past_top to top using S1: -0.1 rads\n"
     ]
    }
   ],
   "source": [
    "print(Ta)\n",
    "print(Tb)\n",
    "print((Ta @ Tb).inverse())\n",
    "print(Tc)"
   ]
  },
  {
   "cell_type": "code",
   "execution_count": 155,
   "metadata": {},
   "outputs": [],
   "source": [
    "from collections import defaultdict, namedtuple\n",
    "\n",
    "class Graph:\n",
    "    \n",
    "    def __init__(self):\n",
    "        self.nodes = defaultdict(dict)\n",
    "        \n",
    "    def __repr__(self):\n",
    "        return f\"{self.nodes}\"\n",
    "    \n",
    "    def add_node(self, node, origin, destination):\n",
    "        self.nodes[origin][destination] = node\n",
    "        \n",
    "    def get_node(self, origin, destination):\n",
    "        return self.nodes[origin][destination]\n",
    " \n",
    "    def fill_graph(self):\n",
    "        # Compute every possible transform\n",
    "        pass\n",
    "    \n",
    "    def get_global_error(self):\n",
    "        # Compute inconsistencies between transforms\n",
    "                                 \n",
    "    def search(self, node):\n",
    "        pass\n",
    "    \n",
    "    def find_all_paths(self, start, end, path=[]):\n",
    "        graph = self.nodes\n",
    "        path = path + [start]\n",
    "        if start == end:\n",
    "            return [path]\n",
    "        if start not in graph.keys():\n",
    "            return []\n",
    "        paths = []\n",
    "        for node in graph[start].keys():\n",
    "            if node not in path:\n",
    "                newpaths = self.find_all_paths(node, end, path)\n",
    "                for newpath in newpaths:\n",
    "                    paths.append(newpath)\n",
    "        return paths\n",
    "    \n",
    "    def remove_node(self, node):\n",
    "        pass"
   ]
  },
  {
   "cell_type": "code",
   "execution_count": 156,
   "metadata": {},
   "outputs": [
    {
     "data": {
      "text/plain": [
       "{'orig': Transforms from top to orig using S1: -1.5 rads,\n",
       " 'past_top': Transforms from top to past_top using S1: 0.09999999999999999 rads}"
      ]
     },
     "execution_count": 156,
     "metadata": {},
     "output_type": "execute_result"
    }
   ],
   "source": [
    "g = Graph()\n",
    "\n",
    "for T in [Ta, Tb]:\n",
    "    g.add_node(node = T, origin = T.frm, destination = T.to)\n",
    "    g.add_node(node = T.inverse(), origin = T.to, destination = T.frm)\n",
    "\n",
    "g.nodes[\"top\"]"
   ]
  },
  {
   "cell_type": "code",
   "execution_count": 164,
   "metadata": {},
   "outputs": [
    {
     "data": {
      "text/plain": [
       "Transforms from orig to past_top using S1: 1.6 rads"
      ]
     },
     "execution_count": 164,
     "metadata": {},
     "output_type": "execute_result"
    }
   ],
   "source": [
    "def get_chained_transform(graph, frm, to):\n",
    "    path = g.find_all_paths(start = frm, end = to)\n",
    "    \n",
    "    # tmp\n",
    "    path = path[0]\n",
    "    \n",
    "    # find correct type\n",
    "    transforms = []\n",
    "    for i in range(1, len(path)):\n",
    "        key_from = path[i-1]\n",
    "        key_to = path[i]\n",
    "        node = g.get_node(origin = key_from, destination = key_to)\n",
    "        transforms.append(node)\n",
    "                \n",
    "    T = transforms[0]\n",
    "    for i in range(1, len(transforms)):\n",
    "        T = T @ transforms[i]\n",
    "    return T\n",
    "\n",
    "get_chained_transform(g,  frm = \"orig\", to = \"past_top\")"
   ]
  },
  {
   "cell_type": "code",
   "execution_count": 165,
   "metadata": {},
   "outputs": [
    {
     "data": {
      "text/plain": [
       "[['past_top', 'top', 'orig']]"
      ]
     },
     "execution_count": 165,
     "metadata": {},
     "output_type": "execute_result"
    }
   ],
   "source": [
    "g.find_all_paths(start = \"past_top\", end = \"orig\")"
   ]
  },
  {
   "cell_type": "code",
   "execution_count": 168,
   "metadata": {},
   "outputs": [
    {
     "data": {
      "text/plain": [
       "Transforms from past_top to orig using S1: -1.6 rads"
      ]
     },
     "execution_count": 168,
     "metadata": {},
     "output_type": "execute_result"
    }
   ],
   "source": [
    "get_chained_transform(g,  frm = \"past_top\", to = \"orig\")"
   ]
  },
  {
   "cell_type": "code",
   "execution_count": null,
   "metadata": {},
   "outputs": [],
   "source": []
  }
 ],
 "metadata": {
  "kernelspec": {
   "display_name": "Python 3 (ipykernel)",
   "language": "python",
   "name": "python3"
  },
  "language_info": {
   "codemirror_mode": {
    "name": "ipython",
    "version": 3
   },
   "file_extension": ".py",
   "mimetype": "text/x-python",
   "name": "python",
   "nbconvert_exporter": "python",
   "pygments_lexer": "ipython3",
   "version": "3.9.2"
  },
  "vscode": {
   "interpreter": {
    "hash": "a69d40d4541aa5b8653f6b4004427542deb1ae314227ba25ee4a7524cf82509a"
   }
  }
 },
 "nbformat": 4,
 "nbformat_minor": 2
}
