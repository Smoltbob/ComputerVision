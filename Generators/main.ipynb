{
 "cells": [
  {
   "cell_type": "markdown",
   "metadata": {},
   "source": [
    "# Generating sets of points\n",
    "We focus ourselves on functions to generate sets of 2D points with certain properties.\n",
    "\n",
    "They can be:\n",
    "- Geometric shapes\n",
    "    - Line\n",
    "    - Circle\n",
    "    - Square\n",
    "- Functions\n",
    "    - Spiral\n",
    "    - Sinus"
   ]
  },
  {
   "cell_type": "markdown",
   "metadata": {},
   "source": [
    "## Generate line\n",
    "We have the following parameters:\n",
    "- Number of points\n",
    "- Starting coordinates\n",
    "- Ending coordinates"
   ]
  },
  {
   "cell_type": "code",
   "execution_count": 30,
   "metadata": {},
   "outputs": [],
   "source": [
    "def generate_points_along_line(start, end, n_points):\n",
    "    \"\"\"\n",
    "    Generates n_points equally distributed along a line.\n",
    "    `start` and `end` are (x, y) coordinates\n",
    "    \"\"\"\n",
    "    range_x = end[0] - start[0]\n",
    "    range_y = end[1] - start[1]\n",
    "\n",
    "    step_x = range_x / (n_points-1)\n",
    "    step_y = range_y / (n_points-1)\n",
    "\n",
    "    point_set = []\n",
    "\n",
    "    for i in range(n_points):\n",
    "        x = start[0] + i * step_x\n",
    "        y = start[1] + i * step_y\n",
    "        point_set.append([x, y])\n",
    "\n",
    "    return point_set"
   ]
  },
  {
   "cell_type": "code",
   "execution_count": 38,
   "metadata": {},
   "outputs": [],
   "source": [
    "start = (0, -10)\n",
    "end = (15, 10)\n",
    "n_points = 15\n",
    "\n",
    "points = generate_points_along_line(start, end, n_points)"
   ]
  },
  {
   "cell_type": "code",
   "execution_count": 39,
   "metadata": {},
   "outputs": [
    {
     "data": {
      "image/png": "[encoded data removed]",
      "text/plain": [
       "<Figure size 432x288 with 1 Axes>"
      ]
     },
     "metadata": {
      "needs_background": "light"
     },
     "output_type": "display_data"
    }
   ],
   "source": [
    "import matplotlib.pyplot as plt\n",
    "\n",
    "plt.figure()\n",
    "plt.plot([p[0] for p in points], [p[1] for p in points], 'bo')\n",
    "plt.plot(*start, 'ro')\n",
    "plt.plot(*end, 'ro')\n",
    "plt.show()"
   ]
  },
  {
   "cell_type": "code",
   "execution_count": null,
   "metadata": {},
   "outputs": [],
   "source": [
    "def generate_points_along_sinus(frequency, amplitude, n_points):\n",
    "    pass"
   ]
  }
 ],
 "metadata": {
  "kernelspec": {
   "display_name": "Python 3.8.10 64-bit",
   "language": "python",
   "name": "python3"
  },
  "language_info": {
   "codemirror_mode": {
    "name": "ipython",
    "version": 3
   },
   "file_extension": ".py",
   "mimetype": "text/x-python",
   "name": "python",
   "nbconvert_exporter": "python",
   "pygments_lexer": "ipython3",
   "version": "3.8.10"
  },
  "orig_nbformat": 4,
  "vscode": {
   "interpreter": {
    "hash": "916dbcbb3f70747c44a77c7bcd40155683ae19c65e1c03b4aa3499c5328201f1"
   }
  }
 },
 "nbformat": 4,
 "nbformat_minor": 2
}
