{
 "cells": [
  {
   "cell_type": "code",
   "execution_count": 60,
   "metadata": {},
   "outputs": [
    {
     "name": "stdout",
     "output_type": "stream",
     "text": [
      "The autoreload extension is already loaded. To reload it, use:\n",
      "  %reload_ext autoreload\n"
     ]
    }
   ],
   "source": [
    "from line import *\n",
    "from point import *\n",
    "\n",
    "%load_ext autoreload\n",
    "%autoreload 2"
   ]
  },
  {
   "cell_type": "markdown",
   "metadata": {},
   "source": [
    "# Projective Geometry and Transformations of 2D\n",
    "Source: Multiple View Geometry, chapter 2\n",
    "\n",
    "The goal of this project is to understand and implement 2D geometry primitives that are useful to develop algorithms and methods. \n",
    "\n",
    "## Planar Geometry\n",
    "### The 2D projective plane\n",
    "A point in the plane may be naïvely represented in *inhomogeneous* notation as a 2D vector $(x, y)$. \n",
    "\n",
    "#### Points and lines\n",
    "A line in the plane may be represented by the equation $ax + by + c = 0$, which leads to the vector representation $(a, b, c)^T$. For any non-zero $k$,  $(a, b, c)^T$ and  $k(a, b, c)^T$ represent the same line, this equivalence class is the *homogeneous* representation.\n",
    "\n",
    "A similar reasoning applies to points. I order to use them with homogeneous lines, we can extend them with a coordinate set to 1. Thus the homogeneous point $(x, y, z)$ can be used to represent the inhomogeneous point $(\\frac{x}{z}, \\frac{y}{z})$.\n",
    "\n"
   ]
  },
  {
   "cell_type": "code",
   "execution_count": 2,
   "metadata": {},
   "outputs": [],
   "source": [
    "l = Line(1, 2, 0)\n",
    "p = HomogeneousPoint(0, 0)\n",
    "p2 = HomogeneousPoint(1, 0)"
   ]
  },
  {
   "cell_type": "markdown",
   "metadata": {},
   "source": [
    "#### Projective space\n",
    "In general, the set of equivalence classes of vectors $\\mathbb{R}^{*3}$ forms the projective space $\\mathbb{P}^2$. \n",
    "\n",
    "#### Basic operations\n",
    "##### Appartenance of a point to a line\n",
    "The point $x$ lies on the line $l$ if and only if $x^Tl=0$ (ie [inner product](https://en.wikipedia.org/wiki/Inner_product_space) = scalar product = dot product in Euclidian vector spaces)."
   ]
  },
  {
   "cell_type": "code",
   "execution_count": 3,
   "metadata": {},
   "outputs": [
    {
     "name": "stdout",
     "output_type": "stream",
     "text": [
      "True\n",
      "False\n"
     ]
    }
   ],
   "source": [
    "print((p in l))\n",
    "print((p2 in l))"
   ]
  },
  {
   "cell_type": "markdown",
   "metadata": {},
   "source": [
    "#### Intersection of lines\n",
    "Let $l$ and $l'$ bet two lines written as vectors. According to the [triple product](https://en.wikipedia.org/wiki/Triple_product) identity, $l \\cdot (l \\times l') = l' \\cdot (l \\times l') = 0$. We see that the point $x = l \\times l'$ lies on both lines, so it is their intersection."
   ]
  },
  {
   "cell_type": "code",
   "execution_count": 4,
   "metadata": {},
   "outputs": [
    {
     "data": {
      "text/plain": [
       "x: 1, y: 1, z: 1"
      ]
     },
     "execution_count": 4,
     "metadata": {},
     "output_type": "execute_result"
    }
   ],
   "source": [
    "l = Line(-1, 0, 1)\n",
    "l_p = Line(0, -1, 1)\n",
    "x = l.intersection(l_p)\n",
    "x"
   ]
  },
  {
   "cell_type": "markdown",
   "metadata": {},
   "source": [
    "#### Line joining points\n",
    "By duality, the line joining two points is $l = x \\times x'$."
   ]
  },
  {
   "cell_type": "code",
   "execution_count": 57,
   "metadata": {},
   "outputs": [
    {
     "data": {
      "text/plain": [
       "a: 0, b: 1, c: 0"
      ]
     },
     "execution_count": 57,
     "metadata": {},
     "output_type": "execute_result"
    }
   ],
   "source": [
    "p = HomogeneousPoint([0, 0])\n",
    "p2 = HomogeneousPoint([1, 0])\n",
    "l = p.join(p2)\n",
    "l"
   ]
  },
  {
   "cell_type": "markdown",
   "metadata": {},
   "source": [
    "##### Ideal points and the line at infinity\n",
    "For two lines defined by $(a, b, c)$ and $(a', b', c)$, their intersection is $(c' -c)(b, -a, 0)^T$. This point has no inhomogeneous representation, as it represents a point at infinity, also called an ideal point.\n",
    "The set of such points in $\\mathbb{P}^2$ is defined as $\\{(x_1, x_2, 0)\\}$, for every ratio $x_1:x_2$. Therefore we see that they only have one parameter, and all of the ideal points lie on the same line, the line at infinity $l_{\\infty} = (0, 0, 1)^T$."
   ]
  },
  {
   "cell_type": "code",
   "execution_count": 62,
   "metadata": {},
   "outputs": [
    {
     "data": {
      "text/plain": [
       "x: 0, y: 1, z: 0"
      ]
     },
     "execution_count": 62,
     "metadata": {},
     "output_type": "execute_result"
    }
   ],
   "source": [
    "Line([-1, 0, 1]).intersection(Line([-1, 0, 2]))"
   ]
  },
  {
   "cell_type": "code",
   "execution_count": 21,
   "metadata": {},
   "outputs": [],
   "source": [
    "from matplotlib import transforms as T\n",
    "from skspatial.plotting import plot_3d\n",
    "%matplotlib notebook"
   ]
  },
  {
   "cell_type": "code",
   "execution_count": null,
   "metadata": {},
   "outputs": [],
   "source": [
    "# Je veux\n",
    "# Afficher les points comme des vecteurs dans P3\n",
    "# Les afficher comme des points dans R2"
   ]
  },
  {
   "cell_type": "code",
   "execution_count": 52,
   "metadata": {},
   "outputs": [],
   "source": [
    "smiley = [\n",
    "    [0,0,0,0,0,1,1,1,1,1,0,0,0,0,0],\n",
    "    [0,0,0,1,1,0,0,0,0,0,1,1,0,0,0],\n",
    "    [0,0,1,0,0,0,0,0,0,0,0,0,1,0,0],\n",
    "    [0,1,0,0,0,0,0,0,0,0,0,0,0,1,0],\n",
    "    [0,1,0,0,0,0,0,0,0,0,0,0,0,1,0],\n",
    "    [1,0,0,0,1,1,0,0,0,1,1,0,0,0,1],\n",
    "    [1,0,0,0,1,1,0,0,0,1,1,0,0,0,1],\n",
    "    [1,0,0,0,0,0,0,0,0,0,0,0,0,0,1],\n",
    "    [1,0,0,0,0,0,0,0,0,0,0,0,0,0,1],\n",
    "    [1,0,0,0,0,0,0,0,0,0,0,0,0,0,1],\n",
    "    [0,1,0,0,0,1,0,0,0,1,0,0,0,1,0],\n",
    "    [0,1,0,0,0,0,1,1,1,0,0,0,0,1,0],\n",
    "    [0,0,1,0,0,0,0,0,0,0,0,0,1,0,0],\n",
    "    [0,0,0,1,1,0,0,0,0,0,1,1,0,0,0],\n",
    "    [0,0,0,0,0,1,1,1,1,1,0,0,0,0,0]\n",
    "]\n",
    "pixels = []\n",
    "for y in range(15):\n",
    "    for x in range(15):\n",
    "        if smiley[y][x]:\n",
    "            pixels.append([x,y])"
   ]
  },
  {
   "cell_type": "code",
   "execution_count": 53,
   "metadata": {},
   "outputs": [],
   "source": [
    "fig, ax = plt.subplots()\n",
    "for p in pixels:\n",
    "    p2 = InhomogeneousPoint(p)\n",
    "    p2.plot(ax)\n",
    "\n",
    "ax.set_xlim(0, 15)\n",
    "ax.set_ylim(0, 15)\n",
    "fig.show()"
   ]
  },
  {
   "cell_type": "code",
   "execution_count": 54,
   "metadata": {},
   "outputs": [
    {
     "name": "stderr",
     "output_type": "stream",
     "text": [
      "/tmp/ipykernel_364966/1874209153.py:2: MatplotlibDeprecationWarning: Axes3D(fig) adding itself to the figure is deprecated since 3.4. Pass the keyword argument auto_add_to_figure=False and use fig.add_axes(ax) to suppress this warning. The default value of auto_add_to_figure will change to False in mpl3.5 and True values will no longer work in 3.6.  This is consistent with other Axes classes.\n",
      "  ax3d  = Axes3D(fig)\n"
     ]
    }
   ],
   "source": [
    "fig = plt.figure()\n",
    "ax3d  = Axes3D(fig)\n",
    "for p in pixels:\n",
    "    p2 = HomogeneousPoint(p)\n",
    "    p2.plot(ax3d)\n",
    "\n",
    "ax.set_xlim(0, 15)\n",
    "ax.set_ylim(0, 15)\n",
    "fig.show()"
   ]
  },
  {
   "cell_type": "markdown",
   "metadata": {},
   "source": [
    "TODO\n",
    "learn\n",
    "cross product\n",
    "exterior product\n",
    "triple scalar product\n",
    "inner product\n",
    "dot product"
   ]
  }
 ],
 "metadata": {
  "kernelspec": {
   "display_name": "Python 3.8.10 64-bit",
   "language": "python",
   "name": "python3"
  },
  "language_info": {
   "codemirror_mode": {
    "name": "ipython",
    "version": 3
   },
   "file_extension": ".py",
   "mimetype": "text/x-python",
   "name": "python",
   "nbconvert_exporter": "python",
   "pygments_lexer": "ipython3",
   "version": "3.8.10"
  },
  "orig_nbformat": 4,
  "vscode": {
   "interpreter": {
    "hash": "916dbcbb3f70747c44a77c7bcd40155683ae19c65e1c03b4aa3499c5328201f1"
   }
  }
 },
 "nbformat": 4,
 "nbformat_minor": 2
}
