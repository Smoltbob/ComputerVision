{
 "cells": [
  {
   "cell_type": "code",
   "execution_count": 1,
   "metadata": {},
   "outputs": [],
   "source": [
    "from line import *\n",
    "from point import *"
   ]
  },
  {
   "cell_type": "markdown",
   "metadata": {},
   "source": [
    "# Projective Geometry and Transformations of 2D\n",
    "Source: Multiple View Geometry, chapter 2\n",
    "\n",
    "The goal of this project is to understand and implement 2D geometry primitives that are useful to develop algorithms and methods. \n",
    "\n",
    "## Planar Geometry\n",
    "### The 2D projective plane\n",
    "A point in the plane may be naïvely represented in *inhomogeneous* notation as a 2D vector $(x, y)$. \n",
    "\n",
    "#### Points and lines\n",
    "A line in the plane may be represented by the equation $ax + by + c = 0$, which leads to the vector representation $(a, b, c)^T$. For any non-zero $k$,  $(a, b, c)^T$ and  $k(a, b, c)^T$ represent the same line, this equivalence class is the *homogeneous* representation.\n",
    "\n",
    "A similar reasoning applies to points. I order to use them with homogeneous lines, we can extend them with a coordinate set to 1. Thus the homogeneous point $(x, y, z)$ can be used to represent the inhomogeneous point $(\\frac{x}{z}, \\frac{y}{z})$.\n",
    "\n"
   ]
  },
  {
   "cell_type": "code",
   "execution_count": 3,
   "metadata": {},
   "outputs": [],
   "source": [
    "l = Line(1, 2, 0)\n",
    "p = HomogeneousPoint(0, 0)\n",
    "p2 = HomogeneousPoint(1, 0)"
   ]
  },
  {
   "cell_type": "markdown",
   "metadata": {},
   "source": [
    "#### Projective space\n",
    "In general, the set of equivalence classes of vectors $\\mathbb{R}^{*3}$ forms the projective space $\\mathbb{P}^2$. \n",
    "\n",
    "#### Basic operations\n",
    "##### Appartenance\n",
    "The point $x$ lies on the line $l$ if and only if $x^Tl=0$ (ie [inner product](https://en.wikipedia.org/wiki/Inner_product_space) = scalar product = dot product in Euclidian vector spaces)."
   ]
  },
  {
   "cell_type": "code",
   "execution_count": 4,
   "metadata": {},
   "outputs": [
    {
     "name": "stdout",
     "output_type": "stream",
     "text": [
      "True\n",
      "False\n"
     ]
    }
   ],
   "source": [
    "print((p in l))\n",
    "print((p2 in l))"
   ]
  },
  {
   "cell_type": "markdown",
   "metadata": {},
   "source": [
    "TODO\n",
    "learn\n",
    "cross product\n",
    "exterior product\n",
    "triple scalar product\n",
    "inner product\n",
    "dot product"
   ]
  }
 ],
 "metadata": {
  "kernelspec": {
   "display_name": "Python 3.8.10 64-bit",
   "language": "python",
   "name": "python3"
  },
  "language_info": {
   "codemirror_mode": {
    "name": "ipython",
    "version": 3
   },
   "file_extension": ".py",
   "mimetype": "text/x-python",
   "name": "python",
   "nbconvert_exporter": "python",
   "pygments_lexer": "ipython3",
   "version": "3.8.10"
  },
  "orig_nbformat": 4,
  "vscode": {
   "interpreter": {
    "hash": "916dbcbb3f70747c44a77c7bcd40155683ae19c65e1c03b4aa3499c5328201f1"
   }
  }
 },
 "nbformat": 4,
 "nbformat_minor": 2
}
