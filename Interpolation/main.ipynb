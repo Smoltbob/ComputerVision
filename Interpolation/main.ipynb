{
 "cells": [
  {
   "cell_type": "markdown",
   "metadata": {},
   "source": [
    "# Bilinear Interpolation\n",
    "From Wikipedia: bilinear interpolation is a method for interpolating functions of two variables using linear interpolation. It is usually applied to 2D grids and this is what we will focus on.\n",
    "\n",
    "## Principle\n",
    "Bilinear interpolation is performed using linear interpolation first in one direction and then in the other direction.\n",
    "\n",
    "# Linear interpolation\n",
    "Linear interpolation is a method of curve fitting using linear polynomials to construct new data points within the range of two given known data points.\n",
    "If the two points are given by the coordinates $(x_0, y_0)$ and $(x_1, y_1)$ then the linear interpolant is the straight line between these two points.\n",
    "\n",
    "For an unknown point $x$ in the range, we can compute $y$ with \n",
    "$$ y = \\frac{y_0(x_1 - x) + y_1(x-x_0)}{x_1 - x_0}$$\n"
   ]
  },
  {
   "cell_type": "code",
   "execution_count": 3,
   "metadata": {},
   "outputs": [
    {
     "name": "stdout",
     "output_type": "stream",
     "text": [
      "class LinearInterpolator:\n",
      "    def __init__(self, pointA: Point, pointB: Point):\n",
      "        assert(pointA.x < pointB.x)\n",
      "        self.pointA = pointA\n",
      "        self.pointB = pointB\n",
      "        \n",
      "    def interpolate(self, x):\n",
      "        num = self.pointA.y * (self.pointB.x - x) + self.pointB.y * (x - self.pointA.x)\n",
      "        den = self.pointB.x - self.pointA.x\n",
      "        return num / den\n",
      "\n"
     ]
    }
   ],
   "source": [
    "import inspect\n",
    "from Interpolation.LinearInterpolation import LinearInterpolator\n",
    "from ProjectiveGeometry.geometry import Point\n",
    "\n",
    "print(inspect.getsource(LinearInterpolator))"
   ]
  },
  {
   "cell_type": "code",
   "execution_count": 4,
   "metadata": {},
   "outputs": [
    {
     "data": {
      "text/plain": [
       "0.5"
      ]
     },
     "execution_count": 4,
     "metadata": {},
     "output_type": "execute_result"
    }
   ],
   "source": [
    "ptA = Point(0, 0)\n",
    "ptB = Point(1, 1)\n",
    "lnrI = LinearInterpolator(ptA, ptB)\n",
    "lnrI.interpolate(0.5)"
   ]
  },
  {
   "cell_type": "code",
   "execution_count": null,
   "metadata": {},
   "outputs": [],
   "source": []
  }
 ],
 "metadata": {
  "kernelspec": {
   "display_name": "Python 3 (ipykernel)",
   "language": "python",
   "name": "python3"
  },
  "language_info": {
   "codemirror_mode": {
    "name": "ipython",
    "version": 3
   },
   "file_extension": ".py",
   "mimetype": "text/x-python",
   "name": "python",
   "nbconvert_exporter": "python",
   "pygments_lexer": "ipython3",
   "version": "3.9.2"
  },
  "vscode": {
   "interpreter": {
    "hash": "a69d40d4541aa5b8653f6b4004427542deb1ae314227ba25ee4a7524cf82509a"
   }
  }
 },
 "nbformat": 4,
 "nbformat_minor": 2
}
