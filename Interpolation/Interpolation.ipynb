{
 "cells": [
  {
   "cell_type": "markdown",
   "metadata": {},
   "source": [
    "## How to run this notebook\n",
    "`bazel build  BilinearInterpolation:jupyter && ./bazel-bin/BilinearInterpolation/jupyter`\n",
    "\n",
    "\n",
    "# Linear interpolation\n",
    "Linear interpolation is a method of curve fitting using linear polynomials to construct new data points within the range of two given known data points.\n",
    "If the two points are given by the coordinates $(x_0, y_0)$ and $(x_1, y_1)$ then the linear interpolant is the straight line between these two points.\n",
    "\n",
    "For an unknown point $x$ in the range, we can compute $y$ with \n",
    "$$ y = \\frac{y_0(x_1 - x) + y_1(x-x_0)}{x_1 - x_0}$$\n"
   ]
  },
  {
   "cell_type": "code",
   "execution_count": 1,
   "metadata": {},
   "outputs": [
    {
     "name": "stdout",
     "output_type": "stream",
     "text": [
      "class LinearInterpolator:\n",
      "    def __init__(self, pointA: Point, pointB: Point):\n",
      "        assert(pointA.x < pointB.x)\n",
      "        self.pointA = pointA\n",
      "        self.pointB = pointB\n",
      "        \n",
      "    def interpolate(self, x):\n",
      "        num = self.pointA.y * (self.pointB.x - x) + self.pointB.y * (x - self.pointA.x)\n",
      "        den = self.pointB.x - self.pointA.x\n",
      "        return num / den\n",
      "\n"
     ]
    }
   ],
   "source": [
    "import inspect\n",
    "from Interpolation.LinearInterpolation import LinearInterpolator\n",
    "from ProjectiveGeometry.geometry import Point\n",
    "\n",
    "print(inspect.getsource(LinearInterpolator))"
   ]
  },
  {
   "cell_type": "code",
   "execution_count": 2,
   "metadata": {},
   "outputs": [
    {
     "data": {
      "text/plain": [
       "0.5"
      ]
     },
     "execution_count": 2,
     "metadata": {},
     "output_type": "execute_result"
    }
   ],
   "source": [
    "ptA = Point(0, 0)\n",
    "ptB = Point(1, 1)\n",
    "lnrI = LinearInterpolator(ptA, ptB)\n",
    "lnrI.interpolate(0.5)"
   ]
  },
  {
   "cell_type": "markdown",
   "metadata": {},
   "source": [
    "\n",
    "# Bilinear Interpolation\n",
    "From Wikipedia: bilinear interpolation is a method for interpolating functions of two variables using linear interpolation. It is usually applied to 2D grids and this is what we will focus on.\n",
    "\n",
    "## Principle\n",
    "Bilinear interpolation is performed using linear interpolation first in one direction and then in the other direction.\n",
    "Given 4 data points $Q_{11} = (x_1, y_1), Q_{12} = (x_1, y_2), Q_{21} = (x_2, y_1), Q_{22} = (x_2, y_2)$, we want to find the value of the unknown function $f$ at the point $(x, y)$. "
   ]
  },
  {
   "cell_type": "code",
   "execution_count": 8,
   "metadata": {},
   "outputs": [
    {
     "name": "stdout",
     "output_type": "stream",
     "text": [
      "class BilinearInterpolator:\n",
      "    def __init__(self, Q11: Point3D, Q12: Point3D, Q21: Point3D, Q22: Point3D):\n",
      "        assert(Q11.x == Q12.x) # x1\n",
      "        assert(Q11.y == Q21.y) # y1\n",
      "        assert(Q12.y == Q22.x) # y2\n",
      "        assert(Q21.x == Q22.x) # x2\n",
      "        self.Q11 = Q11\n",
      "        self.Q12 = Q12\n",
      "        self.Q21 = Q21\n",
      "        self.Q22 = Q22\n",
      "        \n",
      "    def interpolate(self, x, y):\n",
      "        assert(x <= self.Q22.x)\n",
      "        assert(x >= self.Q11.x)\n",
      "        assert(y <= self.Q22.y)\n",
      "        assert(y >= self.Q11.y)\n",
      "        \n",
      "        # Interpolate in the x direction\n",
      "        x_interpolator_y1 = LinearInterpolator(Point(self.Q11.x, self.Q11.z), Point(self.Q21.x, self.Q21.z))\n",
      "        x_interpolator_y2 = LinearInterpolator(Point(self.Q12.x, self.Q12.z), Point(self.Q22.x, self.Q22.z))\n",
      "        \n",
      "        f_x_y1 = x_interpolator_y1.interpolate(x)\n",
      "        f_x_y2 = x_interpolator_y2.interpolate(x)\n",
      "        \n",
      "        # Interpolate in the y direction\n",
      "        y_interpolator = LinearInterpolator(Point(self.Q11.y, f_x_y1), Point(self.Q12.y, f_x_y2))\n",
      "        return y_interpolator.interpolate(y)\n",
      "\n"
     ]
    }
   ],
   "source": [
    "from ProjectiveGeometry.geometry import Point3D\n",
    "from Interpolation.BilinearInterpolation import BilinearInterpolator\n",
    "\n",
    "print(inspect.getsource(BilinearInterpolator))"
   ]
  },
  {
   "cell_type": "code",
   "execution_count": 4,
   "metadata": {},
   "outputs": [
    {
     "data": {
      "text/plain": [
       "0.625"
      ]
     },
     "execution_count": 4,
     "metadata": {},
     "output_type": "execute_result"
    }
   ],
   "source": [
    "Q11 = Point3D(0, 0, 0)\n",
    "Q12 = Point3D(0, 1, 1)\n",
    "Q21 = Point3D(1, 0, 1)\n",
    "Q22 = Point3D(1, 1, 0.5)\n",
    "\n",
    "blnrI = BilinearInterpolator(Q11, Q12, Q21, Q22)\n",
    "blnrI.interpolate(0.5, 0.5)"
   ]
  },
  {
   "cell_type": "code",
   "execution_count": 6,
   "metadata": {},
   "outputs": [
    {
     "data": {
      "text/plain": [
       "<matplotlib.image.AxesImage at 0x7fe75f707670>"
      ]
     },
     "execution_count": 6,
     "metadata": {},
     "output_type": "execute_result"
    },
    {
     "data": {
      "image/png": "[encoded data removed]",
      "text/plain": [
       "<Figure size 480x480 with 1 Axes>"
      ]
     },
     "metadata": {},
     "output_type": "display_data"
    }
   ],
   "source": [
    "# Reproduce the wikipedia imageee\n",
    "import matplotlib.pyplot as plt\n",
    "import matplotlib\n",
    "\n",
    "results = []\n",
    "step = 40\n",
    "i = 0\n",
    "j = 0\n",
    "for _ in range(step):\n",
    "    j = 0\n",
    "    row_i = []\n",
    "    for _ in range(step):\n",
    "        row_i.append(blnrI.interpolate(i, j))\n",
    "        j+= 1/step\n",
    "    i+=1/step\n",
    "    results.append(row_i)\n",
    "    \n",
    "plt.matshow(results, cmap = matplotlib.colormaps[\"jet\"], origin=\"lower\")"
   ]
  },
  {
   "cell_type": "code",
   "execution_count": null,
   "metadata": {},
   "outputs": [],
   "source": []
  }
 ],
 "metadata": {
  "kernelspec": {
   "display_name": "Python 3 (ipykernel)",
   "language": "python",
   "name": "python3"
  },
  "language_info": {
   "codemirror_mode": {
    "name": "ipython",
    "version": 3
   },
   "file_extension": ".py",
   "mimetype": "text/x-python",
   "name": "python",
   "nbconvert_exporter": "python",
   "pygments_lexer": "ipython3",
   "version": "3.9.2"
  },
  "vscode": {
   "interpreter": {
    "hash": "a69d40d4541aa5b8653f6b4004427542deb1ae314227ba25ee4a7524cf82509a"
   }
  }
 },
 "nbformat": 4,
 "nbformat_minor": 2
}
