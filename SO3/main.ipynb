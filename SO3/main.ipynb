{
 "cells": [
  {
   "cell_type": "markdown",
   "metadata": {},
   "source": [
    "# SO(3), the group of rotations in 3D space\n",
    "## Introduction\n",
    "SO(3), the 3D rotation group, is the group of all roations about the origin of three-dimensional Euclidian space $\\mathbb{R}^3$ under the operation of composition ([wiki](https://en.wikipedia.org/wiki/3D_rotation_group)). \n",
    "\n",
    "- A rotation about the origin preserves the origin, euclidian distance and orientation.\n",
    "- Composing two rotations results in another rotation.\n",
    "- Every rotation has a unique inverse rotation.\n",
    "- The identity map satisfies the definition of a rotation.\n",
    "\n",
    "Therefore the set of all rotations is a group under composition."
   ]
  },
  {
   "cell_type": "markdown",
   "metadata": {},
   "source": [
    "## Representing rotations"
   ]
  },
  {
   "cell_type": "code",
   "execution_count": 2,
   "metadata": {},
   "outputs": [],
   "source": [
    "# TODO matrices, vectors, quaternions\n",
    "class SO3():\n",
    "    def __init__(self, R):\n",
    "        self.R = R"
   ]
  },
  {
   "cell_type": "markdown",
   "metadata": {},
   "source": [
    "## SO(3) in Lie theory\n",
    "The rotation group has a natural structure as a manifold for which the group operations are smoothly differentiable, so it is a Lie group.\n",
    "\n",
    "### Lie algebra\n",
    "Associated with every Lie group is its Lie algebra, a linear space of the same dimension as the Lie group, closed under a bilinear alternating product called the Lie bracket. \n",
    "\n",
    "The Lie algebra of SO(3) is denoted by $\\mathfrak {so}(3)$ and consists of all skew-symmetric 3 × 3 matrices. \n",
    "\n",
    "The Lie algebra $\\mathfrak {so}(3)$ is isomorphic to the Lie algebra  $\\mathbb{R}^3$. Under this isomorphism, an Euleur vector $\\omega \\in \\mathbb{R}^3$ corresponds to the linear map $\\tilde{\\omega} (u) = \\omega \\times u$.\n",
    "\n",
    "In practice, a suitable basis to use $\\mathfrak {so}(3)$ as a 3-dimensional vector space is\n",
    "$$\n",
    "\\boldsymbol{L}_x = \\begin{bmatrix}0&0&0\\\\0&0&-1\\\\0&1&0\\end{bmatrix}, \\quad\n",
    "\\boldsymbol{L}_y = \\begin{bmatrix}0&0&1\\\\0&0&0\\\\-1&0&0\\end{bmatrix}, \\quad\n",
    "\\boldsymbol{L}_z = \\begin{bmatrix}0&-1&0\\\\1&0&0\\\\0&0&0\\end{bmatrix}.\n",
    "$$\n",
    "We can then identify any matrix of in this Lie algebra with an Euler vector $\\omega = (x, y, z) \\in \\mathbb{R}^3$.\n",
    "\n",
    "$$\n",
    "\\widehat{\\boldsymbol{\\omega}} =\\boldsymbol{\\omega}\\cdot \\boldsymbol{L} = x \\boldsymbol{L}_x + y \\boldsymbol{L}_y + z \\boldsymbol{L}_z =\\begin{bmatrix}0&-z&y\\\\z&0&-x\\\\-y&x&0\\end{bmatrix} \\in \\mathfrak{so}(3)\n",
    "$$\n",
    "\n",
    "We can go from the skew symetric notations to euler angles and back using the skew and vee operators."
   ]
  },
  {
   "cell_type": "markdown",
   "metadata": {},
   "source": [
    "#### Logarithm map $\\log : \\operatorname{SO}(3) \\to \\mathfrak{so}(3)$\n"
   ]
  },
  {
   "cell_type": "code",
   "execution_count": null,
   "metadata": {},
   "outputs": [],
   "source": [
    "def log_map(R):\n",
    "    \"\"\"\n",
    "    Returns the skew matrix in lie algebra associated to the \n",
    "    SO3 rotation matrix R\n",
    "    \"\"\"\n",
    "    "
   ]
  },
  {
   "cell_type": "markdown",
   "metadata": {},
   "source": []
  }
 ],
 "metadata": {
  "kernelspec": {
   "display_name": "Python 3.8.10 64-bit",
   "language": "python",
   "name": "python3"
  },
  "language_info": {
   "codemirror_mode": {
    "name": "ipython",
    "version": 3
   },
   "file_extension": ".py",
   "mimetype": "text/x-python",
   "name": "python",
   "nbconvert_exporter": "python",
   "pygments_lexer": "ipython3",
   "version": "3.8.10"
  },
  "orig_nbformat": 4,
  "vscode": {
   "interpreter": {
    "hash": "916dbcbb3f70747c44a77c7bcd40155683ae19c65e1c03b4aa3499c5328201f1"
   }
  }
 },
 "nbformat": 4,
 "nbformat_minor": 2
}
