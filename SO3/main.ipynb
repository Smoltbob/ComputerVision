{
 "cells": [
  {
   "cell_type": "markdown",
   "metadata": {},
   "source": [
    "# SO(3), the group of rotations in 3D space\n",
    "## Introduction\n",
    "SO(3), the 3D rotation group, is the group of all roations about the origin of three-dimensional Euclidian space $\\mathbb{R}^3$ under the operation of composition ([wiki](https://en.wikipedia.org/wiki/3D_rotation_group)). \n",
    "\n",
    "- A rotation about the origin preserves the origin, euclidian distance and orientation.\n",
    "- Composing two rotations results in another rotation.\n",
    "- Every rotation has a unique inverse rotation.\n",
    "- The identity map satisfies the definition of a rotation.\n",
    "\n",
    "Therefore the set of all rotations is a group under composition."
   ]
  },
  {
   "cell_type": "markdown",
   "metadata": {},
   "source": [
    "## Representing rotations"
   ]
  },
  {
   "cell_type": "code",
   "execution_count": 2,
   "metadata": {},
   "outputs": [],
   "source": [
    "# TODO matrices, vectors, quaternions\n",
    "class SO3():\n",
    "    def __init__(self, R):\n",
    "        self.R = R"
   ]
  },
  {
   "cell_type": "markdown",
   "metadata": {},
   "source": [
    "## SO(3) in Lie theory\n",
    "The rotation group has a natural structure as a manifold for which the group operations are smoothly differentiable, so it is a Lie group.\n",
    "\n",
    "### Lie algebra\n",
    "Associated with every Lie group is its Lie algebra, a linear space of the same dimension as the Lie group, closed under a bilinear alternating product called the Lie bracket. \n",
    "\n",
    "The Lie algebra of SO(3) is denoted by $\\mathfrak {so}(3)$ and consists of all skew-symmetric 3 × 3 matrices. \n",
    "\n",
    "The Lie algebra $\\mathfrak {so}(3)$ is isomorphic to the Lie algebra  $\\mathbb{R}^3$. Under this isomorphism, an Euleur vector $\\omega \\in \\mathbb{R}^3$ corresponds to the linear map $\\tilde{\\omega} (u) = \\omega \\times u$.\n",
    "\n",
    "In practice, a suitable basis to use $\\mathfrak {so}(3)$ as a 3-dimensional vector space is\n",
    "$$\n",
    "\\boldsymbol{L}_x = \\begin{bmatrix}0&0&0\\\\0&0&-1\\\\0&1&0\\end{bmatrix}, \\quad\n",
    "\\boldsymbol{L}_y = \\begin{bmatrix}0&0&1\\\\0&0&0\\\\-1&0&0\\end{bmatrix}, \\quad\n",
    "\\boldsymbol{L}_z = \\begin{bmatrix}0&-1&0\\\\1&0&0\\\\0&0&0\\end{bmatrix}.\n",
    "$$\n",
    "We can then identify any matrix of in this Lie algebra with an Euler vector $\\omega = (x, y, z) \\in \\mathbb{R}^3$.\n",
    "\n",
    "$$\n",
    "\\widehat{\\boldsymbol{\\omega}} =\\boldsymbol{\\omega}\\cdot \\boldsymbol{L} = x \\boldsymbol{L}_x + y \\boldsymbol{L}_y + z \\boldsymbol{L}_z =\\begin{bmatrix}0&-z&y\\\\z&0&-x\\\\-y&x&0\\end{bmatrix} \\in \\mathfrak{so}(3)\n",
    "$$\n",
    "\n",
    "We can go from the skew symetric notations to euler angles and back using the skew and vee operators."
   ]
  },
  {
   "cell_type": "code",
   "execution_count": 30,
   "metadata": {},
   "outputs": [],
   "source": [
    "def skew(v):\n",
    "    return [\n",
    "        [0, -v[2], v[1]], \n",
    "        [v[2], 0, -v[0]],\n",
    "        [-v[1], v[0], 0]]\n",
    "\n",
    "def vee(W):\n",
    "    return [-W[1][2], W[0][2], -W[0][1]]"
   ]
  },
  {
   "cell_type": "markdown",
   "metadata": {},
   "source": [
    "#### Logarithm map $\\log : \\operatorname{SO}(3) \\to \\mathfrak{so}(3)$\n",
    "Given $R \\in \\operatorname{SO}(3)$, let $A = \\frac{1}{2} (R - R^T)$ and let $\\|A\\| = \\sqrt{-\\frac{1}{2}\\operatorname{Tr}\\left(A^2\\right)}$. Then the logarithm of $R$ is given by \n",
    "$$\n",
    "\\log R = \\frac{\\sin^{-1}\\|A\\|}{\\|A\\|}A\n",
    "$$"
   ]
  },
  {
   "cell_type": "code",
   "execution_count": 8,
   "metadata": {},
   "outputs": [],
   "source": [
    "import numpy as np\n",
    "def log_map(R):\n",
    "    \"\"\"\n",
    "    Returns the skew matrix in lie algebra associated to the \n",
    "    SO3 rotation matrix R\n",
    "    \"\"\"\n",
    "    A = (R - R.T) / 2\n",
    "    norm = np.sqrt(-np.trace(A @ A)/2)\n",
    "    return ((np.arcsin(norm)) / norm) * A"
   ]
  },
  {
   "cell_type": "code",
   "execution_count": 17,
   "metadata": {},
   "outputs": [
    {
     "data": {
      "text/plain": [
       "([-0.0, 0.0, 1.5707963267948966], array([0.        , 0.        , 1.57079633]))"
      ]
     },
     "execution_count": 17,
     "metadata": {},
     "output_type": "execute_result"
    }
   ],
   "source": [
    "from scipy.spatial.transform import Rotation as Rot\n",
    "RR = Rot.from_rotvec(np.pi/2 * np.array([0, 0, 1]))\n",
    "R = RR.as_matrix()\n",
    "so = log_map(R)\n",
    "v = vee(so)\n",
    "v, RR.as_euler(\"xyz\")"
   ]
  },
  {
   "cell_type": "markdown",
   "metadata": {},
   "source": [
    "#### Exponential map $\\exp : \\mathfrak{so}(3) \\to \\operatorname{SO}(3)$\n",
    "Since $\\operatorname{SO}(3)$ is a matrix group, the exponential map is the matrix exponential series\n",
    "$$\n",
    "\\begin{cases}\n",
    "\\exp : \\mathfrak{so}(3) \\to \\operatorname{SO}(3) \\\\\n",
    "A \\mapsto e^A = \\sum_{k=0}^\\infty \\frac{1}{k!} A^k\n",
    " = I + A + \\tfrac{1}{2} A^2 + \\cdots.\n",
    "\\end{cases}\n",
    "$$\n",
    "$A \\in \\mathfrak{so}(3)$ being by definition a skew-symetric matrix."
   ]
  },
  {
   "cell_type": "code",
   "execution_count": 46,
   "metadata": {},
   "outputs": [
    {
     "data": {
      "text/plain": [
       "array([[ 4.26480464e-17, -1.00000000e+00,  0.00000000e+00],\n",
       "       [ 1.00000000e+00,  4.26480464e-17,  0.00000000e+00],\n",
       "       [ 0.00000000e+00,  0.00000000e+00,  1.00000000e+00]])"
      ]
     },
     "execution_count": 46,
     "metadata": {},
     "output_type": "execute_result"
    }
   ],
   "source": [
    "def exp_map_generic(A):\n",
    "    exp = np.eye(3)\n",
    "    for k in range(1, 50):\n",
    "        exp += (1/np.math.factorial(k)) * np.linalg.matrix_power(A, k)\n",
    "    return exp\n",
    "\n",
    "test = skew(v)\n",
    "\n",
    "exp_map_generic(test)\n"
   ]
  },
  {
   "cell_type": "markdown",
   "metadata": {},
   "source": [
    "However as every $A \\in \\mathfrak{so}(3)$ is associated to a vector $\\omega = \\theta u$, a direct exponentiation is possible, and yields\n",
    "\n",
    "$$\n",
    "\\begin{align}\n",
    " \\exp(\\tilde{\\boldsymbol{\\omega}})\n",
    "   &= \\exp(\\theta(\\boldsymbol{u\\cdot L}))\n",
    "    = \\exp\\left(\\theta \\begin{bmatrix} 0 & -z & y \\\\ z & 0 & -x \\\\ -y & x & 0 \\end{bmatrix}\\right)\\\\[4pt]\n",
    "   &= \\boldsymbol{I} + 2cs(\\boldsymbol{u\\cdot L}) + 2s^2 (\\boldsymbol{u \\cdot L})^2 \\\\[4pt]\n",
    "   &= \\begin{bmatrix}\n",
    "        2 \\left(x^2 - 1\\right) s^2 + 1 & 2 x y s^2 - 2 z c s & 2 x z s^2 + 2 y c s \\\\\n",
    "        2 x y s^2 + 2 z c s & 2 \\left(y^2 - 1\\right) s^2 + 1 & 2 y z s^2 - 2 x c s \\\\\n",
    "        2 x z s^2 - 2 y c s & 2 y z s^2 + 2 x c s & 2 \\left(z^2 - 1\\right) s^2 + 1\n",
    "      \\end{bmatrix},\n",
    "\\end{align}\n",
    "$$"
   ]
  },
  {
   "cell_type": "code",
   "execution_count": 47,
   "metadata": {},
   "outputs": [
    {
     "data": {
      "text/plain": [
       "array([[ 2.22044605e-16, -1.00000000e+00,  0.00000000e+00],\n",
       "       [ 1.00000000e+00,  2.22044605e-16,  0.00000000e+00],\n",
       "       [-0.00000000e+00,  0.00000000e+00,  1.00000000e+00]])"
      ]
     },
     "execution_count": 47,
     "metadata": {},
     "output_type": "execute_result"
    }
   ],
   "source": [
    "def exp_map_euler(w):\n",
    "   \n",
    "    w = np.array(vee(w))\n",
    "    theta = np.linalg.norm(w)\n",
    "    w = w / theta\n",
    "    x = w[0]\n",
    "    y = w[1]\n",
    "    z = w[2]\n",
    "\n",
    "    c = np.cos(theta / 2)\n",
    "    s = np.sin(theta / 2)\n",
    "\n",
    "    return [\n",
    "        [2*(x**2 - 1)*s**2 + 1, 2*x*y*(s**2) - 2*z*c*s, 2*x*z*s**2 + 2*y*c*s],\n",
    "        [2*x*y*s**2 + 2*z*c*s, 2*(y**2-1)*s**2+1, 2*y*z*s**2 - 2*x*c*s],\n",
    "        [2*x*z*s**2 - 2*y*c*s, 2*y*z*s**2 + 2*x*c*s, 2*(z**2-1)*s**2 + 1]\n",
    "    ]\n",
    "\n",
    "np.array(exp_map_euler(test))"
   ]
  },
  {
   "cell_type": "markdown",
   "metadata": {},
   "source": []
  },
  {
   "cell_type": "code",
   "execution_count": null,
   "metadata": {},
   "outputs": [],
   "source": []
  }
 ],
 "metadata": {
  "kernelspec": {
   "display_name": "Python 3.8.10 64-bit",
   "language": "python",
   "name": "python3"
  },
  "language_info": {
   "codemirror_mode": {
    "name": "ipython",
    "version": 3
   },
   "file_extension": ".py",
   "mimetype": "text/x-python",
   "name": "python",
   "nbconvert_exporter": "python",
   "pygments_lexer": "ipython3",
   "version": "3.8.10"
  },
  "orig_nbformat": 4,
  "vscode": {
   "interpreter": {
    "hash": "916dbcbb3f70747c44a77c7bcd40155683ae19c65e1c03b4aa3499c5328201f1"
   }
  }
 },
 "nbformat": 4,
 "nbformat_minor": 2
}
