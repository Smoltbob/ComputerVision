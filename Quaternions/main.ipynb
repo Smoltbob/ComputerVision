{
 "cells": [
  {
   "cell_type": "code",
   "execution_count": 1,
   "metadata": {},
   "outputs": [],
   "source": [
    "from quaternions import *"
   ]
  },
  {
   "cell_type": "markdown",
   "metadata": {},
   "source": [
    "# Quaternions\n",
    "Source : [wikipedia](https://en.wikipedia.org/wiki/Quaternion)\n",
    "\n",
    "## Definitions\n",
    "Quaternions extend the complex numbers, and are represented in the form $a + bi + cj + dk$. $a, b, c, d$ are real numbers and $i, j, k$ are symbols that can be interpreted as unit-vectors pointing along the three spatial axes.\n",
    "We can also see quaternions as consisting of a scalar / real part $a$ and a vector / imaginary part $b, c, d$.\n",
    "A quaternion that is equal to its real part is called a real quaternion, and one that is equal to its vector part is called a vector quaternion.\n",
    "Both the real and complex numbers are isomorphic to a subset of the quaternions.\n",
    "\n",
    "## Operations\n",
    "The set of quaternions is made a 4-dimensional vector space over the real numbers, with \n",
    "{1,i,j,k} as a basis, by the componentwise addition\n",
    "$$(a_1+b_1\\,\\mathbf i + c_1\\,\\mathbf j + d_1\\,\\mathbf k) + (a_2 + b_2\\,\\mathbf i + c_2\\,\\mathbf j + d_2\\,\\mathbf k) = (a_1 + a_2) + (b_1 + b_2)\\,\\mathbf i + (c_1 + c_2)\\,\\mathbf j + (d_1 + d_2)\\,\\mathbf k\\$$\n",
    "and the componentwise scalar multiplication $$\\lambda(a + b\\,\\mathbf i + c\\,\\mathbf j + d\\,\\mathbf k) = \\lambda a + (\\lambda b)\\,\\mathbf i + (\\lambda c)\\,\\mathbf j + (\\lambda d)\\,\\mathbf k.$$"
   ]
  },
  {
   "cell_type": "code",
   "execution_count": 3,
   "metadata": {},
   "outputs": [
    {
     "name": "stdout",
     "output_type": "stream",
     "text": [
      "q1 = q = 1 + 2i + 3j + 4k, q2 = q = 0 + 5i + 6j + 7k\n",
      "q1 + q2 = q = 1 + 7i + 9j + 11k\n",
      "Scalar part: 1\n",
      "Vector part: [7, 9, 11]\n",
      "q2 is vector: True\n",
      "2 * q1 = q = 2 + 4i + 6j + 8k\n"
     ]
    }
   ],
   "source": [
    "q1 = Quaternion([1, 2, 3, 4])\n",
    "q2 = Quaternion([0, 5, 6, 7])\n",
    "print(f\"q1 = {q1}, q2 = {q2}\")\n",
    "q3 = q1 + q2\n",
    "print(f\"q1 + q2 = {q3}\")\n",
    "print(f\"Scalar part: {q3.scalar()}\")\n",
    "print(f\"Vector part: {q3.vector()}\")\n",
    "print(f\"q2 is vector: {q2.isVector()}\")\n",
    "print(f\"2 * q1 = {q1 * 2}\")"
   ]
  },
  {
   "cell_type": "markdown",
   "metadata": {},
   "source": [
    "We can also define a multiplicative group structure, called the Hamilton product, using the following rules:\n",
    "- The real quaternion $1$ is the identity element.\n",
    "- The real quaternions commute with all other quaternions.\n",
    "- The product is defined on the basis elements and then extended to the general case.\n",
    "    - $i^2 = j^2 = -1$\n",
    "    - $ij = k$, $ji = -k$\n",
    "    - From this, we can get $jk, ki, kj, ik, ijk, k^2$.\n",
    "\n",
    "Using the distributive law, we can then define the Hamilton product of $q_1$ and $q_2$ as :\n",
    "$\n",
    "\\begin{alignat}{4}\n",
    "          &a_1a_2 &&- b_1b_2 &&- c_1c_2 &&- d_1d_2\\\\\n",
    "   {}+{} (&a_1b_2 &&+ b_1a_2 &&+ c_1d_2 &&- d_1c_2) \\mathbf i\\\\\n",
    "   {}+{} (&a_1c_2 &&- b_1d_2 &&+ c_1a_2 &&+ d_1b_2) \\mathbf j\\\\\n",
    "   {}+{} (&a_1d_2 &&+ b_1c_2 &&- c_1b_2 &&+ d_1a_2) \\mathbf k\n",
    " \\end{alignat}\n",
    "$\n",
    "The Hamilton product is not commutative but is associative.\n",
    "\n",
    "Every nonzero quaternion also has an inverse with respect to the Hamilton product:\n",
    "$$ (a + b\\,\\mathbf i + c\\,\\mathbf j + d \\,\\mathbf k)^{-1} = \\frac{1}{a^2 + b^2 + c^2 + d^2}\\,(a - b\\,\\mathbf i - c\\,\\mathbf j- d\\,\\mathbf k).$$"
   ]
  },
  {
   "cell_type": "code",
   "execution_count": 10,
   "metadata": {},
   "outputs": [
    {
     "name": "stdout",
     "output_type": "stream",
     "text": [
      "q1 * q2: q = -56 + 2i + 12j + 4k\n",
      "q1 * q1^-1: q = 1.0 + 0.0i + 0.0j + -2.7755575615628914e-17k\n"
     ]
    }
   ],
   "source": [
    "print(f\"q1 * q2: {q1 @ q2}\")\n",
    "print(f\"q1 * q1^-1: {q1 @ q1.inverse()}\")"
   ]
  },
  {
   "cell_type": "markdown",
   "metadata": {},
   "source": [
    "## Conjugation, norm and reciprocal\n",
    "Similarly to complex numbers, the conjugate of a quaternion $q$ is $q^* = a - bi - cj -dk$."
   ]
  },
  {
   "cell_type": "code",
   "execution_count": 11,
   "metadata": {},
   "outputs": [
    {
     "name": "stdout",
     "output_type": "stream",
     "text": [
      "q1* q = 1 + -2i + -3j + -4k\n"
     ]
    }
   ],
   "source": [
    "print(f\"q1*: {q1.conjugate()}\")"
   ]
  },
  {
   "cell_type": "markdown",
   "metadata": {},
   "source": [
    "\n",
    "# Quaternions as rotations\n",
    "The product of two rotation quaternions $q_1$ and $q_2$ is equivalent to the rotation $q_2$ followed by the rotation $q_1$.\n"
   ]
  },
  {
   "cell_type": "markdown",
   "metadata": {},
   "source": []
  }
 ],
 "metadata": {
  "kernelspec": {
   "display_name": "Python 3.8.10 64-bit",
   "language": "python",
   "name": "python3"
  },
  "language_info": {
   "codemirror_mode": {
    "name": "ipython",
    "version": 3
   },
   "file_extension": ".py",
   "mimetype": "text/x-python",
   "name": "python",
   "nbconvert_exporter": "python",
   "pygments_lexer": "ipython3",
   "version": "3.8.10"
  },
  "orig_nbformat": 4,
  "vscode": {
   "interpreter": {
    "hash": "916dbcbb3f70747c44a77c7bcd40155683ae19c65e1c03b4aa3499c5328201f1"
   }
  }
 },
 "nbformat": 4,
 "nbformat_minor": 2
}
