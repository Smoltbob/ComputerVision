{
 "cells": [
  {
   "cell_type": "markdown",
   "metadata": {},
   "source": [
    "# Quaternions\n",
    "Source : [wikipedia](https://en.wikipedia.org/wiki/Quaternion)\n",
    "\n",
    "## Definitions\n",
    "Quaternions extend the complex numbers, and are represented in the form $a + bi + cj + dk$. $a, b, c, d$ are real numbers and $i, j, k$ are symbols that can be interpreted as unit-vectors pointing along the three spatial axes.\n",
    "We can also see quaternions as consisting of a scalar / real part $a$ and a vector / imaginary part $b, c, d$.\n",
    "A quaternion that is equal to its real part is called a real quaternion, and one that is equal to its vector part is called a vector quaternion.\n",
    "Both the real and complex numbers are isomorphic to a subset of the quaternions.\n",
    "\n",
    "## Operations\n",
    "The set of quaternions is made a 4-dimensional vector space over the real numbers, with \n",
    "{1,i,j,k} as a basis, by the componentwise addition\n",
    "$$(a_1+b_1\\,\\mathbf i + c_1\\,\\mathbf j + d_1\\,\\mathbf k) + (a_2 + b_2\\,\\mathbf i + c_2\\,\\mathbf j + d_2\\,\\mathbf k) = (a_1 + a_2) + (b_1 + b_2)\\,\\mathbf i + (c_1 + c_2)\\,\\mathbf j + (d_1 + d_2)\\,\\mathbf k\\$$\n",
    "and the componentwise scalar multiplication $$\\lambda(a + b\\,\\mathbf i + c\\,\\mathbf j + d\\,\\mathbf k) = \\lambda a + (\\lambda b)\\,\\mathbf i + (\\lambda c)\\,\\mathbf j + (\\lambda d)\\,\\mathbf k.$$\n",
    "\n",
    "We can also define a multiplicative group structure, called the Hamilton product, using the following rules:\n",
    "- The real quaternion $1$ is the identity element.\n",
    "- The real quaternions commute with all other quaternions.\n",
    "- The product is defined on the basis elements and then extended to the general case.\n",
    "    - $i^2 = j^2 = -1$\n",
    "    - $ij = k$, $ji = -k$\n",
    "    - From this, we can get $jk, ki, kj, ik, ijk, k^2$.\n",
    "\n",
    "Using the distributive law, we can then define the Hamilton product of $q_1$ and $q_2$ as :\n",
    "$\n",
    "\\begin{alignat}{4}\n",
    "          &a_1a_2 &&- b_1b_2 &&- c_1c_2 &&- d_1d_2\\\\\n",
    "   {}+{} (&a_1b_2 &&+ b_1a_2 &&+ c_1d_2 &&- d_1c_2) \\mathbf i\\\\\n",
    "   {}+{} (&a_1c_2 &&- b_1d_2 &&+ c_1a_2 &&+ d_1b_2) \\mathbf j\\\\\n",
    "   {}+{} (&a_1d_2 &&+ b_1c_2 &&- c_1b_2 &&+ d_1a_2) \\mathbf k\n",
    " \\end{alignat}\n",
    "$\n",
    "The Hamilton product is not commutative but is associative.\n",
    "\n",
    "# Quaternions as rotations\n",
    "The product of two rotation quaternions $q_1$ and $q_2$ is equivalent to the rotation $q_2$ followed by the rotation $q_1$.\n"
   ]
  },
  {
   "cell_type": "markdown",
   "metadata": {},
   "source": []
  }
 ],
 "metadata": {
  "language_info": {
   "name": "python"
  },
  "orig_nbformat": 4
 },
 "nbformat": 4,
 "nbformat_minor": 2
}
