{
 "cells": [
  {
   "cell_type": "markdown",
   "metadata": {},
   "source": [
    "# Bilinear Interpolation\n",
    "From Wikipedia: bilinear interpolation is a method for interpolating functions of two variables using linear interpolation. It is usually applied to 2D grids and this is what we will focus on.\n",
    "\n",
    "## Principle\n",
    "Bilinear interpolation is performed using linear interpolation first in one direction and then in the other direction.\n",
    "\n",
    "# Linear interpolation\n",
    "Linear interpolation is a method of curve fitting using linear polynomials to construct new data points within the range of two given known data points."
   ]
  },
  {
   "cell_type": "code",
   "execution_count": null,
   "metadata": {},
   "outputs": [],
   "source": [
    "print(\"test\")"
   ]
  },
  {
   "cell_type": "code",
   "execution_count": null,
   "metadata": {},
   "outputs": [],
   "source": []
  }
 ],
 "metadata": {
  "kernelspec": {
   "display_name": "Python 3 (ipykernel)",
   "language": "python",
   "name": "python3"
  },
  "language_info": {
   "name": "python",
   "version": "3.9.2"
  },
  "vscode": {
   "interpreter": {
    "hash": "a69d40d4541aa5b8653f6b4004427542deb1ae314227ba25ee4a7524cf82509a"
   }
  }
 },
 "nbformat": 4,
 "nbformat_minor": 2
}
