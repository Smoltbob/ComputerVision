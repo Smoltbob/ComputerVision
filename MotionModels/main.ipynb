{
 "cells": [
  {
   "cell_type": "markdown",
   "metadata": {},
   "source": [
    "# Motion Models\n",
    "Source: Chapter 5 of Probabilistic Robotics.\n",
    "\n",
    "## Introduction\n",
    "We only focus in robots operating in planar environments.\n",
    "We aim to describe a probabilistic model of kinematics, such that the outcome of a control is described by a posterior probability.\n",
    "In practice, the exact shape of the model often seems less important that the fact that some provisions for uncertain outcomes are provided in the first place. In fact, many of the most successful models vastly overestimate the amount of uncertainty,\n",
    "\n",
    "\n",
    "## Kinematic configuration\n",
    "We define three important objects: the robot, the controls applied to the robot and the state of the robot."
   ]
  },
  {
   "cell_type": "code",
   "execution_count": 1,
   "metadata": {},
   "outputs": [],
   "source": [
    "import sys\n",
    "import inspect\n",
    "sys.path.append(\"../MotionModels\")\n",
    "import kinematics\n",
    "\n",
    "sys.path.append(\"../2DProjectiveGeometry\")\n",
    "from math_utils import *"
   ]
  },
  {
   "cell_type": "markdown",
   "metadata": {},
   "source": [
    "### State\n",
    "The kinematic state of robots operating in planar environments can be summarized by three variables $(x, y, \\theta)$ describing respectively the position in 2D and the angular orientation.\n",
    "We decide that $\\theta = 0$ means that the robot points in the direction of its x axis.\n",
    "\n",
    "In general, we can see the state as the collection of all aspects of the robot (ie it's position, velocity, sensors states...) and its environment that can impact the future. It can be dynamic (ie position of people) or static (ie position of a wall).\n",
    "\n",
    "A state is called complete if it is the best predictor of the future, in other words if it encompasses all the knowledge of previous states, motions, etc. In practice a state is never really complete."
   ]
  },
  {
   "cell_type": "code",
   "execution_count": 2,
   "metadata": {},
   "outputs": [
    {
     "name": "stdout",
     "output_type": "stream",
     "text": [
      "class State:\n",
      "    \"\"\"\n",
      "    State of a wheeled robot moving in 2D at a given time.\n",
      "    \"\"\"\n",
      "    def __init__(self, x, y, theta):\n",
      "        self.x = x\n",
      "        self.y = y\n",
      "        self.theta = theta\n",
      "\n",
      "    def __repr__(self):\n",
      "        return f\"State [x = {self.x}, y = {self.y}, theta = {self.theta}]\"\n",
      "\n",
      "    def as_vector(self):\n",
      "        return [self.x, self.y, self.theta]\n",
      "\n"
     ]
    }
   ],
   "source": [
    "print(inspect.getsource(kinematics.State))"
   ]
  },
  {
   "cell_type": "markdown",
   "metadata": {},
   "source": [
    "### Motion / Controls\n",
    "We consider two variables $(v, w)$ that are used to respectively control the translational and rotational velocity."
   ]
  },
  {
   "cell_type": "code",
   "execution_count": 3,
   "metadata": {},
   "outputs": [
    {
     "name": "stdout",
     "output_type": "stream",
     "text": [
      "class Motion:\n",
      "    \"\"\"\n",
      "    Defines the motion model at a given time.\n",
      "    The motion model has two parameters: \n",
      "    - The transational velocity v\n",
      "    - The roational velocity w\n",
      "    \"\"\"\n",
      "    def __init__(self, v, w ):\n",
      "        self.v = v\n",
      "        self.w = w\n",
      "\n",
      "    def __repr__(self):\n",
      "        return f\"Motion: [v = {self.v}, w = {self.w}\"\n",
      "\n",
      "    def as_vector(self):\n",
      "        return [self.v, self.w]\n",
      "\n"
     ]
    }
   ],
   "source": [
    "print(inspect.getsource(kinematics.Motion))"
   ]
  },
  {
   "cell_type": "markdown",
   "metadata": {},
   "source": [
    "\n",
    "\n",
    "### Robot\n",
    "It is used to associate a state, a motion and a timestamp (and keep a history) as a single unit."
   ]
  },
  {
   "cell_type": "code",
   "execution_count": 4,
   "metadata": {},
   "outputs": [
    {
     "name": "stdout",
     "output_type": "stream",
     "text": [
      "class Robot:\n",
      "    def __init__(self, state: State, motion: Motion):\n",
      "        # State and control of the robot at the \n",
      "        # current moment t\n",
      "        self.states = [state]\n",
      "        self.motion = motion\n",
      "        # Motion error parameters\n",
      "        self.alpha1 = 1\n",
      "        self.alpha2 = 1\n",
      "        self.alpha3 = 1\n",
      "        self.alpha4 = 1\n",
      "        self.alpha5 = 1\n",
      "        self.alpha6 = 1\n",
      "\n",
      "    def __repr__(self):\n",
      "        return f\"Robot: \\nState: {self.get_curr_state()}\"\n",
      "\n",
      "    def push_new_state(self, new_state):\n",
      "        self.states.append(new_state)\n",
      "\n",
      "    def get_curr_state(self):\n",
      "        return self.states[-1]\n",
      "\n",
      "    def get_prev_state(self):\n",
      "        return self.states[-2]\n",
      "\n",
      "    def apply_control(self, ut):\n",
      "        self.motion = ut\n",
      "\n",
      "    def plot(self, ax):\n",
      "        x = self.get_curr_state().x\n",
      "        y = self.get_curr_state().y\n",
      "        theta = self.get_curr_state().theta\n",
      "\n",
      "        dx = 1\n",
      "        dy = 0\n",
      "\n",
      "        dx = dx * cos(theta) - dy * sin(theta)\n",
      "        dy = dx * sin(theta) + dy * cos(theta)\n",
      "        plt.arrow(x, y, dx, dy, width = 0.1)\n",
      "        plt.plot(x, y, marker = \"x\", markersize = 1)\n",
      "\n"
     ]
    }
   ],
   "source": [
    "print(inspect.getsource(kinematics.Robot))"
   ]
  },
  {
   "cell_type": "markdown",
   "metadata": {},
   "source": [
    "\n",
    "## Probabilistic kinematics\n",
    "The probabilistic kinematic model, or motion model, plays the role of the state estimation model in mobile robotics. This model is the conditional density $$p(x_t | u_t, x_{t-1})$$ where the $x_i$ are the robot poses and the $u_i$ are the motion commands.\n",
    "\n",
    "We will describe two motion models:\n",
    "- One assuming that the motion data $u_t$ specifies the velocity commands given to the robot's motors.\n",
    "- One assuming that one is provided with odometry information.\n",
    "\n",
    "In practice, odometry models tend to be more accurate than velocity models, for the simple reasons that most commercial robots do not execute velocity commands with the level of accuracy that can be obtained by measuring the rotation of the robot's wheels. However odometry data is only obtained after the fact, which means that it is not suitable for motion planning, such as obstacle avoidance.\n",
    "\n",
    "# Velocity motion model\n",
    "The velocity motion model assumes that we can control a robot through two velocities, a rotational and a translational velocity.\n",
    "\n",
    "We denote the translational velocity at time $t$ by $v_t$ and the rotational velocity at time $t$ by $w_t$. Hence we have $u_t = [v_t, w_t]$.\n",
    "\n",
    "## Closed form solution\n",
    "We want to compute the probability $P(x_t | u_t, x_{t-1})$, ie the probability of a state given a control and a previous state, assuming that the control is carried out for a duration $\\Delta t$. \n",
    "We have 6 motion error parameters parameters $\\alpha_1$ to $\\alpha_6$ that are specific to the robot and must be estimated.\n",
    "\n",
    "- The proposed algorithm first calculates the controls of an error-free robot.\n",
    "- Then the function $\\textbf{prob(x,b)}$ models the motion error, ie it computes the probability of $x$ under a zero-centered variable with variance $b$."
   ]
  },
  {
   "cell_type": "code",
   "execution_count": 8,
   "metadata": {},
   "outputs": [
    {
     "name": "stdout",
     "output_type": "stream",
     "text": [
      "class VelocityMotionModel(MotionModel):\n",
      "    \"\"\"\n",
      "    Computes the probability of the robot's current state \n",
      "    given its motion and previous state.\n",
      "    \"\"\"\n",
      "    def motion_model_velocity(self, robot: kinematics.Robot):\n",
      "        state_curr = robot.get_curr_state()\n",
      "        state_prev = robot.get_prev_state()\n",
      "        ut = robot.motion\n",
      "\n",
      "        xp, yp, thetap = state_curr.x, state_curr.y, state_curr.theta\n",
      "        x, y, theta = state_prev.x, state_prev.y, state_prev.theta\n",
      "\n",
      "        num_mu = (x - xp) * cos(theta) + (y - yp) * sin(theta)\n",
      "        den_mu = (y - yp) * cos(theta) - (x - xp) * sin(theta)\n",
      "        mu = 0.5 * (num_mu / den_mu)\n",
      "\n",
      "        x_star = 0.5 * (x + xp) + mu * (y - yp)\n",
      "        y_star = 0.5 * (y + yp) + mu * (xp - x)\n",
      "        r_star = sqrt((x - x_star)**2 + (y - y_star)**2)\n",
      "\n",
      "        delta_theta = atan2(yp - y_star, xp - x_star) - atan2(y - y_star, x - x_star)\n",
      "\n",
      "        v_hat = (delta_theta / self.delta_time) * r_star\n",
      "        w_hat = delta_theta / self.delta_time\n",
      "        gamma_hat = ((thetap - theta) / self.delta_time) - w_hat\n",
      "\n",
      "        first = self.distribution.compute_probability(ut.v - v_hat, robot.alpha1 * abs(ut.v) + robot.alpha2 * abs(ut.w))\n",
      "        second = self.distribution.compute_probability(ut.w - w_hat, robot.alpha3 * abs(ut.v) + robot.alpha4 * abs(ut.w))\n",
      "        third = self.distribution.compute_probability(gamma_hat, robot.alpha5 * abs(ut.v) + robot.alpha6 * abs(ut.w))\n",
      "        \n",
      "        return first * second * third\n",
      "\n",
      "    \"\"\"\n",
      "    Samples a new state x_t knowing the previous one and a control.\n",
      "    \"\"\"\n",
      "    def sample_motion_model_velocity(self, robot: kinematics.Robot):\n",
      "        v = robot.motion.v\n",
      "        w = robot.motion.w\n",
      "        state_prev = robot.get_curr_state()\n",
      "        x, y, theta = state_prev.x, state_prev.y, state_prev.theta\n",
      "\n",
      "        v_hat = v + self.distribution.sample_probability(robot.alpha1 * abs(v) + robot.alpha2 * abs(w))\n",
      "        w_hat = w + self.distribution.sample_probability(robot.alpha3 * abs(v) + robot.alpha4 * abs(w))\n",
      "        gamma_hat = self.distribution.sample_probability(robot.alpha5  * abs(v) + robot.alpha6 * abs(w))\n",
      "\n",
      "        xp = x - (v_hat / w_hat) * sin(theta) + (v_hat / w_hat) * sin(theta + w_hat * self.delta_time)\n",
      "        yp = y + (v_hat / w_hat) * cos(theta) - (v_hat / w_hat) * cos(theta + w_hat * self.delta_time)\n",
      "        thetap = theta + w_hat * self.delta_time + gamma_hat * self.delta_time\n",
      "        return kinematics.State(xp, yp, thetap)\n",
      "\n"
     ]
    }
   ],
   "source": [
    "from motionmodels import VelocityMotionModel, OdometryMotionModel\n",
    "print(inspect.getsource(VelocityMotionModel))"
   ]
  },
  {
   "cell_type": "code",
   "execution_count": 9,
   "metadata": {},
   "outputs": [
    {
     "data": {
      "text/plain": [
       "0.007675643875862971"
      ]
     },
     "execution_count": 9,
     "metadata": {},
     "output_type": "execute_result"
    }
   ],
   "source": [
    "\"\"\" \n",
    "Setup a test robot\n",
    "In order to test, the robot needs:\n",
    "- A previous state\n",
    "- A motion control\n",
    "\n",
    "We query then different hypothetic current states to get \n",
    "the probability of them\n",
    "\"\"\"\n",
    "\n",
    "prev_state = kinematics.State(x = 0, y = 0, theta = 0)\n",
    "motion_control = kinematics.Motion(v = 1, w = 0)\n",
    "myRobot = kinematics.Robot(state = prev_state, motion = motion_control) \n",
    "new_state = kinematics.State(x = 1, y = -0.1, theta = 0.2)\n",
    "myRobot.push_new_state(new_state)\n",
    "\n",
    "velocityModel = VelocityMotionModel()\n",
    "velocityModel.motion_model_velocity(myRobot)"
   ]
  },
  {
   "cell_type": "code",
   "execution_count": 10,
   "metadata": {},
   "outputs": [
    {
     "data": {
      "image/png": "[encoded data removed]",
      "text/plain": [
       "<Figure size 640x480 with 1 Axes>"
      ]
     },
     "metadata": {},
     "output_type": "display_data"
    }
   ],
   "source": [
    "# Display the result for different states.\n",
    "import matplotlib.pyplot as plt\n",
    "\n",
    "study_square_area = 10\n",
    "ax = plt.subplot()\n",
    "plt.xlim(-study_square_area, study_square_area)\n",
    "plt.ylim(-study_square_area, study_square_area)\n",
    "myRobot.plot(ax)"
   ]
  },
  {
   "cell_type": "code",
   "execution_count": 11,
   "metadata": {},
   "outputs": [],
   "source": [
    "# Sample motion model\n",
    "def test_velocity_model(velocityModel):\n",
    "    state = kinematics.State(x = 0, y = 0, theta = 0)\n",
    "    motion_control = kinematics.Motion(v = 2, w = 0)\n",
    "    myRobot = kinematics.Robot(state = state, motion = motion_control) \n",
    "    newstate = kinematics.State(x = 1, y = 0, theta = 0)\n",
    "    myRobot.push_new_state(newstate)\n",
    "\n",
    "    sampled_states = []\n",
    "    for _ in range(50):\n",
    "        sampled_states.append(velocityModel.sample_motion_model_velocity(myRobot))\n",
    "\n",
    "    plt.figure()\n",
    "    ax = plt.subplot()\n",
    "    plt.scatter(x = [s.x for s in sampled_states], y = [s.y for s in sampled_states], s = 5, alpha = 0.5)\n",
    "    plt.xlim(-study_square_area, study_square_area)\n",
    "    plt.ylim(-study_square_area, study_square_area)\n",
    "    myRobot.plot(ax)\n",
    "    plt.show()\n"
   ]
  },
  {
   "cell_type": "code",
   "execution_count": 12,
   "metadata": {},
   "outputs": [
    {
     "data": {
      "image/png": "[encoded data removed]",
      "text/plain": [
       "<Figure size 640x480 with 1 Axes>"
      ]
     },
     "metadata": {},
     "output_type": "display_data"
    }
   ],
   "source": [
    "test_velocity_model(VelocityMotionModel())"
   ]
  },
  {
   "cell_type": "markdown",
   "metadata": {},
   "source": [
    "# Odometry motion model "
   ]
  },
  {
   "cell_type": "code",
   "execution_count": 15,
   "metadata": {},
   "outputs": [
    {
     "name": "stdout",
     "output_type": "stream",
     "text": [
      "class OdometryMotionModel(MotionModel):\n",
      "    def __init__(self):\n",
      "        self.delta_time = 1\n",
      "        self.distribution = [NormalDistribution, TriangularDistribution][0]()\n",
      "\n",
      "    \"\"\"\n",
      "    Samples a new state x_t based on odometry information.\n",
      "    The odometry information is given by looking at the current\n",
      "    and previous state of the robot.\n",
      "    \"\"\"\n",
      "    def sample_motion_model_velocity(self, robot: kinematics.Robot):\n",
      "        state_curr = robot.get_curr_state()\n",
      "        xp, yp, thetap = state_curr.x, state_curr.y, state_curr.theta\n",
      "\n",
      "        state_prev = robot.get_prev_state()\n",
      "        x, y, theta = state_prev.x, state_prev.y, state_prev.theta\n",
      "\n",
      "        delta_rot_1 = atan2(yp - y, xp - x) - theta\n",
      "        delta_trans = sqrt((x - xp)**2 + (y - yp)**2)\n",
      "        delta_rot_2 = thetap - theta - delta_rot_1\n",
      "\n",
      "        delta_rot_1_hat = delta_rot_1 - self.distribution.sample_probability(robot.alpha1 * delta_rot_1 + robot.alpha2 * delta_trans)\n",
      "        delta_trans_hat = delta_trans - self.distribution.sample_probability(robot.alpha3 * delta_trans + robot.alpha4 * (delta_rot_1 + delta_rot_2))\n",
      "        delta_rot_2_hat = delta_rot_2 - self.distribution.sample_probability(robot.alpha1 * delta_rot_2 + robot.alpha2 * delta_trans)\n",
      "\n",
      "        xp = x + delta_trans_hat * cos(theta + delta_rot_1_hat)\n",
      "        yp = y + delta_trans_hat * sin(theta + delta_rot_1_hat)\n",
      "        thetap = theta + delta_rot_1_hat + delta_rot_2_hat\n",
      "\n",
      "        return kinematics.State(xp, yp, thetap)\n",
      "\n"
     ]
    }
   ],
   "source": [
    "print(inspect.getsource(OdometryMotionModel))"
   ]
  },
  {
   "cell_type": "code",
   "execution_count": null,
   "metadata": {},
   "outputs": [
    {
     "data": {
      "image/png": "[encoded data removed]",
      "text/plain": [
       "<Figure size 640x480 with 1 Axes>"
      ]
     },
     "metadata": {},
     "output_type": "display_data"
    }
   ],
   "source": [
    "\"\"\"\n",
    "Remark: when testing her we actually move the robot in order to simulate odometry.\n",
    "So we plot the robot after it actually moved.\n",
    "The motion model aims to estimate that new position, so we expect to see points centered around \n",
    "the new robot location (which can be seen as a kind of ground truth)\n",
    "\"\"\"\n",
    "test_velocity_model(OdometryMotionModel())"
   ]
  }
 ],
 "metadata": {
  "kernelspec": {
   "display_name": "Python 3.9.2 ('venv': venv)",
   "language": "python",
   "name": "python3"
  },
  "language_info": {
   "codemirror_mode": {
    "name": "ipython",
    "version": 3
   },
   "file_extension": ".py",
   "mimetype": "text/x-python",
   "name": "python",
   "nbconvert_exporter": "python",
   "pygments_lexer": "ipython3",
   "version": "3.9.2"
  },
  "orig_nbformat": 4,
  "vscode": {
   "interpreter": {
    "hash": "a69d40d4541aa5b8653f6b4004427542deb1ae314227ba25ee4a7524cf82509a"
   }
  }
 },
 "nbformat": 4,
 "nbformat_minor": 2
}
