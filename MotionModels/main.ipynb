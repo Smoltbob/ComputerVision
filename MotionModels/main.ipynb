{
 "cells": [
  {
   "cell_type": "markdown",
   "metadata": {},
   "source": [
    "# Motion Models\n",
    "Source: Chapter 5 of Probabilistic Robotics.\n",
    "\n",
    "## Introduction\n",
    "We only focus in robots operating in planar environments.\n",
    "We aim to describe a probabilistic model of kinematics, such that the outcome of a control is described by a posterior probability.\n",
    "In practice, the exact shape of the model often seems less important that the fact that some provisions for uncertain outcomes are provided in the first place. In fact, many of the most successful models vastly overestimate the amount of uncertainty,\n",
    "\n",
    "\n",
    "## Kinematic configuration\n",
    "The kinematic state of robots operating in planar environments can be summarized by three variables $(x, y, \\theta)$ describing respectively the position in 2D and the angular orientation.\n",
    "\n",
    "We decide that $\\theta = 0$ means that the robot points in the direction of its x axis."
   ]
  },
  {
   "cell_type": "code",
   "execution_count": 3,
   "metadata": {},
   "outputs": [],
   "source": [
    "class State:\n",
    "    \"\"\"\n",
    "    State of a wheeled robot moving in 2D\n",
    "    \"\"\"\n",
    "    def __init__(self, x, y, theta):\n",
    "        self.x = x\n",
    "        self.y = y\n",
    "        self.theta = theta\n",
    "        self.time = 0\n",
    "\n",
    "    def __repr__(self):\n",
    "        return f\"State at time {self.time}: [x = {self._x()}, y = {self._y()}, theta = {self._theta()}]\"\n",
    "    \n",
    "    def _x(self):\n",
    "        return self.x\n",
    "\n",
    "    def _y(self):\n",
    "        return self.y\n",
    "\n",
    "    def _theta(self):\n",
    "        return self.theta\n",
    "\n",
    "    def as_vector(self):\n",
    "        return [self._x(), self._y(), self._theta()]\n",
    "\n",
    "\n",
    "class Robot:\n",
    "    def __init__(self, state: State):\n",
    "        # State and control of the robot at the \n",
    "        # current moment t\n",
    "        self.state = state\n",
    "        self.control = [] #TODO define\n",
    "        self.motion_error_parameters = [None] * 6\n",
    "\n",
    "    def apply_control(self, ut):\n",
    "        self.control = ut\n",
    "\n"
   ]
  },
  {
   "cell_type": "markdown",
   "metadata": {},
   "source": [
    "\n",
    "## Probabilistic kinematics\n",
    "The probabilistic kinematic model, or motion model, plays the role of the state estimation model in mobile robotics. This model is the conditional density $$p(x_t | u_t, x_{t-1})$$ where the $x_i$ are the robot poses and the $u_i$ are the motion commands.\n",
    "\n",
    "We will describe two motion models:\n",
    "- One assuming that the motion data $u_t$ specifies the velocity commands given to the robot's motors.\n",
    "- One assuming that one is provided with odometry information.\n",
    "\n",
    "In practice, odometry models tend to be more accurate than velocity models, for the simple reasons that most commercial robots do not execute velocity commands with the level of accuracy that can be obtained by measuring the rotation of the robot's wheels. However odometry data is only obtained after the fact, which means that it is not suitable for motion planning, such as obstacle avoidance.\n",
    "\n",
    "# Velocity motion model\n",
    "The velocity motion model assumes that we can control a robot through two velocities, a rotational and a translational velocity.\n",
    "\n",
    "We denote the translational velocity at time $t$ by $v_t$ and the rotational velocity at time $t$ by $w_t$. Hence we have $u_t = [v_t, w_t]$.\n",
    "\n",
    "## Closed form solution\n",
    "We want to compute the probability $P(x_t | u_t, x_{t-1})$, ie the probability of a state given a control and a previous state, assuming that the control is carried out for a duration $\\Delta t$. \n",
    "We have 6 motion error parameters parameters $\\alpha_1$ to $\\alpha_6$ that are specific to the robot and must be estimated.\n",
    "\n",
    "- The proposed algorithm first calculates the controls of an error-free robot.\n",
    "- Then the function $\\textbf{prob(x,b)}$ models the motion error, ie it computes the probability of $x$ under a zero-centered variable with variance $b$."
   ]
  },
  {
   "cell_type": "code",
   "execution_count": 2,
   "metadata": {},
   "outputs": [],
   "source": [
    "from audioop import mul\n",
    "\n",
    "\n",
    "class VelocityMotionModel():\n",
    "\n",
    "    def __init__():\n",
    "        pass\n",
    "\n",
    "    @classmethod\n",
    "    def motion_model_velocity(xt, ut, xprev):\n",
    "        pass\n",
    "        \n",
    "    pass"
   ]
  }
 ],
 "metadata": {
  "kernelspec": {
   "display_name": "Python 3.8.10 64-bit",
   "language": "python",
   "name": "python3"
  },
  "language_info": {
   "codemirror_mode": {
    "name": "ipython",
    "version": 3
   },
   "file_extension": ".py",
   "mimetype": "text/x-python",
   "name": "python",
   "nbconvert_exporter": "python",
   "pygments_lexer": "ipython3",
   "version": "3.8.10"
  },
  "orig_nbformat": 4,
  "vscode": {
   "interpreter": {
    "hash": "916dbcbb3f70747c44a77c7bcd40155683ae19c65e1c03b4aa3499c5328201f1"
   }
  }
 },
 "nbformat": 4,
 "nbformat_minor": 2
}
