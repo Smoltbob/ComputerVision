{
 "cells": [
  {
   "cell_type": "markdown",
   "metadata": {},
   "source": [
    "# Motion Models\n",
    "Source: Chapter 5 of Probabilistic Robotics.\n",
    "\n",
    "## Introduction\n",
    "We only focus in robots operating in planar environments.\n",
    "We aim to describe a probabilistic model of kinematics, such that the outcome of a control is described by a posterior probability.\n",
    "In practice, the exact shape of the model often seems less important that the fact that some provisions for uncertain outcomes are provided in the first place. In fact, many of the most successful models vastly overestimate the amount of uncertainty,\n",
    "\n",
    "\n",
    "## Kinematic configuration\n",
    "The kinematic state of robots operating in planar environments can be summarized by three variables $(x, y, \\theta)$ describing respectively the position in 2D and the angular orientation.\n",
    "\n",
    "We decide that $\\theta = 0$ means that the robot points in the direction of its x axis."
   ]
  },
  {
   "cell_type": "code",
   "execution_count": null,
   "metadata": {},
   "outputs": [],
   "source": [
    "class Robot:\n",
    "    def __init__(self, x, y, theta):\n",
    "        self.state = [x, y, theta]\n",
    "\n",
    "    def x(self):\n",
    "        return self.state()[0]\n",
    "\n",
    "    def y(self):\n",
    "        return self.state()[1]  \n",
    "\n",
    "    def theta(self):\n",
    "        return self.state()[2]  \n",
    "\n",
    "    def position(self):\n",
    "        return self.state()[0:1]\n",
    "\n",
    "    def __repr__(self):\n",
    "        return f\"State: x = {self.x()}, y = {self.y()}, theta = {self.theta()}\""
   ]
  },
  {
   "cell_type": "markdown",
   "metadata": {},
   "source": [
    "\n",
    "## Probabilistic kinematics\n",
    "The probabilistic kinematic model, or motion model, plays the role of the state estimation model in mobile robotics. This model is the conditional density $$p(x_t | u_t, x_{t-1})$$ where the $x_i$ are the robot poses and the $u_i$ are the motion commands.\n",
    "\n",
    "We will describe two motion models:\n",
    "- One assuming that the motion data $u_t$ specifies the velocity commands given to the robot's motors.\n",
    "- One assuming that one is provided with odometry information.\n",
    "\n",
    "In practice, odometry models tend to be more accurate than velocity models, for the simple reasons that most commercial robots do not execute velocity commands with the level of accuracy that can be obtained by measuring the rotation of the robot's wheels. However odometry data is only obtained after the fact, which means that it is not suitable for motion planning, such as obstacle avoidance.\n",
    "\n",
    "# Velocity motion model\n",
    "The velocity motion model assumes that we can control a robot through two velocities, a rotational and a translational velocity."
   ]
  },
  {
   "cell_type": "code",
   "execution_count": null,
   "metadata": {},
   "outputs": [],
   "source": [
    "class VelocityMotionModel():\n",
    "    pass"
   ]
  }
 ],
 "metadata": {
  "language_info": {
   "name": "python"
  },
  "orig_nbformat": 4
 },
 "nbformat": 4,
 "nbformat_minor": 2
}
