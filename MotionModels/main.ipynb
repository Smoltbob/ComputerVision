{
 "cells": [
  {
   "cell_type": "markdown",
   "metadata": {},
   "source": [
    "# Motion Models\n",
    "Source: Chapter 5 of Probabilistic Robotics.\n",
    "\n",
    "## Introduction\n",
    "We only focus in robots operating in planar environments.\n",
    "We aim to describe a probabilistic model of kinematics, such that the outcome of a control is described by a posterior probability.\n",
    "In practice, the exact shape of the model often seems less important that the fact that some provisions for uncertain outcomes are provided in the first place. In fact, many of the most successful models vastly overestimate the amount of uncertainty,\n",
    "\n",
    "\n",
    "## Kinematic configuration\n",
    "The kinematic state of robots operating in planar environments can be summarized by three variables $(x, y, \\theta)$ describing respectively the position in 2D and the angular orientation.\n",
    "\n",
    "We decide that $\\theta = 0$ means that the robot points in the direction of its x axis."
   ]
  },
  {
   "cell_type": "code",
   "execution_count": 77,
   "metadata": {},
   "outputs": [
    {
     "ename": "SyntaxError",
     "evalue": "expression cannot contain assignment, perhaps you meant \"==\"? (3935746779.py, line 76)",
     "output_type": "error",
     "traceback": [
      "\u001b[0;36m  Cell \u001b[0;32mIn [77], line 76\u001b[0;36m\u001b[0m\n\u001b[0;31m    plt.plot(x, y, marker = \"x\", markersize = )\u001b[0m\n\u001b[0m                                 ^\u001b[0m\n\u001b[0;31mSyntaxError\u001b[0m\u001b[0;31m:\u001b[0m expression cannot contain assignment, perhaps you meant \"==\"?\n"
     ]
    }
   ],
   "source": [
    "import matplotlib.pyplot as plt\n",
    "\n",
    "from math import gamma\n",
    "import sys\n",
    "sys.path.append(\"../2DProjectiveGeometry\")\n",
    "from math_utils import cos, sin, sqrt, atan2, exp, pi\n",
    "\n",
    "class State:\n",
    "    \"\"\"\n",
    "    State of a wheeled robot moving in 2D at a given time.\n",
    "    \"\"\"\n",
    "    def __init__(self, x, y, theta):\n",
    "        self.x = x\n",
    "        self.y = y\n",
    "        self.theta = theta\n",
    "\n",
    "    def __repr__(self):\n",
    "        return f\"State [x = {self.x}, y = {self.y}, theta = {self.theta}]\"\n",
    "\n",
    "    def as_vector(self):\n",
    "        return [self.x, self.y, self.theta]\n",
    "\n",
    "class Motion:\n",
    "    \"\"\"\n",
    "    Defines the motion model at a given time.\n",
    "    The motion model has two parameters: \n",
    "    - The transational velocity v\n",
    "    - The roational velocity w\n",
    "    \"\"\"\n",
    "    def __init__(self, v, w ):\n",
    "        self.v = v\n",
    "        self.w = w\n",
    "\n",
    "    def __repr__(self):\n",
    "        return f\"Motion: [v = {self.v}, w = {self.w}\"\n",
    "\n",
    "    def as_vector(self):\n",
    "        return [self.v, self.w]\n",
    "\n",
    "class Robot:\n",
    "    def __init__(self, state: State, motion: Motion):\n",
    "        # State and control of the robot at the \n",
    "        # current moment t\n",
    "        self.state = state\n",
    "        self.state_history = []\n",
    "        self.motion = motion\n",
    "        # Motion error parameters\n",
    "        self.alpha1 = 1\n",
    "        self.alpha2 = 1\n",
    "        self.alpha3 = 1\n",
    "        self.alpha4 = 1\n",
    "        self.alpha5 = 1\n",
    "        self.alpha6 = 1\n",
    "\n",
    "    def push_new_state(self, new_state):\n",
    "        self.state_history.append(self.state)\n",
    "        self.state = new_state\n",
    "\n",
    "    def get_prev_state(self):\n",
    "        return self.state_history[-1]\n",
    "\n",
    "    def apply_control(self, ut):\n",
    "        self.motion = ut\n",
    "\n",
    "    def plot(self, ax):\n",
    "        x = self.state.x\n",
    "        y = self.state.y\n",
    "        theta = self.state.theta\n",
    "\n",
    "        dx = 1\n",
    "        dy = 0\n",
    "\n",
    "        dx = dx * cos(theta) - dy * sin(theta)\n",
    "        dy = dx * sin(theta) + dy * cos(theta)\n",
    "        plt.arrow(x, y, dx, dy, width = 0.1)\n",
    "        plt.plot(x, y, marker = \"x\", markersize = )\n",
    "\n"
   ]
  },
  {
   "cell_type": "markdown",
   "metadata": {},
   "source": [
    "\n",
    "## Probabilistic kinematics\n",
    "The probabilistic kinematic model, or motion model, plays the role of the state estimation model in mobile robotics. This model is the conditional density $$p(x_t | u_t, x_{t-1})$$ where the $x_i$ are the robot poses and the $u_i$ are the motion commands.\n",
    "\n",
    "We will describe two motion models:\n",
    "- One assuming that the motion data $u_t$ specifies the velocity commands given to the robot's motors.\n",
    "- One assuming that one is provided with odometry information.\n",
    "\n",
    "In practice, odometry models tend to be more accurate than velocity models, for the simple reasons that most commercial robots do not execute velocity commands with the level of accuracy that can be obtained by measuring the rotation of the robot's wheels. However odometry data is only obtained after the fact, which means that it is not suitable for motion planning, such as obstacle avoidance.\n",
    "\n",
    "# Velocity motion model\n",
    "The velocity motion model assumes that we can control a robot through two velocities, a rotational and a translational velocity.\n",
    "\n",
    "We denote the translational velocity at time $t$ by $v_t$ and the rotational velocity at time $t$ by $w_t$. Hence we have $u_t = [v_t, w_t]$.\n",
    "\n",
    "## Closed form solution\n",
    "We want to compute the probability $P(x_t | u_t, x_{t-1})$, ie the probability of a state given a control and a previous state, assuming that the control is carried out for a duration $\\Delta t$. \n",
    "We have 6 motion error parameters parameters $\\alpha_1$ to $\\alpha_6$ that are specific to the robot and must be estimated.\n",
    "\n",
    "- The proposed algorithm first calculates the controls of an error-free robot.\n",
    "- Then the function $\\textbf{prob(x,b)}$ models the motion error, ie it computes the probability of $x$ under a zero-centered variable with variance $b$."
   ]
  },
  {
   "cell_type": "code",
   "execution_count": null,
   "metadata": {},
   "outputs": [],
   "source": [
    "class Prob():\n",
    "    def __init__(self, type: str):\n",
    "        if type == \"NORMAL\":\n",
    "            self.prob = self.normal_distribution\n",
    "        elif type == \"TRIANGULAR\":\n",
    "            self.prob = self.triangular_distribution\n",
    "        else:\n",
    "            print(\"error\", type)\n",
    "\n",
    "    def normal_distribution(self, a, b):\n",
    "        first = (1 / 2) * (sqrt(pi) * b) \n",
    "        second = exp((- a ** 2) / (2 * b))\n",
    "        return first * second\n",
    "\n",
    "    def triangular_distribution(self, a, b):\n",
    "        if abs(a) > sqrt(6 * b):\n",
    "            return 0\n",
    "\n",
    "        return (sqrt(6 * b) - abs(a)) / (6 * b)\n",
    "\n",
    "\n",
    "\n",
    "class VelocityMotionModel():\n",
    "    def __init__(self):\n",
    "        self.delta_time = 1\n",
    "        self.distributionn = [\"NORMAL\", \"TRIANGULAR\"][0]\n",
    "        self.prob = Prob(self.distributionn).prob\n",
    "\n",
    "    \"\"\"\n",
    "    Computes the probability of the robot's current state \n",
    "    given its motion and previous state.\n",
    "    \"\"\"\n",
    "    def motion_model_velocity(self, robot: Robot):\n",
    "        state_curr = robot.state\n",
    "        state_prev = robot.get_prev_state()\n",
    "        ut = robot.motion\n",
    "\n",
    "        xp, yp, thetap = state_curr.x, state_curr.y, state_curr.theta\n",
    "        x, y, theta = state_prev.x, state_prev.y, state_prev.theta\n",
    "\n",
    "        num_mu = (x - xp) * cos(theta) + (y - yp) * sin(theta)\n",
    "        den_mu = (y - yp) * cos(theta) - (x - xp) * sin(theta)\n",
    "        mu = 0.5 * (num_mu / den_mu)\n",
    "\n",
    "        x_star = 0.5 * (x + xp) + mu * (y - yp)\n",
    "        y_star = 0.5 * (y + yp) + mu * (xp - x)\n",
    "        r_star = sqrt((x - x_star)**2 + (y - y_star)**2)\n",
    "\n",
    "        delta_theta = atan2(yp - y_star, xp - x_star) - atan2(y - y_star, x - x_star)\n",
    "\n",
    "        v_hat = (delta_theta / self.delta_time) * r_star\n",
    "        w_hat = delta_theta / self.delta_time\n",
    "        gamma_hat = ((thetap - theta) / self.delta_time) - w_hat\n",
    "\n",
    "        first = self.prob(ut.v - v_hat, robot.alpha1 * abs(ut.v) + robot.alpha2 * abs(ut.w))\n",
    "        second = self.prob(ut.w - w_hat, robot.alpha3 * abs(ut.v) + robot.alpha4 * abs(ut.w))\n",
    "        third = self.prob(gamma_hat, robot.alpha5 * abs(ut.v) + robot.alpha6 * abs(ut.w))\n",
    "        \n",
    "        return first * second * third"
   ]
  },
  {
   "cell_type": "code",
   "execution_count": null,
   "metadata": {},
   "outputs": [
    {
     "data": {
      "text/plain": [
       "6.482153368661243e-09"
      ]
     },
     "execution_count": 74,
     "metadata": {},
     "output_type": "execute_result"
    }
   ],
   "source": [
    "\"\"\" \n",
    "Setup a test robot\n",
    "In order to test, the robot needs:\n",
    "- A previous state\n",
    "- A motion control\n",
    "\n",
    "We query then different hypothetic current states to get \n",
    "the probability of them\n",
    "\"\"\"\n",
    "\n",
    "prev_state = State(x = 0, y = 0, theta = 0)\n",
    "motion_control = Motion(v = 1, w = 0)\n",
    "myRobot = Robot(state = prev_state, motion = motion_control) \n",
    "new_state = State(x = 2, y = 0.1, theta = 3.14)\n",
    "myRobot.push_new_state(new_state)\n",
    "\n",
    "velocityModel = VelocityMotionModel()\n",
    "velocityModel.motion_model_velocity(myRobot)"
   ]
  },
  {
   "cell_type": "code",
   "execution_count": null,
   "metadata": {},
   "outputs": [
    {
     "data": {
      "image/png": "[encoded data removed]",
      "text/plain": [
       "<Figure size 640x480 with 1 Axes>"
      ]
     },
     "metadata": {},
     "output_type": "display_data"
    }
   ],
   "source": [
    "# Display the result for different states.\n",
    "import matplotlib.pyplot as plt\n",
    "\n",
    "study_square_area = 5 \n",
    "ax = plt.subplot()\n",
    "plt.xlim(-study_square_area, study_square_area)\n",
    "plt.ylim(-study_square_area, study_square_area)\n",
    "myRobot.plot(ax)"
   ]
  },
  {
   "cell_type": "code",
   "execution_count": 79,
   "metadata": {},
   "outputs": [],
   "source": [
    "from collections import namedtuple\n",
    "# Iterate over possible states and save the probabilities\n",
    "# Then plot them as opacities\n",
    "\n",
    "# Tuple used to hold the probability for each sample point\n",
    "stateProbability = namedtuple(\"stateProbability\", \"x y probability\")\n",
    "state_probabilities = []\n",
    "\n",
    "# Define the grid search and a way to map each sample point to the robot space\n",
    "steps = 10\n",
    "states = []\n",
    "togrid = lambda x: (x / steps) * (study_square_area - (-study_square_area)) - study_square_area\n",
    "\n",
    "# Define the robot and the motion applied\n",
    "prev_state = State(x = 0, y = 0, theta = 0)\n",
    "motion_control = Motion(v = 1, w = 0)\n",
    "myRobot = Robot(state = prev_state, motion = motion_control) \n",
    "velocityModel = VelocityMotionModel()\n",
    "\n",
    "# Query the probabilities for the state following the motion\n",
    "for index_x in range(steps + 1):\n",
    "    for index_y in range(steps + 1):\n",
    "        x = togrid(index_x)\n",
    "        y = togrid(index_y)\n",
    "        state = State(x = x, y = y, theta = 0)\n",
    "        myRobot.push_new_state(state)\n",
    "        prob = velocityModel.motion_model_velocity(myRobot)\n",
    "        state_probabilities.append(stateProbability(x, y, prob))"
   ]
  },
  {
   "cell_type": "code",
   "execution_count": null,
   "metadata": {},
   "outputs": [],
   "source": []
  }
 ],
 "metadata": {
  "kernelspec": {
   "display_name": "Python 3.9.2 ('venv': venv)",
   "language": "python",
   "name": "python3"
  },
  "language_info": {
   "codemirror_mode": {
    "name": "ipython",
    "version": 3
   },
   "file_extension": ".py",
   "mimetype": "text/x-python",
   "name": "python",
   "nbconvert_exporter": "python",
   "pygments_lexer": "ipython3",
   "version": "3.9.2"
  },
  "orig_nbformat": 4,
  "vscode": {
   "interpreter": {
    "hash": "a69d40d4541aa5b8653f6b4004427542deb1ae314227ba25ee4a7524cf82509a"
   }
  }
 },
 "nbformat": 4,
 "nbformat_minor": 2
}
