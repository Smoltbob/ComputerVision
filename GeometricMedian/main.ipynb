{
 "cells": [
  {
   "cell_type": "markdown",
   "metadata": {},
   "source": [
    "# Running this notebook\n",
    "`bazel build GeometricMedian:jupyter && ./bazel-bin/GeometricMedian/jupyter`"
   ]
  },
  {
   "cell_type": "markdown",
   "metadata": {},
   "source": [
    "# Geometric Median\n",
    "## L2 Mean in $\\mathbb{R}^N$\n",
    "The L2 mean in $\\mathbb{R}^N$ is simply the average of the coordinates of the points."
   ]
  },
  {
   "cell_type": "code",
   "execution_count": 1,
   "metadata": {},
   "outputs": [
    {
     "name": "stdout",
     "output_type": "stream",
     "text": [
      "[[2.         2.         2.        ]\n",
      " [2.         2.         2.        ]\n",
      " [2.         2.         2.        ]\n",
      " [2.         2.         2.        ]\n",
      " [2.         2.         2.        ]\n",
      " [2.         2.         2.        ]\n",
      " [0.48446421 0.63021564 0.88845534]\n",
      " [0.22076528 0.95264754 0.94956629]\n",
      " [0.50109291 0.16279282 0.76498235]\n",
      " [0.68396202 0.24012445 0.44453639]]\n"
     ]
    },
    {
     "data": {
      "text/plain": [
       "array([1.38902844, 1.39857804, 1.50475404])"
      ]
     },
     "execution_count": 1,
     "metadata": {},
     "output_type": "execute_result"
    }
   ],
   "source": [
    "import numpy as np\n",
    "import inspect\n",
    "\n",
    "def l2_mean(elements: list):\n",
    "    elements = np.array(elements)\n",
    "    return np.mean(elements, axis = 0)\n",
    "\n",
    "def test_l2_mean():\n",
    "    random_r3 = np.random.rand(10, 3)\n",
    "    random_r3[:6] = [2,2,2]\n",
    "    print(random_r3)\n",
    "    return l2_mean(random_r3)\n",
    "\n",
    "test_l2_mean()"
   ]
  },
  {
   "cell_type": "markdown",
   "metadata": {},
   "source": [
    "## L1 Mean \n",
    "### In $\\mathbb{R}^N$\n",
    "Sources :\n",
    "- Paper\n",
    "- [Wikipedia](https://en.wikipedia.org/wiki/Geometric_median])\n",
    "\n",
    "\n",
    "The $L_1$ mean of a set of points $x_i$  in some metric space is the point $\\bar x$ that minimizes the sum of distances to the points. In practice, it corresponds to the median.\n",
    "Thus, \n",
    "$$ \\bar x = argmin \\sum_{i=1}^{n}d(x, x_i) $$\n",
    "\n",
    "Compared to the $L_2$ norm, there is no known explicit formula for the $L_1$ norm. There are however iterative procedures, making use of the fact that the sum of the distances to the samples points is a convex function, since the distance to each function point is convex, and therefore their sum is convex.\n",
    "\n",
    "One common approach of this type, called Weiszfeld's algorithm is a form of iteratively re-weighted least squares. his algorithm defines a set of weights that are inversely proportional to the distances from the current estimate to the sample points, and creates a new estimate that is the weighted average of the sample according to these weights. \n",
    "\n",
    "### Weiszfeld's algorithm\n",
    "The $L_1$ mean of a set of points in $\\mathbb{R}^N$ may be written as the point $\\bar x$ that minimizes the cost function\n",
    "\n",
    "$$\n",
    "C(y) = \\sum_{i=1}^{n}||y-x_i||\n",
    "$$\n",
    "\n",
    "As we saw, $C(y)$ is convex, so we know a gradient descent approach is guaranteed to converge. The gradient of the cost function is\n",
    "\n",
    "$$\n",
    "\\nabla_C = - \\sum_{i=1}^{n} \\frac{x_i - y}{||x_i - y||}\n",
    "$$\n",
    "\n",
    "In other words, $\\nabla_C$ is the sum of the unit vectors directed from $y$ to each of the points $x_i$.\n",
    "\n",
    "Given a current estimate $y^t$, the iteration step is thus\n",
    "\n",
    "$$\n",
    "y^{t+1} = y^{t} + \\lambda \\sum_{i=1}^{n} \\frac{x_i - y^t}{||x_i - y^t||}\n",
    "$$\n",
    "\n",
    "Where $\\lambda > 0$, which  is proposed to be $\\lambda = \\lambda \\sum_{i=1}^{n} ||x_i - y^t||$.\n",
    "\n",
    "The iteration step becomes:\n",
    "\n",
    "$$\n",
    "y^{t+1} = \\frac{\\sum_{i=1}^{n} \\frac{x_i}{||x_i - y^t||}}{\\sum_{i=1}^{n} \\frac{1}{||x_i - y^t||}}\n",
    "$$\n",
    "\n",
    "As long as the intermediate iterates $y_i^t$ do not coincide with any of the points $x_i$, this algorithm will provably converge. If it gets stuck, a strategy is to displace the iterate $y^t$ slightly and continue.\n",
    "\n"
   ]
  },
  {
   "cell_type": "code",
   "execution_count": 2,
   "metadata": {},
   "outputs": [
    {
     "name": "stdout",
     "output_type": "stream",
     "text": [
      "[[2.         2.         2.        ]\n",
      " [2.         2.         2.        ]\n",
      " [2.         2.         2.        ]\n",
      " [2.         2.         2.        ]\n",
      " [2.         2.         2.        ]\n",
      " [2.         2.         2.        ]\n",
      " [0.03559326 0.09503312 0.17787807]\n",
      " [0.97373966 0.10936741 0.13272102]\n",
      " [0.30589777 0.81592453 0.51791297]\n",
      " [0.11581479 0.93088251 0.41306202]]\n"
     ]
    },
    {
     "data": {
      "text/plain": [
       "array([2., 2., 2.])"
      ]
     },
     "execution_count": 2,
     "metadata": {},
     "output_type": "execute_result"
    }
   ],
   "source": [
    "def Weiszfeld(elements: list):\n",
    "    # Temporarily, we initialize with a random value\n",
    "    # TODO provide an \"average\" function for initialization\n",
    "    #y = np.random.rand(*elements[0].shape)\n",
    "    y = l2_mean(elements)\n",
    "    # TODO define convergence\n",
    "    for _ in range(100):\n",
    "        numerator = 0\n",
    "        denumerator = 0\n",
    "        for xi in elements:\n",
    "            if np.array_equal(xi, y):\n",
    "                y += np.random.rand(*y.shape) * 1e-6\n",
    "            X = np.linalg.norm(xi - y)\n",
    "            numerator += xi / X\n",
    "            denumerator += 1 / X\n",
    "        y = numerator / denumerator\n",
    "    return y\n",
    "\n",
    "def test_Weiszfeld():\n",
    "    random_r3 = np.random.rand(10, 3)\n",
    "    random_r3[:6] = [2,2,2]\n",
    "    print(random_r3)\n",
    "    return Weiszfeld(random_r3)\n",
    "\n",
    "test_Weiszfeld()"
   ]
  },
  {
   "cell_type": "markdown",
   "metadata": {},
   "source": [
    "## Testing the median\n",
    "### Verfiy that the median is correctly computed\n",
    "Method: produce a constant signal in $\\mathbb{R}^N$ and add noise to it. As long as we have less than 50% of noise, regardless of its value, the median should return the constant."
   ]
  },
  {
   "cell_type": "code",
   "execution_count": 3,
   "metadata": {},
   "outputs": [
    {
     "name": "stderr",
     "output_type": "stream",
     "text": [
      "/tmp/ipykernel_34008/3487397938.py:27: UserWarning: Matplotlib is currently using module://matplotlib_inline.backend_inline, which is a non-GUI backend, so cannot show the figure.\n",
      "  fig.show()\n"
     ]
    },
    {
     "data": {
      "image/png": "[encoded data removed]",
      "text/plain": [
       "<Figure size 640x480 with 1 Axes>"
      ]
     },
     "metadata": {},
     "output_type": "display_data"
    }
   ],
   "source": [
    "medians = []\n",
    "means = []\n",
    "for percent_noisy in np.arange(0, 1, 0.01):\n",
    "\n",
    "    signal_length = 100\n",
    "    N = 3\n",
    "    noise_length = int(percent_noisy * signal_length)\n",
    "\n",
    "    signal = np.ones((signal_length, N))\n",
    "    noise = np.random.rand(noise_length, N)\n",
    "    signal[:noise_length] = noise\n",
    "    np.random.shuffle(signal)\n",
    "\n",
    "    medians.append(Weiszfeld(signal))\n",
    "    means.append(l2_mean(signal))\n",
    "\n",
    "means = np.array(means)\n",
    "medians = np.array(medians)\n",
    "\n",
    "import matplotlib.pyplot as plt\n",
    "fig = plt.figure()\n",
    "ax = fig.add_subplot(1, 1, 1)\n",
    "ax.plot([x for x in range(medians.shape[0])], np.linalg.norm(medians, axis=1), label = \"medians\")\n",
    "ax.plot([x for x in range(means.shape[0])], np.linalg.norm(means, axis=1), label = \"means\")\n",
    "plt.xlabel(\"Percentage of noise\")\n",
    "ax.legend()\n",
    "fig.show()"
   ]
  },
  {
   "cell_type": "markdown",
   "metadata": {},
   "source": [
    "## Plotting in R2"
   ]
  },
  {
   "cell_type": "code",
   "execution_count": 4,
   "metadata": {},
   "outputs": [
    {
     "name": "stderr",
     "output_type": "stream",
     "text": [
      "/tmp/ipykernel_34008/552802923.py:28: UserWarning: Matplotlib is currently using module://matplotlib_inline.backend_inline, which is a non-GUI backend, so cannot show the figure.\n",
      "  fig.show()\n"
     ]
    },
    {
     "data": {
      "image/png": "[encoded data removed]",
      "text/plain": [
       "<Figure size 640x480 with 1 Axes>"
      ]
     },
     "metadata": {},
     "output_type": "display_data"
    }
   ],
   "source": [
    "median = None\n",
    "mean = None\n",
    "\n",
    "\n",
    "signal_length = 100\n",
    "percent_noisy = 0.4\n",
    "noise_length = int(percent_noisy * signal_length)\n",
    "N = 2\n",
    "signal_center = np.array([0, 0])\n",
    "noise_center = np.array([10, 10])\n",
    "noise_length = int(percent_noisy * signal_length)\n",
    "\n",
    "signal = signal_center + np.random.uniform(low=-1, high=1, size=(signal_length, N))\n",
    "noise = noise_center + np.random.uniform(low=-1, high=1, size=(noise_length, N))\n",
    "signal[:noise_length] = noise\n",
    "#np.random.shuffle(signal)\n",
    "\n",
    "median = Weiszfeld(signal)\n",
    "mean = l2_mean(signal)\n",
    "\n",
    "import matplotlib.pyplot as plt\n",
    "fig = plt.figure()\n",
    "ax = fig.add_subplot(1, 1, 1)\n",
    "ax.scatter(*signal.T, label = \"signal\")\n",
    "ax.scatter(*median.T, label = \"median\")\n",
    "ax.scatter(*mean.T, label = \"mean\")\n",
    "ax.legend()\n",
    "fig.show()"
   ]
  },
  {
   "cell_type": "markdown",
   "metadata": {},
   "source": [
    "# Median of angles on a circle"
   ]
  },
  {
   "cell_type": "code",
   "execution_count": 5,
   "metadata": {},
   "outputs": [
    {
     "name": "stderr",
     "output_type": "stream",
     "text": [
      "/tmp/ipykernel_34008/4130707619.py:30: UserWarning: Matplotlib is currently using module://matplotlib_inline.backend_inline, which is a non-GUI backend, so cannot show the figure.\n",
      "  fig.show()\n"
     ]
    },
    {
     "data": {
      "image/png": "[encoded data removed]",
      "text/plain": [
       "<Figure size 640x480 with 1 Axes>"
      ]
     },
     "metadata": {},
     "output_type": "display_data"
    }
   ],
   "source": [
    "from lib.Transforms.CircleGroup import S1\n",
    "\n",
    "signal_length = 20\n",
    "percent_noisy = 0.49\n",
    "noise_length = int(percent_noisy * signal_length)\n",
    "\n",
    "random_S1 = [S1.S1(np.random.normal(loc = 0.5, scale = 0.1)) for _ in range(signal_length)]\n",
    "random_S1_noise = [S1.S1(np.random.normal(loc = 2.5, scale = 0.2)) for _ in range(noise_length)]\n",
    "signal = np.array([[s.z.r, s.z.i] for s in random_S1])\n",
    "noise = np.array([[s.z.r, s.z.i] for s in random_S1_noise])\n",
    "\n",
    "signal[:noise_length] = noise\n",
    "\n",
    "angles = [np.arctan2(y,x) for x,y in signal]\n",
    "med_circle = S1.S1(np.median(angles))\n",
    "mean_circle = S1.S1(np.mean(angles))\n",
    "\n",
    "\n",
    "import matplotlib.pyplot as plt\n",
    "fig = plt.figure()\n",
    "ax = fig.add_subplot(1, 1, 1)\n",
    "ax.scatter(*signal.T, alpha = 0.5, label = \"signal\")\n",
    "ax.scatter(med_circle.z.r, med_circle.z.i, label =  \"median\")\n",
    "ax.scatter(mean_circle.z.r, mean_circle.z.i, label = \"mean\")\n",
    "\n",
    "ax.legend(loc =\"lower left\")\n",
    "plt.ylim([-1.1, 1.1])\n",
    "plt.xlim([-1.1, 1.1])\n",
    "ax.set_aspect('equal')\n",
    "fig.show()"
   ]
  },
  {
   "cell_type": "code",
   "execution_count": 6,
   "metadata": {},
   "outputs": [
    {
     "data": {
      "text/plain": [
       "(0.6551658102786704, 1.4065353417544193)"
      ]
     },
     "execution_count": 6,
     "metadata": {},
     "output_type": "execute_result"
    }
   ],
   "source": [
    "np.median(angles), np.mean(angles)"
   ]
  },
  {
   "cell_type": "code",
   "execution_count": 7,
   "metadata": {},
   "outputs": [
    {
     "data": {
      "text/plain": [
       "[2.753510428233788,\n",
       " 2.5528071910169294,\n",
       " 2.6919124928246716,\n",
       " 2.7075017231075424,\n",
       " 2.446328970383404,\n",
       " 2.3843242551940103,\n",
       " 2.340609162730132,\n",
       " 2.419484931878843,\n",
       " 2.4606412761656884,\n",
       " 0.3699655311145176,\n",
       " 0.4347922050091239,\n",
       " 0.49097984995871125,\n",
       " 0.4762451886934507,\n",
       " 0.6331503741442901,\n",
       " 0.5462282771664593,\n",
       " 0.6771812464130506,\n",
       " 0.4306089604559824,\n",
       " 0.4762966238611979,\n",
       " 0.3976260719924592,\n",
       " 0.4405120747441353]"
      ]
     },
     "execution_count": 7,
     "metadata": {},
     "output_type": "execute_result"
    }
   ],
   "source": [
    "angles"
   ]
  },
  {
   "cell_type": "code",
   "execution_count": 8,
   "metadata": {},
   "outputs": [
    {
     "name": "stderr",
     "output_type": "stream",
     "text": [
      "/tmp/ipykernel_34008/3342070745.py:39: UserWarning: Matplotlib is currently using module://matplotlib_inline.backend_inline, which is a non-GUI backend, so cannot show the figure.\n",
      "  fig.show()\n"
     ]
    },
    {
     "data": {
      "image/png": "[encoded data removed]",
      "text/plain": [
       "<Figure size 640x480 with 1 Axes>"
      ]
     },
     "metadata": {},
     "output_type": "display_data"
    }
   ],
   "source": [
    "import math \n",
    "\n",
    "median = None\n",
    "mean = None\n",
    "\n",
    "\n",
    "def PointsInCircum(r,n=100):\n",
    "    return [(math.cos(2*np.pi/n*x)*r,math.sin(2*np.pi/n*x)*r) for x in range(0,n+1)]\n",
    "\n",
    "\n",
    "signal_length = 100\n",
    "percent_noisy = 0.4\n",
    "noise_length = int(percent_noisy * signal_length)\n",
    "N = 2\n",
    "signal_center = np.array([0, 0])\n",
    "noise_center = np.array([10, 10])\n",
    "noise_length = int(percent_noisy * signal_length)\n",
    "\n",
    "signal = np.array(PointsInCircum(1, 200))[:100]\n",
    "#noise = noise_center + np.random.uniform(low=-1, high=1, size=(noise_length, N))\n",
    "#signal[:noise_length] = noise\n",
    "#np.random.shuffle(signal)\n",
    "\n",
    "median = Weiszfeld(signal)\n",
    "mean = l2_mean(signal)\n",
    "\n",
    "angles = [np.arctan2(y, x) for x, y in signal]\n",
    "med_circle = np.median(angles)\n",
    "x,y = math.cos(med_circle),math.sin(med_circle)\n",
    "\n",
    "import matplotlib.pyplot as plt\n",
    "fig = plt.figure()\n",
    "ax = fig.add_subplot(1, 1, 1)\n",
    "ax.scatter(*signal.T, label = \"signal\")\n",
    "ax.scatter(*median.T, label = \"median\")\n",
    "ax.scatter(*mean.T, label = \"mean\")\n",
    "ax.scatter(x,y, label = \"angle median (?)\")\n",
    "ax.legend(loc =\"upper left\")\n",
    "fig.show()"
   ]
  },
  {
   "cell_type": "markdown",
   "metadata": {},
   "source": [
    "### In S03\n",
    "We are now interested in computing the L1 geometric mean in the group of rotations SO(3), and we call it the geodesic median.\n",
    "To be able to apply the Weiszfeld algorithm, we need to transition back and forth between the rotation manifold and its tangent space centered at the current estimate.\n",
    "\n",
    "#### Defining the mappings\n",
    "Consider a rotation $R$ in its axis-angle representation $v = \\theta \\hat v$. Writing $[v]_\\times$ to be the $3 \\times 3$ skew-symetric matrix corresponding to $v$, we have $R = exp([v]_\\times)$. This is our exponential map $\\exp : \\mathbb{R}^3 \\to \\operatorname{SO}(3)$ going from the tangent space to the rotation manifold. The inverse map is $\\log : \\operatorname{SO}(3) \\to \\mathbb{R}^3$.\n",
    "\n",
    "#### Preserving distances\n",
    "Given a rotation $S$, we may write $\\log_S (R) = \\log(RS^{-1})$ which gives a mapping from $\\operatorname{SO}(3)$ to $\\mathbb{R}^3$ centered at $S$. Since the logarithm map preserves distances from the identity, $\\log_S$ preserves distances from $S$. Given this, we can claim that if $S$ is the geodesic median of rotations $R_i$, then the origin $0 \\in \\mathbb{R}^3$ is the geometric median of points $\\log_S (R_i)$.\n",
    "\n",
    "#### Algorithm\n",
    "To compute the geodesic median in $\\operatorname{SO}(3)$, based on the Weisfeld algorithm on the tangent space:\n",
    "\n",
    "1. Find a first estimate $S^0$.\n",
    "2. At any time $t$, compute the logarithm map centered at $S^t$ to compute $v_i = \\log_{S^t} (R_i)$ for each rotation.\n",
    "3. Weiszfeld step:  $$ \\delta = \\frac{\\sum_{i=1}^{n} v_i / ||v_i||}{\\sum_{i=1}^{n} 1 / ||v_i||}$$\n",
    "4. Set $S^{t+1} = \\exp (\\delta)S^t$\n",
    "5. Repeat until convergence.\n"
   ]
  },
  {
   "cell_type": "code",
   "execution_count": 9,
   "metadata": {},
   "outputs": [
    {
     "name": "stdout",
     "output_type": "stream",
     "text": [
      "def SO3_median(rotation_list: list, threshold=1e-6, S_t=None):\n",
      "    # We provide S_t as a first guess\n",
      "    assert S_t is not None\n",
      "\n",
      "    for _ in range(100):\n",
      "        elements = np.array([x.centered_log_map(S_t).w for x in rotation_list])\n",
      "        numerator = 0\n",
      "        denumerator = 0\n",
      "        for xi in elements:\n",
      "            X = np.linalg.norm(xi)\n",
      "            numerator += xi / X\n",
      "            denumerator += 1 / X\n",
      "        delta = numerator / denumerator\n",
      "        S_t = SO3.so3(delta).exp_map_euler() @ S_t\n",
      "\n",
      "        if np.linalg.norm(delta) < threshold:\n",
      "            break\n",
      "\n",
      "    return S_t\n",
      "\n"
     ]
    }
   ],
   "source": [
    "from lib.Transforms.SO3.SO3_Utils import SO3_median, SO3_mean\n",
    "lines = inspect.getsource(SO3_median)\n",
    "print(lines)"
   ]
  },
  {
   "cell_type": "code",
   "execution_count": 10,
   "metadata": {},
   "outputs": [],
   "source": [
    "# Generate 1 random rotation and duplicate it 60%\n",
    "# Generate 40% of other random rotations\n",
    "from scipy.spatial.transform import Rotation as R\n",
    "from lib.Transforms.SO3.SO3 import *\n",
    "import sys\n",
    "\n",
    "main_rot = SO3(R.random().as_matrix())\n",
    "sequence_length = 50\n",
    "rotation_list = [main_rot] * sequence_length\n",
    "for i in range(int(len(rotation_list) * 0.4)):\n",
    "    rotation_list[i] = SO3(R.random().as_matrix())\n",
    "\n",
    "np.random.shuffle(rotation_list)"
   ]
  },
  {
   "cell_type": "code",
   "execution_count": 11,
   "metadata": {},
   "outputs": [
    {
     "ename": "TypeError",
     "evalue": "'module' object is not callable",
     "output_type": "error",
     "traceback": [
      "\u001b[0;31m---------------------------------------------------------------------------\u001b[0m",
      "\u001b[0;31mTypeError\u001b[0m                                 Traceback (most recent call last)",
      "Cell \u001b[0;32mIn [11], line 3\u001b[0m\n\u001b[1;32m      1\u001b[0m \u001b[38;5;66;03m# Get first estimate\u001b[39;00m\n\u001b[1;32m      2\u001b[0m \u001b[38;5;66;03m#S_t = SO3.SO3_median(rotation_list, S_t = SO3.SO3_mean(rotation_list))\u001b[39;00m\n\u001b[0;32m----> 3\u001b[0m S_t \u001b[38;5;241m=\u001b[39m \u001b[43mSO3_mean\u001b[49m\u001b[43m(\u001b[49m\u001b[43mrotation_list\u001b[49m\u001b[43m)\u001b[49m\n",
      "File \u001b[0;32m~/documents/code/ComputerVision/bazel-bin/GeometricMedian/jupyter.runfiles/__main__/lib/Transforms/SO3/SO3_Utils.py:31\u001b[0m, in \u001b[0;36mSO3_mean\u001b[0;34m(rotations)\u001b[0m\n\u001b[1;32m     28\u001b[0m \u001b[38;5;28;01mdef\u001b[39;00m \u001b[38;5;21mSO3_mean\u001b[39m(rotations):\n\u001b[1;32m     29\u001b[0m     \u001b[38;5;66;03m# Correct ?\u001b[39;00m\n\u001b[1;32m     30\u001b[0m     v_is \u001b[38;5;241m=\u001b[39m np\u001b[38;5;241m.\u001b[39marray([SO3_to_log(x)\u001b[38;5;241m.\u001b[39mw \u001b[38;5;28;01mfor\u001b[39;00m x \u001b[38;5;129;01min\u001b[39;00m rotations])\n\u001b[0;32m---> 31\u001b[0m     \u001b[38;5;28;01mreturn\u001b[39;00m log_to_SO3(\u001b[43mso3\u001b[49m\u001b[43m(\u001b[49m\u001b[43mnp\u001b[49m\u001b[38;5;241;43m.\u001b[39;49m\u001b[43mmean\u001b[49m\u001b[43m(\u001b[49m\u001b[43mv_is\u001b[49m\u001b[43m,\u001b[49m\u001b[43m \u001b[49m\u001b[43maxis\u001b[49m\u001b[38;5;241;43m=\u001b[39;49m\u001b[38;5;241;43m0\u001b[39;49m\u001b[43m)\u001b[49m\u001b[43m)\u001b[49m)\n",
      "\u001b[0;31mTypeError\u001b[0m: 'module' object is not callable"
     ]
    }
   ],
   "source": [
    "# Get first estimate\n",
    "#S_t = SO3.SO3_median(rotation_list, S_t = SO3.SO3_mean(rotation_list))\n",
    "S_t = SO3_mean(rotation_list)"
   ]
  },
  {
   "cell_type": "code",
   "execution_count": null,
   "metadata": {},
   "outputs": [],
   "source": [
    "S_t, main_rot"
   ]
  },
  {
   "cell_type": "markdown",
   "metadata": {},
   "source": [
    "# In SO2\n",
    "\n",
    "Let's generate 2D point on a circle"
   ]
  },
  {
   "cell_type": "markdown",
   "metadata": {},
   "source": [
    "## Using quaternions"
   ]
  },
  {
   "cell_type": "code",
   "execution_count": null,
   "metadata": {},
   "outputs": [],
   "source": []
  },
  {
   "cell_type": "code",
   "execution_count": null,
   "metadata": {},
   "outputs": [],
   "source": [
    "# Generate 1 random rotation and duplicate it 60%\n",
    "# Generate 40% of other random rotations\n",
    "from scipy.spatial.transform import Rotation as R\n",
    "import sys\n",
    "sys.path.append(\"../SO3\")\n",
    "from SO3 import *\n",
    "\n",
    "main_rot = SO3(R.random().as_matrix())\n",
    "sequence_length = 50\n",
    "rotation_list = [main_rot] * sequence_length\n",
    "for i in range(int(len(rotation_list) * 0.4)):\n",
    "    rotation_list[i] = SO3(R.random().as_matrix())"
   ]
  }
 ],
 "metadata": {
  "kernelspec": {
   "display_name": "Python 3 (ipykernel)",
   "language": "python",
   "name": "python3"
  },
  "language_info": {
   "codemirror_mode": {
    "name": "ipython",
    "version": 3
   },
   "file_extension": ".py",
   "mimetype": "text/x-python",
   "name": "python",
   "nbconvert_exporter": "python",
   "pygments_lexer": "ipython3",
   "version": "3.9.13"
  },
  "vscode": {
   "interpreter": {
    "hash": "916dbcbb3f70747c44a77c7bcd40155683ae19c65e1c03b4aa3499c5328201f1"
   }
  }
 },
 "nbformat": 4,
 "nbformat_minor": 2
}
