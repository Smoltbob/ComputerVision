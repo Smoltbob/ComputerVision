{
 "cells": [
  {
   "cell_type": "markdown",
   "metadata": {},
   "source": [
    "# Geometric Median\n",
    "## L2 Mean in $\\mathbb{R}^N$\n",
    "The L2 mean in $\\mathbb{R}^N$ is simply the average of the coordinates of the points."
   ]
  },
  {
   "cell_type": "markdown",
   "metadata": {},
   "source": [
    "def l2_mean()"
   ]
  },
  {
   "cell_type": "markdown",
   "metadata": {},
   "source": [
    "## L1 Mean \n",
    "### In $\\mathbb{R}^N$\n",
    "Sources :\n",
    "- Paper\n",
    "- [Wikipedia](https://en.wikipedia.org/wiki/Geometric_median])\n",
    "\n",
    "\n",
    "The $L_1$ mean of a set of points $x_i$  in some metric space is the point $\\bar x$ that minimizes the sum of distances to the points. In practice, it corresponds to the median.\n",
    "Thus, \n",
    "$$ \\bar x = argmin \\sum_{i=1}^{n}d(x, x_i) $$\n",
    "\n",
    "Compared to the $L_2$ norm, there is no known explicit formula for the $L_1$ norm. There are however iterative procedures, making use of the fact that the sum of the distances to the samples points is a convex function, since the distance to each function point is convex, and therefore their sum is convex.\n",
    "\n",
    "One common approach of this type, called Weiszfeld's algorithm is a form of iteratively re-weighted least squares. his algorithm defines a set of weights that are inversely proportional to the distances from the current estimate to the sample points, and creates a new estimate that is the weighted average of the sample according to these weights. \n",
    "\n",
    "### Weiszfeld's algorithm\n",
    "The $L_1$ mean of a set of points in $\\mathbb{R}^N$ may be written as the point $\\bar x$ that minimizes the cost function\n",
    "\n",
    "$$\n",
    "C(y) = \\sum_{i=1}^{n}||y-x_i||\n",
    "$$\n",
    "\n",
    "As we saw, $C(y)$ is convex, so we know a gradient descent approach is guaranteed to converge. The gradient of the cost function is\n",
    "\n",
    "$$\n",
    "\\nabla_C = - \\sum_{i=1}^{n} \\frac{x_i - y}{||x_i - y||}\n",
    "$$\n",
    "\n",
    "In other words, $\\nabla_C$ is the sum of the unit vectors directed from $y$ to each of the points $x_i$.\n",
    "\n",
    "Given a current estimate $y^t$, the iteration step is thus\n",
    "\n",
    "$$\n",
    "y^{t+1} = y^{t} + \\lambda \\sum_{i=1}^{n} \\frac{x_i - y^t}{||x_i - y^t||}\n",
    "$$\n",
    "\n",
    "Where $\\lambda > 0$, which  is proposed to be $\\lambda = \\lambda \\sum_{i=1}^{n} ||x_i - y^t||$.\n",
    "\n",
    "The iteration step becomes:\n",
    "\n",
    "$$\n",
    "y^{t+1} = \\frac{\\sum_{i=1}^{n} \\frac{x_i}{||x_i - y^t||}}{\\sum_{i=1}^{n} \\frac{1}{||x_i - y^t||}}\n",
    "$$\n",
    "\n",
    "As long as the intermediate iterates $y_i^t$ do not coincide with any of the points $x_i$, this algorithm will provably converge. If it gets stuck, a strategy is to displace the iterate $y^t$ slightly and continue.\n",
    "\n"
   ]
  },
  {
   "cell_type": "code",
   "execution_count": 13,
   "metadata": {},
   "outputs": [
    {
     "name": "stdout",
     "output_type": "stream",
     "text": [
      "[[2.         2.         2.        ]\n",
      " [2.         2.         2.        ]\n",
      " [2.         2.         2.        ]\n",
      " [2.         2.         2.        ]\n",
      " [2.         2.         2.        ]\n",
      " [2.         2.         2.        ]\n",
      " [0.09575071 0.77315759 0.62486106]\n",
      " [0.0785391  0.647403   0.07316702]\n",
      " [0.13113394 0.09806928 0.75533388]\n",
      " [0.42840262 0.34733753 0.64845221]]\n"
     ]
    },
    {
     "data": {
      "text/plain": [
       "array([2., 2., 2.])"
      ]
     },
     "execution_count": 13,
     "metadata": {},
     "output_type": "execute_result"
    }
   ],
   "source": [
    "import numpy as np\n",
    "def Weiszfeld(elements: list):\n",
    "    # Temporarily, we initialize with a random value\n",
    "    # TODO provide an \"average\" function for initialization\n",
    "    y = np.random.rand(*elements[0].shape)\n",
    "    # TODO define convergence\n",
    "    for _ in range(100):\n",
    "        numerator = 0\n",
    "        denumerator = 0\n",
    "        for xi in elements:\n",
    "            if np.array_equal(xi, y):\n",
    "                y += np.random.rand(*y.shape) * 1e-6\n",
    "            X = np.linalg.norm(xi - y)\n",
    "            numerator += xi / X\n",
    "            denumerator += 1 / X\n",
    "        y = numerator / denumerator\n",
    "    return y\n",
    "\n",
    "def test_Weiszfeld():\n",
    "    random_r3 = np.random.rand(10, 3)\n",
    "    random_r3[:6] = [2,2,2]\n",
    "    print(random_r3)\n",
    "    return Weiszfeld(random_r3)\n",
    "\n",
    "test_Weiszfeld()"
   ]
  },
  {
   "cell_type": "markdown",
   "metadata": {},
   "source": [
    "## Testing the median\n",
    "### Verfiy that the median is correctly computed\n",
    "Method: produce a constant signal in $\\mathbb{R}^N$ and add noise to it. As long as we have less than 50% of noise, regardless of its value, the median should return the constant."
   ]
  },
  {
   "cell_type": "code",
   "execution_count": 30,
   "metadata": {},
   "outputs": [
    {
     "name": "stderr",
     "output_type": "stream",
     "text": [
      "/tmp/ipykernel_565570/172967782.py:28: UserWarning: Matplotlib is currently using module://matplotlib_inline.backend_inline, which is a non-GUI backend, so cannot show the figure.\n",
      "  fig.show()\n"
     ]
    },
    {
     "data": {
      "image/png": "[encoded data removed]",
      "text/plain": [
       "<Figure size 432x288 with 1 Axes>"
      ]
     },
     "metadata": {
      "needs_background": "light"
     },
     "output_type": "display_data"
    }
   ],
   "source": [
    "import numpy as np\n",
    "\n",
    "def test_robustness(percent_noisy):\n",
    "    \"\"\"\n",
    "    percent_noisy: float in [0, 1]\n",
    "    \"\"\"\n",
    "    signal_length = 100\n",
    "    N = 3\n",
    "    noise_length = int(percent_noisy * signal_length)\n",
    "\n",
    "    signal = np.ones((signal_length, N))\n",
    "    noise = np.random.rand(noise_length, N)\n",
    "    signal[:noise_length] = noise\n",
    "    np.random.shuffle(signal)\n",
    "    return Weiszfeld(signal)\n",
    "\n",
    "\n",
    "medians = []\n",
    "for pn in np.arange(0, 1, 0.01):\n",
    "    medians.append(test_robustness(pn))\n",
    "medians = np.array(medians)\n",
    "\n",
    "\n",
    "import matplotlib.pyplot as plt\n",
    "fig = plt.figure()\n",
    "ax = fig.add_subplot(1, 1, 1)\n",
    "ax.plot([x for x in range(medians.shape[0])], np.linalg.norm(medians, axis=1))\n",
    "fig.show()\n"
   ]
  },
  {
   "cell_type": "markdown",
   "metadata": {},
   "source": [
    "### In S03\n",
    "We are now interested in computing the L1 geometric mean in the group of rotations SO(3), and we call it the geodesic median.\n",
    "To be able to apply the Weiszfeld algorithm, we need to transition back and forth between the rotation manifold and its tangent space at centered at the current estimate.\n",
    "\n",
    "#### Defining the mappings\n",
    "##### Exponential map $\\mathbb{R}^N$ to SO3\n",
    "Consider a rotation $R$ in its axis-angle representation $v = \\theta \\hat v$. Writing $[v]_\\times$ to be the $3 \\times 3$ skew-symetric matrix corresponding to $v$, we have $R = exp([v]_\\times)$."
   ]
  },
  {
   "cell_type": "code",
   "execution_count": 9,
   "metadata": {},
   "outputs": [
    {
     "ename": "NameError",
     "evalue": "name 'SO3' is not defined",
     "output_type": "error",
     "traceback": [
      "\u001b[0;31m---------------------------------------------------------------------------\u001b[0m",
      "\u001b[0;31mNameError\u001b[0m                                 Traceback (most recent call last)",
      "\u001b[1;32m/home/jules/Documents/ComputerVision/GeometricMedian/main.ipynb Cell 6'\u001b[0m in \u001b[0;36m<cell line: 19>\u001b[0;34m()\u001b[0m\n\u001b[1;32m     <a href='vscode-notebook-cell:/home/jules/Documents/ComputerVision/GeometricMedian/main.ipynb#ch0000003?line=15'>16</a>\u001b[0m     \u001b[39m#return base.transforms3d.exp2r(v)\u001b[39;00m\n\u001b[1;32m     <a href='vscode-notebook-cell:/home/jules/Documents/ComputerVision/GeometricMedian/main.ipynb#ch0000003?line=16'>17</a>\u001b[0m     \u001b[39mreturn\u001b[39;00m SO3\u001b[39m.\u001b[39mExp(v)\n\u001b[0;32m---> <a href='vscode-notebook-cell:/home/jules/Documents/ComputerVision/GeometricMedian/main.ipynb#ch0000003?line=18'>19</a>\u001b[0m R3_to_S03([\u001b[39m3.14\u001b[39;49m, \u001b[39m0\u001b[39;49m, \u001b[39m0\u001b[39;49m])\n",
      "\u001b[1;32m/home/jules/Documents/ComputerVision/GeometricMedian/main.ipynb Cell 6'\u001b[0m in \u001b[0;36mR3_to_S03\u001b[0;34m(v)\u001b[0m\n\u001b[1;32m     <a href='vscode-notebook-cell:/home/jules/Documents/ComputerVision/GeometricMedian/main.ipynb#ch0000003?line=11'>12</a>\u001b[0m \u001b[39m\"\"\"\u001b[39;00m\n\u001b[1;32m     <a href='vscode-notebook-cell:/home/jules/Documents/ComputerVision/GeometricMedian/main.ipynb#ch0000003?line=12'>13</a>\u001b[0m \u001b[39maka exponential map (TODO confirm)\u001b[39;00m\n\u001b[1;32m     <a href='vscode-notebook-cell:/home/jules/Documents/ComputerVision/GeometricMedian/main.ipynb#ch0000003?line=13'>14</a>\u001b[0m \u001b[39mv is an axis-angle\u001b[39;00m\n\u001b[1;32m     <a href='vscode-notebook-cell:/home/jules/Documents/ComputerVision/GeometricMedian/main.ipynb#ch0000003?line=14'>15</a>\u001b[0m \u001b[39m\"\"\"\u001b[39;00m\n\u001b[1;32m     <a href='vscode-notebook-cell:/home/jules/Documents/ComputerVision/GeometricMedian/main.ipynb#ch0000003?line=15'>16</a>\u001b[0m \u001b[39m#return base.transforms3d.exp2r(v)\u001b[39;00m\n\u001b[0;32m---> <a href='vscode-notebook-cell:/home/jules/Documents/ComputerVision/GeometricMedian/main.ipynb#ch0000003?line=16'>17</a>\u001b[0m \u001b[39mreturn\u001b[39;00m SO3\u001b[39m.\u001b[39mExp(v)\n",
      "\u001b[0;31mNameError\u001b[0m: name 'SO3' is not defined"
     ]
    }
   ],
   "source": [
    "def skew(v):\n",
    "    return [\n",
    "        [0, -v[2], v[1]], \n",
    "        [v[2], 0, -v[0],\n",
    "        [-v[1], v[0], 0]]\n",
    "        ]\n",
    "\n",
    "def vee(W):\n",
    "    return [-W[1][2], W[0][2], -W[0][1]]\n",
    "\n",
    "def R3_to_S03(v):\n",
    "    \"\"\"\n",
    "    aka exponential map (TODO confirm)\n",
    "    v is an axis-angle\n",
    "    \"\"\"\n",
    "    #return base.transforms3d.exp2r(v)\n",
    "    return SO3.Exp(v)\n",
    "\n",
    "R3_to_S03([3.14, 0, 0])"
   ]
  },
  {
   "cell_type": "code",
   "execution_count": null,
   "metadata": {},
   "outputs": [
    {
     "data": {
      "text/plain": [
       "[0.2, 0.0, -0.0]"
      ]
     },
     "execution_count": 36,
     "metadata": {},
     "output_type": "execute_result"
    }
   ],
   "source": [
    "def SO3_to_R3(R, S):\n",
    "    \"\"\"\n",
    "    log map centered in S\n",
    "    matrix to axis angle\n",
    "    \"\"\"\n",
    "    v_skew = (R * S.inv()).log()\n",
    "    return vee(v_skew)\n",
    "    \n",
    "R = SO3.Rx(0.3)\n",
    "S = SO3.Rx(0.1)\n",
    "w = SO3_to_R3(R, S)\n",
    "w\n"
   ]
  },
  {
   "cell_type": "code",
   "execution_count": null,
   "metadata": {},
   "outputs": [
    {
     "data": {
      "text/plain": [
       "[0.2, 0.0, -0.0]"
      ]
     },
     "execution_count": 40,
     "metadata": {},
     "output_type": "execute_result"
    }
   ],
   "source": [
    "SO3_to_R3(R3_to_S03(w), SO3())"
   ]
  },
  {
   "cell_type": "markdown",
   "metadata": {},
   "source": []
  },
  {
   "cell_type": "code",
   "execution_count": null,
   "metadata": {},
   "outputs": [
    {
     "data": {
      "text/plain": [
       "(2.433629385640827, array([1., 0., 0.]))"
      ]
     },
     "execution_count": 12,
     "metadata": {},
     "output_type": "execute_result"
    }
   ],
   "source": [
    "# Create a rotation matrix and get its axis-angle\n",
    "from spatialmath import SO3, base\n",
    "R = base.transforms3d.angvec2r(15, [1.0,0,0])\n",
    "base.transforms3d.tr2angvec(R)"
   ]
  },
  {
   "cell_type": "code",
   "execution_count": null,
   "metadata": {},
   "outputs": [
    {
     "data": {
      "text/plain": [
       "   1         0         0         \n",
       "   0         0.9801   -0.1987    \n",
       "   0         0.1987    0.9801    \n"
      ]
     },
     "execution_count": 24,
     "metadata": {},
     "output_type": "execute_result"
    }
   ],
   "source": [
    "x = SO3.Rx(0.3)\n",
    "s = SO3.Rx(0.1)\n",
    "v_skew = (x * s.inv()).log() # Log centered in S\n",
    "SO3.Exp(v_skew) # Exp\n",
    "# "
   ]
  }
 ],
 "metadata": {
  "kernelspec": {
   "display_name": "Python 3.8.10 64-bit",
   "language": "python",
   "name": "python3"
  },
  "language_info": {
   "codemirror_mode": {
    "name": "ipython",
    "version": 3
   },
   "file_extension": ".py",
   "mimetype": "text/x-python",
   "name": "python",
   "nbconvert_exporter": "python",
   "pygments_lexer": "ipython3",
   "version": "3.8.10"
  },
  "orig_nbformat": 4,
  "vscode": {
   "interpreter": {
    "hash": "916dbcbb3f70747c44a77c7bcd40155683ae19c65e1c03b4aa3499c5328201f1"
   }
  }
 },
 "nbformat": 4,
 "nbformat_minor": 2
}
