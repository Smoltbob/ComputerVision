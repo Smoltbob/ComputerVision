{
 "cells": [
  {
   "cell_type": "markdown",
   "metadata": {},
   "source": [
    "# Geometric Mean\n",
    "## L2 Mean in $\\mathbb{R}^N$\n",
    "\n",
    "## L1 Mean \n",
    "### In $\\mathbb{R}^N$\n",
    "Sources :\n",
    "- Paper\n",
    "- [Wikipedia](https://en.wikipedia.org/wiki/Geometric_median])\n",
    "\n",
    "\n",
    "The $L_1$ mean of a set of points $x_i$  in some metric space is the point $\\bar x$ that minimizes the sum of distances to the points. In practice, it corresponds to the median.\n",
    "Thus, \n",
    "$$ \\bar x = argmin \\sum_{i=1}^{n}d(x, x_i) $$\n",
    "\n",
    "Compared to the $L_2$ norm, there is no known explicit formula for the $L_1$ norm. There are however iterative procedures, making use of the fact that the sum of the distances to the samples points is a convex function, since the distance to each function point is convex, and therefore their sum is convex.\n",
    "\n",
    "One common approach of this type, called Weiszfeld's algorithm is a form of iteratively re-weighted least squares. his algorithm defines a set of weights that are inversely proportional to the distances from the current estimate to the sample points, and creates a new estimate that is the weighted average of the sample according to these weights. \n",
    "\n",
    "### Weiszfeld's algorithm\n",
    "The $L_1$ mean of a set of points in $\\mathbb{R}^N$ may be written as the point $\\bar x$ that minimizes the cost function\n",
    "\n",
    "$$\n",
    "C(y) = \\sum_{i=1}^{n}||y-x_i||\n",
    "$$\n",
    "\n",
    "As we saw, $C(y)$ is convex, so we know a gradient descent approach is guaranteed to converge. The gradient of the cost function is\n",
    "\n",
    "$$\n",
    "\\nabla_C = - \\sum_{i=1}^{n} \\frac{x_i - y}{||x_i - y||}\n",
    "$$\n",
    "\n",
    "In other words, $\\nabla_C$ is the sum of the unit vectors directed from $y$ to each of the points $x_i$.\n",
    "\n",
    "Given a current estimate $y^t$, the iteration step is thus\n",
    "\n",
    "$$\n",
    "y^{t+1} = y^{t} + \\lambda \\sum_{i=1}^{n} \\frac{x_i - y^t}{||x_i - y^t||}\n",
    "$$\n",
    "\n",
    "Where $\\lambda > 0$, which  is proposed to be $\\lambda = \\lambda \\sum_{i=1}^{n} ||x_i - y^t||$.\n",
    "\n",
    "The iteration step becomes:\n",
    "\n",
    "$$\n",
    "y^{t+1} = \\frac{\\sum_{i=1}^{n} \\frac{x_i}{||x_i - y^t||}}{\\sum_{i=1}^{n} \\frac{1}{||x_i - y^t||}}\n",
    "$$\n",
    "\n",
    "As long as the intermediate iterates $y_i^t$ do not coincide with any of the points $x_i$, this algorithm will provably converge. If it gets stuck, a strategy is to displace the iterate $y^t$ slightly and continue.\n",
    "\n"
   ]
  },
  {
   "cell_type": "code",
   "execution_count": 50,
   "metadata": {},
   "outputs": [
    {
     "name": "stdout",
     "output_type": "stream",
     "text": [
      "[[2.00000000e+00 2.00000000e+00 2.00000000e+00]\n",
      " [2.00000000e+00 2.00000000e+00 2.00000000e+00]\n",
      " [2.00000000e+00 2.00000000e+00 2.00000000e+00]\n",
      " [2.00000000e+00 2.00000000e+00 2.00000000e+00]\n",
      " [2.00000000e+00 2.00000000e+00 2.00000000e+00]\n",
      " [2.00000000e+00 2.00000000e+00 2.00000000e+00]\n",
      " [5.64549674e-01 1.73809682e-03 9.82461762e-01]\n",
      " [8.61295154e-01 4.99580178e-01 6.83416002e-01]\n",
      " [6.95012347e-01 3.43202774e-01 1.02520765e-01]\n",
      " [4.91735739e-01 1.20928220e-01 5.98697382e-01]]\n"
     ]
    },
    {
     "data": {
      "text/plain": [
       "array([2., 2., 2.])"
      ]
     },
     "execution_count": 50,
     "metadata": {},
     "output_type": "execute_result"
    }
   ],
   "source": [
    "import numpy as np\n",
    "def Weiszfeld(elements: list):\n",
    "    # Temporarily, we initialize with a random value\n",
    "    # TODO provide an \"average\" function for initialization\n",
    "    y = np.random.rand(*elements[0].shape)\n",
    "    # TODO define convergence\n",
    "    for _ in range(100):\n",
    "        numerator = 0\n",
    "        denumerator = 0\n",
    "        for xi in elements:\n",
    "            X = np.linalg.norm(xi - y)\n",
    "            numerator += xi / X\n",
    "            denumerator += 1 / X\n",
    "        y = numerator / denumerator\n",
    "    return y\n",
    "\n",
    "def test_Weiszfeld():\n",
    "    random_r3 = np.random.rand(10, 3)\n",
    "    random_r3[:6] = [2,2,2]\n",
    "    print(random_r3)\n",
    "    return Weiszfeld(random_r3)\n",
    "\n",
    "test_Weiszfeld()"
   ]
  },
  {
   "cell_type": "markdown",
   "metadata": {},
   "source": [
    "### In S03\n",
    "We are now interested in computing the L1 geometric mean in the group of rotations SO(3), and we call it the geodesic median.\n",
    "To be able to apply the Weiszfeld algorithm, we need to transition back and forth between the rotation manifold and its tangent space at centered at the current estimate.\n",
    "\n",
    "#### Defining the mappings\n",
    "##### Exponential map $\\mathbb{R}^N$ to SO3\n",
    "Consider a rotation $R$ in its axis-angle representation $v = \\theta \\hat v$. Writing $[v]_\\times$ to be the $3 \\times 3$ skew-symetric matrix corresponding to $v$, we have $R = exp([v]_\\times)$."
   ]
  },
  {
   "cell_type": "code",
   "execution_count": 37,
   "metadata": {},
   "outputs": [
    {
     "data": {
      "text/plain": [
       "   1         0         0         \n",
       "   0        -1        -0.001593  \n",
       "   0         0.001593 -1         \n"
      ]
     },
     "execution_count": 37,
     "metadata": {},
     "output_type": "execute_result"
    }
   ],
   "source": [
    "def skew(v):\n",
    "    return [\n",
    "        [0, -v[2], v[1]], \n",
    "        [v[2], 0, -v[0],\n",
    "        [-v[1], v[0], 0]]\n",
    "        ]\n",
    "\n",
    "def vee(W):\n",
    "    return [-W[1][2], W[0][2], -W[0][1]]\n",
    "\n",
    "def R3_to_S03(v):\n",
    "    \"\"\"\n",
    "    aka exponential map (TODO confirm)\n",
    "    v is an axis-angle\n",
    "    \"\"\"\n",
    "    #return base.transforms3d.exp2r(v)\n",
    "    return SO3.Exp(v)\n",
    "\n",
    "R3_to_S03([3.14, 0, 0])"
   ]
  },
  {
   "cell_type": "code",
   "execution_count": 36,
   "metadata": {},
   "outputs": [
    {
     "data": {
      "text/plain": [
       "[0.2, 0.0, -0.0]"
      ]
     },
     "execution_count": 36,
     "metadata": {},
     "output_type": "execute_result"
    }
   ],
   "source": [
    "def SO3_to_R3(R, S):\n",
    "    \"\"\"\n",
    "    log map centered in S\n",
    "    matrix to axis angle\n",
    "    \"\"\"\n",
    "    v_skew = (R * S.inv()).log()\n",
    "    return vee(v_skew)\n",
    "    \n",
    "R = SO3.Rx(0.3)\n",
    "S = SO3.Rx(0.1)\n",
    "w = SO3_to_R3(R, S)\n",
    "w\n"
   ]
  },
  {
   "cell_type": "code",
   "execution_count": 40,
   "metadata": {},
   "outputs": [
    {
     "data": {
      "text/plain": [
       "[0.2, 0.0, -0.0]"
      ]
     },
     "execution_count": 40,
     "metadata": {},
     "output_type": "execute_result"
    }
   ],
   "source": [
    "SO3_to_R3(R3_to_S03(w), SO3())"
   ]
  },
  {
   "cell_type": "markdown",
   "metadata": {},
   "source": []
  },
  {
   "cell_type": "code",
   "execution_count": 12,
   "metadata": {},
   "outputs": [
    {
     "data": {
      "text/plain": [
       "(2.433629385640827, array([1., 0., 0.]))"
      ]
     },
     "execution_count": 12,
     "metadata": {},
     "output_type": "execute_result"
    }
   ],
   "source": [
    "# Create a rotation matrix and get its axis-angle\n",
    "from spatialmath import SO3, base\n",
    "R = base.transforms3d.angvec2r(15, [1.0,0,0])\n",
    "base.transforms3d.tr2angvec(R)"
   ]
  },
  {
   "cell_type": "code",
   "execution_count": 24,
   "metadata": {},
   "outputs": [
    {
     "data": {
      "text/plain": [
       "   1         0         0         \n",
       "   0         0.9801   -0.1987    \n",
       "   0         0.1987    0.9801    \n"
      ]
     },
     "execution_count": 24,
     "metadata": {},
     "output_type": "execute_result"
    }
   ],
   "source": [
    "x = SO3.Rx(0.3)\n",
    "s = SO3.Rx(0.1)\n",
    "v_skew = (x * s.inv()).log() # Log centered in S\n",
    "SO3.Exp(v_skew) # Exp\n",
    "# "
   ]
  },
  {
   "cell_type": "code",
   "execution_count": 15,
   "metadata": {},
   "outputs": [],
   "source": []
  },
  {
   "cell_type": "markdown",
   "metadata": {},
   "source": [
    "###### SO3 to $\\mathbb{R}^N$\n",
    "The inverse map is the log."
   ]
  },
  {
   "cell_type": "code",
   "execution_count": null,
   "metadata": {},
   "outputs": [],
   "source": [
    "def log_S(R):\n",
    "    \"\"\"\n",
    "    Returns the mapping from SO3 to R3 centered in S.\n",
    "    aka log(RS^-1)\n",
    "    \"\"\"\n"
   ]
  },
  {
   "cell_type": "markdown",
   "metadata": {},
   "source": []
  },
  {
   "cell_type": "markdown",
   "metadata": {},
   "source": []
  }
 ],
 "metadata": {
  "kernelspec": {
   "display_name": "Python 3.8.10 64-bit",
   "language": "python",
   "name": "python3"
  },
  "language_info": {
   "codemirror_mode": {
    "name": "ipython",
    "version": 3
   },
   "file_extension": ".py",
   "mimetype": "text/x-python",
   "name": "python",
   "nbconvert_exporter": "python",
   "pygments_lexer": "ipython3",
   "version": "3.8.10"
  },
  "orig_nbformat": 4,
  "vscode": {
   "interpreter": {
    "hash": "916dbcbb3f70747c44a77c7bcd40155683ae19c65e1c03b4aa3499c5328201f1"
   }
  }
 },
 "nbformat": 4,
 "nbformat_minor": 2
}
