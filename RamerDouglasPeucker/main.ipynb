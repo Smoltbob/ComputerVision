{
 "cells": [
  {
   "cell_type": "markdown",
   "metadata": {},
   "source": [
    "# Ramer Douglas Peucker Algorithm\n",
    "It is used to decimate a curve composed of line segments (also known as polyline).\n",
    "The algorithm minimizes the distance between the original curve and the simplified curve. The simplified curve consists of a subset of the points that defined the original curve.\n",
    "\n",
    "## Hausdorff distance\n",
    "It measures how far two subsets of a metric space are from each other."
   ]
  },
  {
   "cell_type": "markdown",
   "metadata": {},
   "source": [
    "## Algorithm\n",
    "The starting curve is an ordered set of points or lines.\n",
    "\n",
    "The algorithm recursively divides the line.\n",
    "Initially it is given all the points between the first and the last point. \n",
    "The first and last points are marked to be kept.\n",
    "\n",
    "It then finds the point that is farthest from the line segment that connect the first and last points.\n",
    "- If that point is closest than a given distance $\\epsilon > 0$ from the line, the point is removed.\n",
    "- If it is farthest than $\\epsilon$ from the line, it is kept and the curve is split into two parts along that point."
   ]
  },
  {
   "cell_type": "markdown",
   "metadata": {},
   "source": [
    "# Input data\n",
    "We define our input data as an ordered list of 2D points."
   ]
  },
  {
   "cell_type": "code",
   "execution_count": null,
   "metadata": {},
   "outputs": [],
   "source": [
    " # source: https://karthaus.nl/rdp/\n",
    "def DouglasPeucker(PointList, epsilon):\n",
    "    # Find the point with the maximum distance\n",
    "    dmax = 0\n",
    "    index = 0\n",
    "    end = len(PointList)\n",
    "    for i in range(2, end):\n",
    "        d = perpendicularDistance(PointList[i], Line(PointList[1], PointList[end])) \n",
    "        if (d > dmax):\n",
    "            index = i\n",
    "            dmax = d\n",
    "\n",
    "    ResultList = []\n",
    "\n",
    "    # If max distance is greater than epsilon, recursively simplify\n",
    "    if (dmax > epsilon) :\n",
    "        # Recursive call\n",
    "        recResults1[] = DouglasPeucker(PointList[1...index], epsilon)\n",
    "        recResults2[] = DouglasPeucker(PointList[index...end], epsilon)\n",
    "\n",
    "        # Build the result list\n",
    "        ResultList[] = {recResults1[1...length(recResults1) - 1], recResults2[1...length(recResults2)]}\n",
    "    else: \n",
    "        ResultList[] = {PointList[1], PointList[end]}\n",
    "    \n",
    "    # Return the result\n",
    "    return ResultList"
   ]
  }
 ],
 "metadata": {
  "language_info": {
   "name": "python"
  },
  "orig_nbformat": 4
 },
 "nbformat": 4,
 "nbformat_minor": 2
}
