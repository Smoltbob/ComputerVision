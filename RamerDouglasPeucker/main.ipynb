{
 "cells": [
  {
   "cell_type": "markdown",
   "metadata": {},
   "source": [
    "# Ramer Douglas Peucker Algorithm\n",
    "It is used to decimate a curve composed of line segments (also known as polyline).\n",
    "The algorithm minimizes the distance between the original curve and the simplified curve. The simplified curve consists of a subset of the points that defined the original curve.\n",
    "\n",
    "## Hausdorff distance\n",
    "It measures how far two subsets of a metric space are from each other."
   ]
  },
  {
   "cell_type": "markdown",
   "metadata": {},
   "source": [
    "## Algorithm\n",
    "The algorithm starts by defining a tolerance $\\epsilon$. Essentially, the algorithm works by discarding any point that is closer than $\\epsilon$ to the \"reference line\".\n",
    "\n",
    "The reference line is simply the line connecting the starting and end point of the whole set.\n",
    "\n",
    "If a point is farther from the reference line than $\\epsilon$ then it is important enough and must be kept. When deciding to keep it, we effectively divide the set of points in two, thus creating two reference lines to consider.\n",
    "We continue this way in a divide an conquer fashion, with the following termination criteria:\n",
    "- The set of points considered only has two points.\n",
    "\n",
    "Note that if all of the points in the set are closer to the reference line than $\\epsilon$, then they are all discarded and we reach the termination criteria."
   ]
  },
  {
   "cell_type": "markdown",
   "metadata": {},
   "source": [
    "# Input data\n",
    "We define our input data as an ordered list of 2D points."
   ]
  },
  {
   "cell_type": "code",
   "execution_count": 1,
   "metadata": {},
   "outputs": [],
   "source": [
    "import sys\n",
    "\n",
    "sys.path.append(\"../2DProjectiveGeometry\")\n",
    "from geometry import *\n",
    "\n",
    "def get_data():\n",
    "    \"\"\"\n",
    "    Hand-produce some points\n",
    "    \"\"\"\n",
    "    data = [\n",
    "        [0, 0],\n",
    "        [2, 3],\n",
    "        [3, 2],\n",
    "        [4, 0],\n",
    "        [7, 1],\n",
    "        [9, 2],\n",
    "        [10, 3],\n",
    "        [12, 4],\n",
    "        [13, 2],\n",
    "        [14, 1],\n",
    "        [16, 0]\n",
    "    ]\n",
    "    return data\n",
    "\n",
    "data = get_data()\n",
    "point_set = [InhomogeneousPoint(x) for x in data]\n"
   ]
  },
  {
   "cell_type": "code",
   "execution_count": 2,
   "metadata": {},
   "outputs": [
    {
     "name": "stdout",
     "output_type": "stream",
     "text": [
      "0.0\n",
      "3.0\n",
      "2.0\n",
      "0.0\n",
      "1.0\n",
      "2.0\n",
      "3.0\n",
      "4.0\n",
      "2.0\n",
      "1.0\n",
      "0.0\n"
     ]
    }
   ],
   "source": [
    " # source: https://karthaus.nl/rdp/\n",
    "def DouglasPeucker(point_set, epsilon):\n",
    "    # Find the point with the maximum distance\n",
    "    ref_line = Line([0,0,0])\n",
    "    ref_line.line_from_points(point_set[0], point_set[-1])\n",
    "    for i, point in enumerate(point_set):\n",
    "        print(Utils.distance_line_point(ref_line, point))\n",
    "\n",
    "    \"\"\"\n",
    "    dmax = 0\n",
    "    index = 0\n",
    "    end = len(PointList)\n",
    "    for i in range(2, end):\n",
    "        d = perpendicularDistance(PointList[i], Line(PointList[1], PointList[end])) \n",
    "        if (d > dmax):\n",
    "            index = i\n",
    "            dmax = d\n",
    "\n",
    "    ResultList = []\n",
    "\n",
    "    # If max distance is greater than epsilon, recursively simplify\n",
    "    if (dmax > epsilon) :\n",
    "        # Recursive call\n",
    "        recResults1[] = DouglasPeucker(PointList[1...index], epsilon)\n",
    "        recResults2[] = DouglasPeucker(PointList[index...end], epsilon)\n",
    "\n",
    "        # Build the result list\n",
    "        ResultList[] = {recResults1[1...length(recResults1) - 1], recResults2[1...length(recResults2)]}\n",
    "    else: \n",
    "        ResultList[] = {PointList[1], PointList[end]}\n",
    "    \n",
    "    # Return the result\n",
    "    return ResultList\n",
    "    \"\"\"\n",
    "\n",
    "DouglasPeucker(point_set, 0)"
   ]
  }
 ],
 "metadata": {
  "kernelspec": {
   "display_name": "Python 3.8.10 64-bit",
   "language": "python",
   "name": "python3"
  },
  "language_info": {
   "codemirror_mode": {
    "name": "ipython",
    "version": 3
   },
   "file_extension": ".py",
   "mimetype": "text/x-python",
   "name": "python",
   "nbconvert_exporter": "python",
   "pygments_lexer": "ipython3",
   "version": "3.8.10"
  },
  "orig_nbformat": 4,
  "vscode": {
   "interpreter": {
    "hash": "916dbcbb3f70747c44a77c7bcd40155683ae19c65e1c03b4aa3499c5328201f1"
   }
  }
 },
 "nbformat": 4,
 "nbformat_minor": 2
}
