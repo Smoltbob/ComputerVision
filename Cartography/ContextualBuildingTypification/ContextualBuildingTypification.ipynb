{
 "cells": [
  {
   "cell_type": "markdown",
   "metadata": {},
   "source": [
    "# Running this notebook\n",
    "`bazel build Cartography:jupyter && ./bazel-bin/Cartography/jupyter`\n",
    "\n",
    "# Contextual Building Typification in Automated Map Generalization\n",
    "## Definitions\n",
    "Cartographic generalization is an abstraction process that seeks to reduce the quantity of information in accordance with particular objectives. Here we care about scale, which means that the objective is to increase legibility. \n",
    "\n",
    "When generalizing buildings it is important to maintain:\n",
    "1. Legibility\n",
    "2. The visual identiy of each building\n",
    "3. The pattern among a local group of buildings\n",
    "4. The overal density of buildings across a region of the map.\n",
    "\n",
    "## Legibility constraints\n",
    "They ensure that the map will be readable. Legibility depends on size, contrast, brightness, etc. Legibility constraints can be divided into three classes:\n",
    "1. *Perception* specifies  constraints on the sizes of objects or on their details. For instance: minimum size of a building or minimum edge size.\n",
    "2. *Separation*\n",
    "\n",
    "# Input"
   ]
  }
 ],
 "metadata": {
  "kernelspec": {
   "display_name": "Python 3 (ipykernel)",
   "language": "python",
   "name": "python3"
  },
  "language_info": {
   "codemirror_mode": {
    "name": "ipython",
    "version": 3
   },
   "file_extension": ".py",
   "mimetype": "text/x-python",
   "name": "python",
   "nbconvert_exporter": "python",
   "pygments_lexer": "ipython3",
   "version": "3.9.13"
  },
  "vscode": {
   "interpreter": {
    "hash": "a69d40d4541aa5b8653f6b4004427542deb1ae314227ba25ee4a7524cf82509a"
   }
  }
 },
 "nbformat": 4,
 "nbformat_minor": 2
}
