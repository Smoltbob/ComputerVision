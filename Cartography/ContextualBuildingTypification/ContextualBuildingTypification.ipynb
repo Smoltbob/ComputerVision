{
 "cells": [
  {
   "cell_type": "markdown",
   "metadata": {},
   "source": [
    "# Running this notebook\n",
    "`bazel build Cartography:jupyter && ./bazel-bin/Cartography/jupyter`\n",
    "\n",
    "# Contextual Building Typification in Automated Map Generalization\n",
    "## Definitions\n",
    "Cartographic generalization is an abstraction process that seeks to reduce the quantity of information in accordance with particular objectives. Here we care about scale, which means that the objective is to increase legibility. \n",
    "\n",
    "When generalizing buildings it is important to maintain:\n",
    "1. Legibility\n",
    "2. The visual identiy of each building\n",
    "3. The pattern among a local group of buildings\n",
    "4. The overal density of buildings across a region of the map.\n",
    "\n",
    "## Legibility constraints\n",
    "They ensure that the map will be readable. Legibility depends on size, contrast, brightness, etc. Legibility constraints can be divided into three classes:\n",
    "1. *Perception* specifies  constraints on the sizes of objects or on their details. For instance: minimum size of a building or minimum edge size.\n",
    "2. *Separation* specifies the minimum distance between two features.\n",
    "3. *Maximum density* specifies the number of objects per unit area, and affects local readability.\n",
    "\n",
    "These constraints can conflict with one another: for instance increasing the distance between objects and maintaining the density forces us to reduce their size. In order to help resolve theses conflicts, three criteria are defined:\n",
    "1. *Visual identity* consists in making sure buildings can still be identified. \n",
    "    1. *The shape* should be respected. Buildings usually have orthogonal angles, which may need to be protected or restored after distortions.\n",
    "    2. *The size* of a building gives important information about its type.\n",
    "    3. *The color* also gives information about type.\n",
    "2. *Spatial organization*, also called gestalt, can be specified with three constraints:\n",
    "    1. *Proximity* is very important for identifying groups (= objects close together).\n",
    "    2. *Similarity* allows us to group similar-looking objects, using for instance shape, size or orientation.\n",
    "    3. *Continuity* is important for identifying objects having a linear disposition, for instance along a road.\n",
    "3. *Homogeneity* must always be respected. For instance, we want to keep the fact that building density decreases as we move away from the city center.\n",
    "\n",
    "## Methodology\n",
    "Our goal is to derive a representation of buildings at a target scale, from a source map.\n",
    "To do so by respecting the aforementioned constraints we can use the following approach:\n",
    "1. Partition the source set of buildings into groups that are visually distinguishable.\n",
    "2. \n",
    "\n",
    "\n",
    "# Input"
   ]
  },
  {
   "cell_type": "code",
   "execution_count": null,
   "metadata": {},
   "outputs": [],
   "source": []
  }
 ],
 "metadata": {
  "kernelspec": {
   "display_name": "Python 3 (ipykernel)",
   "language": "python",
   "name": "python3"
  },
  "language_info": {
   "codemirror_mode": {
    "name": "ipython",
    "version": 3
   },
   "file_extension": ".py",
   "mimetype": "text/x-python",
   "name": "python",
   "nbconvert_exporter": "python",
   "pygments_lexer": "ipython3",
   "version": "3.9.13"
  },
  "vscode": {
   "interpreter": {
    "hash": "a69d40d4541aa5b8653f6b4004427542deb1ae314227ba25ee4a7524cf82509a"
   }
  }
 },
 "nbformat": 4,
 "nbformat_minor": 2
}
