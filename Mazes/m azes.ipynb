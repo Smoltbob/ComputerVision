{
 "cells": [
  {
   "cell_type": "markdown",
   "metadata": {},
   "source": [
    "# Running this notebook\n",
    "`bazel build Mazes:jupyter && ./bazel-bin/Mazes/jupyter`\n",
    "\n",
    "## Cells\n",
    "Cells are the unit blocks of a maze. Cells can be connected (we can walk through them) or not (there is a wall). In a typical maze, cells are laid out in a grid. \n",
    "\n",
    "Observe that the notion of cells being connected or not is not necessarily directly related to the fact that they are next to each other.\n",
    "\n",
    "We can start by thinking of cells of a 2D grid.\n",
    "Thus each cell have the following attributes:\n",
    "- Location x,y in the grid\n",
    "- Connections (in the four directions) to neighbors\n",
    "\n",
    "## Defining a grid\n",
    "In order to draw mazes we need a grid. It must be able to satisfy the following requirements:\n",
    "- I can initialize a rectangular grid of given dimensions\n",
    "- I can access individual cells of a grid using their coordinates\n",
    "    - Q: what happens when we go out of bounds?\n",
    "- I can iterate through the grid\n",
    "- I must be able to access the neighbors of a cell (ie cells it is connected to)"
   ]
  },
  {
   "cell_type": "code",
   "execution_count": 5,
   "metadata": {},
   "outputs": [
    {
     "ename": "ImportError",
     "evalue": "/home/jules/documents/code/ComputerVision/bazel-bin/Mazes/jupyter.runfiles/__main__/Mazes/pybind/cell.so: undefined symbol: _ZN4CellC1Ev",
     "output_type": "error",
     "traceback": [
      "\u001b[0;31m---------------------------------------------------------------------------\u001b[0m",
      "\u001b[0;31mImportError\u001b[0m                               Traceback (most recent call last)",
      "Cell \u001b[0;32mIn [5], line 1\u001b[0m\n\u001b[0;32m----> 1\u001b[0m \u001b[38;5;28;01mimport\u001b[39;00m \u001b[38;5;21;01mMazes\u001b[39;00m\u001b[38;5;21;01m.\u001b[39;00m\u001b[38;5;21;01mpybind\u001b[39;00m\u001b[38;5;21;01m.\u001b[39;00m\u001b[38;5;21;01mcell\u001b[39;00m\n",
      "\u001b[0;31mImportError\u001b[0m: /home/jules/documents/code/ComputerVision/bazel-bin/Mazes/jupyter.runfiles/__main__/Mazes/pybind/cell.so: undefined symbol: _ZN4CellC1Ev"
     ]
    }
   ],
   "source": [
    "import Mazes.pybind.cell"
   ]
  },
  {
   "cell_type": "code",
   "execution_count": 4,
   "metadata": {},
   "outputs": [
    {
     "ename": "NameError",
     "evalue": "name 'pybind' is not defined",
     "output_type": "error",
     "traceback": [
      "\u001b[0;31m---------------------------------------------------------------------------\u001b[0m",
      "\u001b[0;31mNameError\u001b[0m                                 Traceback (most recent call last)",
      "Cell \u001b[0;32mIn [4], line 1\u001b[0m\n\u001b[0;32m----> 1\u001b[0m help(\u001b[43mpybind\u001b[49m)\n",
      "\u001b[0;31mNameError\u001b[0m: name 'pybind' is not defined"
     ]
    }
   ],
   "source": []
  },
  {
   "cell_type": "code",
   "execution_count": null,
   "metadata": {},
   "outputs": [],
   "source": []
  }
 ],
 "metadata": {
  "kernelspec": {
   "display_name": "Python 3 (ipykernel)",
   "language": "python",
   "name": "python3"
  },
  "language_info": {
   "codemirror_mode": {
    "name": "ipython",
    "version": 3
   },
   "file_extension": ".py",
   "mimetype": "text/x-python",
   "name": "python",
   "nbconvert_exporter": "python",
   "pygments_lexer": "ipython3",
   "version": "3.9.13"
  },
  "vscode": {
   "interpreter": {
    "hash": "a69d40d4541aa5b8653f6b4004427542deb1ae314227ba25ee4a7524cf82509a"
   }
  }
 },
 "nbformat": 4,
 "nbformat_minor": 2
}
