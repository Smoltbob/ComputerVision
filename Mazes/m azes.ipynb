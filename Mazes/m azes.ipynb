{
 "cells": [
  {
   "cell_type": "markdown",
   "metadata": {},
   "source": [
    "# Running this notebook\n",
    "`bazel build Mazes:jupyter && ./bazel-bin/Mazes/jupyter`\n",
    "\n",
    "## Defining a grid\n",
    "In order to draw mazes we need a grid. It must be able to satisfy the following requirements:\n",
    "- I can initialize a rectangular grid of given dimensions\n",
    "- I can access individual cells of a grid using their coordinates\n",
    "    - Q: what happens when we go out of bounds?\n",
    "- I can iterate through the grid\n",
    "- I must be able to access the neighbors of a cell"
   ]
  }
 ],
 "metadata": {
  "kernelspec": {
   "display_name": "Python 3 (ipykernel)",
   "language": "python",
   "name": "python3"
  },
  "language_info": {
   "codemirror_mode": {
    "name": "ipython",
    "version": 3
   },
   "file_extension": ".py",
   "mimetype": "text/x-python",
   "name": "python",
   "nbconvert_exporter": "python",
   "pygments_lexer": "ipython3",
   "version": "3.9.13"
  },
  "vscode": {
   "interpreter": {
    "hash": "a69d40d4541aa5b8653f6b4004427542deb1ae314227ba25ee4a7524cf82509a"
   }
  }
 },
 "nbformat": 4,
 "nbformat_minor": 2
}
