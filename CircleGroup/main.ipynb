{
 "cells": [
  {
   "cell_type": "markdown",
   "metadata": {},
   "source": [
    "# The Circle Group\n",
    "The circle group is the multiplicative group $\\mathbb{S}^1$ of all complex numbers with absolute value 1, ie the unit circle in the complex plane.\n",
    "$$\\mathbb{S}^1 = \\{ z \\in \\mathbb C : |z| = 1 \\}.$$\n",
    "\n",
    "\n",
    "## $\\mathbb{U}(1)$\n",
    "The circle group is also the group $\\mathbb{U}(1)$ of $1 \\times 1$ complex-valued unitary matrices, that act on the complex plane by rotation about the origin.\n",
    "\n",
    "In linear algebra, a complex square matrix $U$ is unitary if its conjugate transpose $U*$ is also its inverse. It is the complex analogue to an orthogonal matrix.\n",
    "\n",
    "Unitary matrices preserve norms.\n",
    "\n",
    "## Exponential map\n",
    "The circle group can be parametrized by the angle $\\theta$ of rotation (in radians, counterclockwise from the positive x axis) by $\\theta \\mapsto z = e^{i\\theta} = \\cos\\theta + i\\sin\\theta,$ which is its exponent map $\\exp : \\mathbb R \\to \\mathbb{S}^1$, ie from the additive real numbers to the multiplicative circle group.\n",
    "\n",
    "The multiplication of complex numbers corresponds to the addition of angles : $e^{i\\theta_1}e^{i\\theta_2} = e^{i(\\theta_1+\\theta_2)}.$\n",
    "\n",
    "## Log map\n",
    "\n",
    "\n",
    "\n",
    "## $\\operatorname{SO}(2)$\n",
    "The circle group is isomorphic to the special orthogonal group $\\operatorname{SO}(2)$.\n",
    "\n",
    "In fact we can represent complex numbers as $2 \\times 2$ real matrices, and then the unit complex numbers correspond to $2 \\times 2$ orthogonal matrices with unit determinant.\n",
    "\n",
    "$$\n",
    "e^{i\\theta} \\leftrightarrow \\begin{bmatrix}\n",
    "\\cos \\theta & -\\sin \\theta \\\\\n",
    "\\sin \\theta &  \\cos \\theta \\\\\n",
    "\\end{bmatrix} \n",
    "$$\n",
    "\n",
    "And multiplying the matrices is equivalent to adding the angles.\n"
   ]
  },
  {
   "cell_type": "markdown",
   "metadata": {},
   "source": []
  },
  {
   "cell_type": "code",
   "execution_count": 1,
   "metadata": {},
   "outputs": [],
   "source": [
    "from CircleGroup import *"
   ]
  },
  {
   "cell_type": "code",
   "execution_count": 2,
   "metadata": {},
   "outputs": [
    {
     "name": "stdout",
     "output_type": "stream",
     "text": [
      "S1: 0.5 rads\n"
     ]
    }
   ],
   "source": [
    "s1a = S1(0.5)\n",
    "print(s1a)"
   ]
  },
  {
   "cell_type": "code",
   "execution_count": 4,
   "metadata": {},
   "outputs": [
    {
     "name": "stdout",
     "output_type": "stream",
     "text": [
      "0.5\n"
     ]
    }
   ],
   "source": [
    "angle = s1a.log_map()\n",
    "print(angle)"
   ]
  },
  {
   "cell_type": "code",
   "execution_count": 5,
   "metadata": {},
   "outputs": [
    {
     "data": {
      "text/plain": [
       "S1: 0.5 rads"
      ]
     },
     "execution_count": 5,
     "metadata": {},
     "output_type": "execute_result"
    }
   ],
   "source": [
    "S1.exp_map(angle)"
   ]
  },
  {
   "cell_type": "code",
   "execution_count": null,
   "metadata": {},
   "outputs": [],
   "source": []
  }
 ],
 "metadata": {
  "kernelspec": {
   "display_name": "Python 3.8.10 64-bit",
   "language": "python",
   "name": "python3"
  },
  "language_info": {
   "codemirror_mode": {
    "name": "ipython",
    "version": 3
   },
   "file_extension": ".py",
   "mimetype": "text/x-python",
   "name": "python",
   "nbconvert_exporter": "python",
   "pygments_lexer": "ipython3",
   "version": "3.8.10"
  },
  "orig_nbformat": 4,
  "vscode": {
   "interpreter": {
    "hash": "916dbcbb3f70747c44a77c7bcd40155683ae19c65e1c03b4aa3499c5328201f1"
   }
  }
 },
 "nbformat": 4,
 "nbformat_minor": 2
}
