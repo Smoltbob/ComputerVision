{
 "cells": [
  {
   "cell_type": "markdown",
   "id": "10a2754d",
   "metadata": {},
   "source": [
    "# How to run this notebook\n",
    "`bazel build  lib/GaussianFilters:jupyter && ./bazel-bin/lib/GaussianFilters/jupyter`\n",
    "\n",
    "# The $\\alpha - \\beta - \\gamma$ filter\n",
    "\n",
    "\n",
    "## The $\\alpha$ filter\n",
    "- We want to estimate the state of a static system, ie a system that does not change its state over a reasonable period.\n",
    "- We also assume that our measurements have a random error, but are not biased.\n",
    "\n",
    "Such example is measuring the weight of an object. Intuitively, the easiest way to do this is to compute the average of the measurements. The problem is that it is time and memory consuming. We are looking for an iterative method.\n",
    "\n",
    "We use the following notation:\n",
    "- $x$ = true value\n",
    "- $z_n$ = measurement at time $n$\n",
    "- $\\hat{x}_{i,j}$ = estimate of state $i$ after taking measurement $j$\n",
    "\n",
    "Then we can write the average as $$\\hat{x}_{n, n} = \\frac{1}{n} \\sum^n_{i=1} z_i$$.\n",
    "\n",
    "We can rewrite this as $$\\hat{x}_{n,n} = \\hat{x}_{n, n-1} + \\frac{1}{n} (z_n - \\hat{x}_{n,n-1})$$. \n",
    "In the context of a Kalman filter, it is the **State Update Equation** and can be more generaly writen as $$\\hat{x}_{n,n} = \\hat{x}_{n, n-1} + \\alpha_n (z_n - \\hat{x}_{n,n-1})$$. \n",
    "\n",
    "In practice it means that the estimate of the current state is equal to the predicted value of the previous prediction plus a factor times the different between the current measurement and the previous estimate (= new information). \n",
    "The factor $\\alpha$ is called Kalmar gain, also written $K_n$. In our case we see that it decreases with time, ie the new information decreases."
   ]
  },
  {
   "cell_type": "code",
   "execution_count": 9,
   "id": "b3435fe3",
   "metadata": {},
   "outputs": [
    {
     "name": "stdout",
     "output_type": "stream",
     "text": [
      "State 0 : x_n_n = 1000\n",
      "State 1 : x_n_n = 1030.0\n",
      "State 2 : x_n_n = 1009.5\n",
      "State 3 : x_n_n = 1012.0\n",
      "State 4 : x_n_n = 1011.25\n",
      "State 5 : x_n_n = 1011.6\n",
      "State 6 : x_n_n = 1006.1666666666667\n",
      "State 7 : x_n_n = 1006.4285714285714\n",
      "State 8 : x_n_n = 1010.875\n",
      "State 9 : x_n_n = 1011.0\n",
      "State 10 : x_n_n = 1011.0\n"
     ]
    }
   ],
   "source": [
    "class Model:\n",
    "    @staticmethod\n",
    "    def compute_Kn(n):\n",
    "        return 1 / n\n",
    "    \n",
    "    @staticmethod\n",
    "    def state_update_equation(prev_state, factor, measurement):\n",
    "        innovation = measurement - prev_state\n",
    "        return prev_state + factor * innovation\n",
    "\n",
    "    \n",
    "model = Model()\n",
    "# Step 1: Measure\n",
    "measurements = [1000, 1030, 989, 1017, 1009, 1013, 979, 1008, 1042, 1012, 1011]\n",
    "n = 0\n",
    "x_n_n = measurements[n]\n",
    "print(f\"State {n} : x_n_n = {x_n_n}\")\n",
    "\n",
    "# Step 2: Update and predict\n",
    "for n in range(1, len(measurements)):\n",
    "    zn = measurements[n]\n",
    "    Kn = model.compute_Kn(n)\n",
    "    x_n_n_prev = x_n_n\n",
    "    x_n_n = model.state_update_equation(x_n_n_prev, Kn, zn)\n",
    "    print(f\"State {n} : x_n_n = {x_n_n}\")\n"
   ]
  },
  {
   "cell_type": "markdown",
   "id": "70b82c06",
   "metadata": {},
   "source": [
    "## $\\alpha - \\beta$ filter"
   ]
  },
  {
   "cell_type": "code",
   "execution_count": null,
   "id": "e14469a6",
   "metadata": {},
   "outputs": [],
   "source": []
  }
 ],
 "metadata": {
  "kernelspec": {
   "display_name": "Python 3 (ipykernel)",
   "language": "python",
   "name": "python3"
  },
  "language_info": {
   "codemirror_mode": {
    "name": "ipython",
    "version": 3
   },
   "file_extension": ".py",
   "mimetype": "text/x-python",
   "name": "python",
   "nbconvert_exporter": "python",
   "pygments_lexer": "ipython3",
   "version": "3.9.2"
  }
 },
 "nbformat": 4,
 "nbformat_minor": 5
}
