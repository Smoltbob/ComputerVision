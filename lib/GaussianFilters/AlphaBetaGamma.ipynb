{
 "cells": [
  {
   "cell_type": "markdown",
   "id": "10a2754d",
   "metadata": {},
   "source": [
    "# How to run this notebook\n",
    "`bazel build  lib/GaussianFilters:jupyter && ./bazel-bin/lib/GaussianFilters/jupyter`\n",
    "\n",
    "# The $\\alpha - \\beta - \\gamma$ filter\n",
    "\n",
    "\n",
    "## The $\\alpha$ filter\n",
    "- We want to estimate the state of a static system, ie a system that does not change its state over a reasonable period.\n",
    "- We also assume that our measurements have a random error, but are not biased.\n",
    "\n",
    "Such example is measuring the weight of an object. Intuitively, the easiest way to do this is to compute the average of the measurements. The problem is that it is time and memory consuming. We are looking for an iterative method.\n",
    "\n",
    "We use the following notation:\n",
    "- $x$ = true value\n",
    "- $z_n$ = measurement at time $n$\n",
    "- $\\hat{x}_{i,j}$ = estimate of state $i$ after taking measurement $j$\n",
    "\n",
    "Then we can write the average as $$\\hat{x}_{n, n} = \\frac{1}{n} \\sum^n_{i=1} z_i$$.\n",
    "\n",
    "We can rewrite this as $$\\hat{x}_{n,n} = \\hat{x}_{n, n-1} + \\frac{1}{n} (z_n - \\hat{x}_{n,n-1})$$. \n",
    "In the context of a Kalman filter, it is the **State Update Equation** and can be more generaly writen as $$\\hat{x}_{n,n} = \\hat{x}_{n, n-1} + \\alpha_n (z_n - \\hat{x}_{n,n-1})$$. \n",
    "\n",
    "In practice it means that the estimate of the current state is equal to the predicted value of the previous prediction plus a factor times the different between the current measurement and the previous estimate (= new information). \n",
    "The factor $\\alpha$ is called Kalmar gain, also written $K_n$. In our case we see that it decreases with time, ie the new information decreases."
   ]
  },
  {
   "cell_type": "code",
   "execution_count": 1,
   "id": "b3435fe3",
   "metadata": {},
   "outputs": [
    {
     "name": "stdout",
     "output_type": "stream",
     "text": [
      "State 0 : x_n_n = 1000\n",
      "State 1 : x_n_n = 1030.0\n",
      "State 2 : x_n_n = 1009.5\n",
      "State 3 : x_n_n = 1012.0\n",
      "State 4 : x_n_n = 1011.25\n",
      "State 5 : x_n_n = 1011.6\n",
      "State 6 : x_n_n = 1006.1666666666667\n",
      "State 7 : x_n_n = 1006.4285714285714\n",
      "State 8 : x_n_n = 1010.875\n",
      "State 9 : x_n_n = 1011.0\n",
      "State 10 : x_n_n = 1011.0\n"
     ]
    }
   ],
   "source": [
    "class Model:\n",
    "    @staticmethod\n",
    "    def compute_alpha(n):\n",
    "        return 1 / n\n",
    "    \n",
    "    @staticmethod\n",
    "    def state_update_equation(prev_state, factor, measurement):\n",
    "        innovation = measurement - prev_state\n",
    "        return prev_state + factor * innovation\n",
    "\n",
    "    \n",
    "model = Model()\n",
    "# Step 1: Measure\n",
    "measurements = [1000, 1030, 989, 1017, 1009, 1013, 979, 1008, 1042, 1012, 1011]\n",
    "n = 0\n",
    "x_n_n = measurements[n]\n",
    "print(f\"State {n} : x_n_n = {x_n_n}\")\n",
    "\n",
    "# Step 2: Update and predict\n",
    "for n in range(1, len(measurements)):\n",
    "    zn = measurements[n]\n",
    "    Kn = model.compute_alpha(n)\n",
    "    x_n_n_prev = x_n_n\n",
    "    x_n_n = model.state_update_equation(x_n_n_prev, Kn, zn)\n",
    "    print(f\"State {n} : x_n_n = {x_n_n}\")\n"
   ]
  },
  {
   "cell_type": "markdown",
   "id": "70b82c06",
   "metadata": {},
   "source": [
    "## $\\alpha - \\beta$ filter\n",
    "$\\alpha - \\beta$ filters are used when a system is adequately approximated by a model having two internal states, where the first state is obtained by integrating the value of the second state over time.\n",
    "- The $\\alpha$ constant corrects the position (ie the first state) using the innovation.\n",
    "- The $\\beta$ constant corrects the velocity (ie the second state) using the innovation.\n",
    "\n",
    "We will estimate the state of a dynamic system, in that case the speed of an object in one dimension.\n",
    "Let's define:\n",
    "- $x_n$ = the position of the object at time $n$.\n",
    "- $\\Delta t$ = the update interval\n",
    "\n",
    "From this we can compute the velocity of the object $$\\dot x = v = \\frac{dx}{dt}$$.\n",
    "\n",
    "We can now describe the *dynamic model* of the problem, in our case motion with a constant velocity:\n",
    "- $x_{n+1} = x_n + \\Delta t \\dot x_n$ : the next position is equal to the current plus the speed times interval time.\n",
    "- $\\dot x_{n+1} = \\dot x_n$ : since we have constant velocity, it remains unchanged accross steps.\n",
    "\n",
    "This system of equations is called **State Extrapolation Equation** (or Transition Equation / Prediction Equation). It is one of the five Kalmar filter equations and is used to copmute the next state from the current state. In the previous example, it was simply $x_{n+1} = x_n$.\n",
    "\n",
    "As we saw, since the system is dynamic, we have two **State Update Equations** this time:\n",
    "- $\\hat x_{n,n} = \\hat x_{n,n-1} + \\alpha (z_n - \\hat x_{n,n-1})$ for the position\n",
    "- $\\hat{\\dot x}_{n,n} = \\hat{\\dot x}_{n,n-1} + \\beta (\\frac{z_n - \\hat x_{n,n-1}}{\\Delta t})$ for the velocity\n",
    "\n",
    "How are $\\alpha$ and $\\beta$ used here ?\n",
    "- Here $\\alpha$ is fixed, and depends on the precision of the sensor. If it has a high precision, we can have confidence in the measurements and use a high $\\alpha$. If $\\alpha = 1$, then the estimated position is the measured position, ie $\\hat x_{n,n} = z_n$. If $\\alpha = 0$ then the measurement is discarded, ie $\\hat x_{n,n} = \\hat x_{n,n-1}$.\n",
    "- $\\beta$ also depends on the precision of the sensor. If the precision is high, we use a high $\\beta$, because we assume that a change in the observed velocity is likely due to a real change in velocity (ie we trust the measurement, and we should use it to update the velocity). In the oposite case, a low $\\beta$ gives a lower contribution to the measurement in updating the velocity.\n",
    "\n",
    "In other words, higher $\\alpha$ and $\\beta$ will follow the measurements and the filter will respond more quickly to changes."
   ]
  },
  {
   "cell_type": "code",
   "execution_count": 18,
   "id": "e14469a6",
   "metadata": {},
   "outputs": [
    {
     "name": "stdout",
     "output_type": "stream",
     "text": [
      "State 0 = State(position=30200, velocity=40)\n",
      "State 1 = State(position=30182.0, velocity=38.2)\n",
      "State 1 = State(position=30373.0, velocity=38.2)\n",
      "State 2 = State(position=30351.4, velocity=36.040000000000006)\n",
      "State 2 = State(position=30531.600000000002, velocity=36.040000000000006)\n",
      "State 3 = State(position=30573.280000000002, velocity=40.20799999999996)\n",
      "State 3 = State(position=30774.320000000003, velocity=40.20799999999996)\n",
      "State 4 = State(position=30846.456000000002, velocity=47.4215999999999)\n",
      "State 4 = State(position=31083.564000000002, velocity=47.4215999999999)\n"
     ]
    }
   ],
   "source": [
    "from collections import namedtuple\n",
    "State = namedtuple(\"State\", [\"position\", \"velocity\"])\n",
    "Δt = 5\n",
    "\n",
    "class Model:\n",
    "    \n",
    "    @staticmethod\n",
    "    def compute_alpha(n):\n",
    "        return 0.2\n",
    "    \n",
    "    @staticmethod\n",
    "    def compute_beta(n):\n",
    "        return 0.1\n",
    "    \n",
    "    @staticmethod\n",
    "    def state_extrapolation_equation(state: State):\n",
    "        return State(state.position + Δt * state.velocity, state.velocity)\n",
    "        \n",
    "    @staticmethod\n",
    "    def state_update_equation(prev_state: State, alpha, beta, position_n):\n",
    "        return State(\n",
    "            prev_state.position + alpha * (position_n - prev_state.position),\n",
    "            prev_state.velocity + beta * (position_n - prev_state.position) / Δt)\n",
    "\n",
    "\n",
    "# Initialization    \n",
    "model = Model()\n",
    "# Step 1: Measure\n",
    "measurements_position = [30000, 30110, 30265, 30740, 31135]\n",
    "measurements_velocity = [40]\n",
    "n = 0\n",
    "state_n = State(measurements_position[n], measurements_velocity[n])\n",
    "# Step 2: Predict\n",
    "state_n = model.state_extrapolation_equation(state_n)\n",
    "print(f\"State {n} = {state_n}\")\n",
    "\n",
    "# Step 2: Update and predict\n",
    "for n in range(1, len(measurements_position)):\n",
    "    # Get new measurement. We only measure the position, the velocity is derived later.\n",
    "    position_n = measurements_position[n]\n",
    "    alpha = model.compute_alpha(n)\n",
    "    beta = model.compute_beta(n)\n",
    "    # Compute the current state with the State update Equation\n",
    "    state_n = model.state_update_equation(state_n, alpha, beta, position_n)\n",
    "    print(f\"State {n} = {state_n}\")\n",
    "    # Compute the next state with the State Extrapolation Equation\n",
    "    state_n = model.state_extrapolation_equation(state_n)\n",
    "    print(f\"State {n} = {state_n}\")\n"
   ]
  },
  {
   "cell_type": "code",
   "execution_count": null,
   "id": "c7be8c55",
   "metadata": {},
   "outputs": [],
   "source": []
  }
 ],
 "metadata": {
  "kernelspec": {
   "display_name": "Python 3.9.2 ('venv': venv)",
   "language": "python",
   "name": "python3"
  },
  "language_info": {
   "codemirror_mode": {
    "name": "ipython",
    "version": 3
   },
   "file_extension": ".py",
   "mimetype": "text/x-python",
   "name": "python",
   "nbconvert_exporter": "python",
   "pygments_lexer": "ipython3",
   "version": "3.9.2"
  },
  "vscode": {
   "interpreter": {
    "hash": "a69d40d4541aa5b8653f6b4004427542deb1ae314227ba25ee4a7524cf82509a"
   }
  }
 },
 "nbformat": 4,
 "nbformat_minor": 5
}
