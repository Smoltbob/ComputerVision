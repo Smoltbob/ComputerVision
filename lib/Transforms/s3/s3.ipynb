{
 "cells": [
  {
   "cell_type": "markdown",
   "id": "43e0a420",
   "metadata": {},
   "source": [
    "# Running this notebook\n",
    "\n",
    "`bazel build lib/Transforms/s3:jupyter && ./bazel-bin/lib/Transforms/s3/jupyter`\n",
    "\n",
    "# $S^3$, the 4-dimensional sphere\n",
    "# Unit quaternions\n",
    "Unit quaternions are also called rotation quaternions as they represent the 3D rotation group SO3."
   ]
  },
  {
   "cell_type": "markdown",
   "id": "656c0f86",
   "metadata": {},
   "source": [
    "# Rotate a vector using a point on the sphere\n",
    "According to Euler's rotation theorem, any roations or sequence of rotations about a fixed point is equivalent to a single rotation by a given angle $\\theta$ about a fixed axis. This axis is usually represented by a unit vector.\n",
    "\n",
    "Quaternions are a way of storing this axis-angle representation in four numbers.\n",
    "\n",
    "Then a rotation of angle $\\theta$ around the axis defined by the unit vector $\\vec{u}$ can be represented by the quaternion $q = cos(\\frac{\\theta}{2}) + (u_x i + u_y j + u_z k) sin(\\frac{\\theta}{2})$.\n",
    "\n",
    "If we represent a 3D vector $p$ by a quaternion such that $p = p_x i + p_y j + p_z k$, then we can rotate it by $q$ by using the Hamilton product $p' = q p q^{-1}$."
   ]
  },
  {
   "cell_type": "code",
   "execution_count": 1,
   "id": "5188d05d",
   "metadata": {},
   "outputs": [
    {
     "data": {
      "text/plain": [
       "(q = -2.3592239273284576e-16 + 2.650793650793651i + -0.17460317460317465j + -2.6349206349206358k,\n",
       " q = 0 + 1i + 2j + 3k)"
      ]
     },
     "execution_count": 1,
     "metadata": {},
     "output_type": "execute_result"
    }
   ],
   "source": [
    "# create a vector\n",
    "# create a rotation quaternion\n",
    "# rotate\n",
    "from lib.Transforms.s3.s3 import S3\n",
    "from lib.Math.Quaternions.quaternions import Quaternion\n",
    "myvector = Quaternion([0, 1, 2, 3])\n",
    "rot_quat = S3([0,1,0.5,0.1])\n",
    "\n",
    "rotated_vector = rot_quat @ myvector @ rot_quat.inverse()\n",
    "rotated_vector, myvector\n",
    "# Step 2: implement the conversions quaternion - matrix"
   ]
  },
  {
   "cell_type": "markdown",
   "id": "b5627f3c",
   "metadata": {},
   "source": [
    "# Log map"
   ]
  },
  {
   "cell_type": "code",
   "execution_count": 1,
   "id": "46669344",
   "metadata": {},
   "outputs": [
    {
     "name": "stderr",
     "output_type": "stream",
     "text": [
      "/home/jules/documents/code/ComputerVision/bazel-bin/lib/Transforms/s3/jupyter.runfiles/__main__/lib/Transforms/SO3/SO3.py:22: SyntaxWarning: assertion is always true, perhaps remove parentheses?\n",
      "  assert (self.isValid(R), \"Rotation is invalid\")\n",
      "/home/jules/documents/code/ComputerVision/bazel-bin/lib/Transforms/s3/jupyter.runfiles/__main__/lib/Transforms/SO3/SO3.py:33: SyntaxWarning: assertion is always true, perhaps remove parentheses?\n",
      "  assert (self.isValid(self.R), \"Rotation is invalid\")\n",
      "/home/jules/documents/code/ComputerVision/bazel-bin/lib/Transforms/s3/jupyter.runfiles/__main__/lib/LinearAlgebra/matrix.py:6: SyntaxWarning: assertion is always true, perhaps remove parentheses?\n",
      "  assert (len(matrix) > 2, f\"Cannot transpose matrix with {len(matrix)} rows\")\n",
      "/home/jules/documents/code/ComputerVision/bazel-bin/lib/Transforms/s3/jupyter.runfiles/__main__/lib/LinearAlgebra/matrix.py:8: SyntaxWarning: assertion is always true, perhaps remove parentheses?\n",
      "  assert (len(row) == len(matrix), \"Cannot transpose non-square matrix\")\n",
      "/home/jules/documents/code/ComputerVision/bazel-bin/lib/Transforms/s3/jupyter.runfiles/__main__/lib/LinearAlgebra/matrix.py:22: SyntaxWarning: assertion is always true, perhaps remove parentheses?\n",
      "  assert (len(matrix) == 3, \"Cannot compute determinant of non 3x3 matrix\")\n",
      "/home/jules/documents/code/ComputerVision/bazel-bin/lib/Transforms/s3/jupyter.runfiles/__main__/lib/LinearAlgebra/matrix.py:24: SyntaxWarning: assertion is always true, perhaps remove parentheses?\n",
      "  assert (len(row) == 3, \"Cannot compute determinant of non 3x3 matrix\")\n",
      "/home/jules/documents/code/ComputerVision/bazel-bin/lib/Transforms/s3/jupyter.runfiles/__main__/lib/LinearAlgebra/matrix.py:35: SyntaxWarning: assertion is always true, perhaps remove parentheses?\n",
      "  assert (len(matrix) > 2, f\"Cannot transpose matrix with {len(matrix)} rows\")\n",
      "/home/jules/documents/code/ComputerVision/bazel-bin/lib/Transforms/s3/jupyter.runfiles/__main__/lib/LinearAlgebra/matrix.py:37: SyntaxWarning: assertion is always true, perhaps remove parentheses?\n",
      "  assert (len(row) == len(matrix), \"Cannot transpose non-square matrix\")\n"
     ]
    },
    {
     "ename": "NameError",
     "evalue": "name 'rot_quat' is not defined",
     "output_type": "error",
     "traceback": [
      "\u001b[0;31m---------------------------------------------------------------------------\u001b[0m",
      "\u001b[0;31mNameError\u001b[0m                                 Traceback (most recent call last)",
      "Cell \u001b[0;32mIn [1], line 3\u001b[0m\n\u001b[1;32m      1\u001b[0m \u001b[38;5;28;01mfrom\u001b[39;00m \u001b[38;5;21;01mlib\u001b[39;00m\u001b[38;5;21;01m.\u001b[39;00m\u001b[38;5;21;01mTransforms\u001b[39;00m\u001b[38;5;21;01m.\u001b[39;00m\u001b[38;5;21;01mconversions\u001b[39;00m\u001b[38;5;21;01m.\u001b[39;00m\u001b[38;5;21;01mconversions\u001b[39;00m \u001b[38;5;28;01mimport\u001b[39;00m SO3_from_S3\n\u001b[1;32m      2\u001b[0m \u001b[38;5;66;03m# Go to tangent space from both a unit quaternion and a matrix\u001b[39;00m\n\u001b[0;32m----> 3\u001b[0m rot_mat \u001b[38;5;241m=\u001b[39m SO3_from_S3(\u001b[43mrot_quat\u001b[49m)\n\u001b[1;32m      4\u001b[0m rot_mat\u001b[38;5;241m.\u001b[39mlog_map()\n",
      "\u001b[0;31mNameError\u001b[0m: name 'rot_quat' is not defined"
     ]
    }
   ],
   "source": [
    "from lib.Transforms.conversions.conversions import SO3_from_S3\n",
    "# Go to tangent space from both a unit quaternion and a matrix\n",
    "rot_mat = SO3_from_S3(rot_quat)\n",
    "rot_mat.log_map()"
   ]
  },
  {
   "cell_type": "code",
   "execution_count": 3,
   "id": "9d3124ac",
   "metadata": {},
   "outputs": [
    {
     "data": {
      "text/plain": [
       "[1.3993765903022615, 0.6996882951511307, 0.13993765903022615]"
      ]
     },
     "execution_count": 3,
     "metadata": {},
     "output_type": "execute_result"
    }
   ],
   "source": [
    "rot_quat.log_map()"
   ]
  },
  {
   "cell_type": "code",
   "execution_count": 4,
   "id": "7e484e98",
   "metadata": {},
   "outputs": [
    {
     "data": {
      "text/plain": [
       "[[0.5873015873015873, 0.7936507936507936, 0.15873015873015872],\n",
       " [0.7936507936507936, -0.603174603174603, 0.07936507936507936],\n",
       " [0.15873015873015872, 0.07936507936507936, -0.984126984126984]]"
      ]
     },
     "execution_count": 4,
     "metadata": {},
     "output_type": "execute_result"
    }
   ],
   "source": [
    "rot_mat.R"
   ]
  },
  {
   "cell_type": "code",
   "execution_count": 10,
   "id": "73d46441",
   "metadata": {},
   "outputs": [
    {
     "data": {
      "text/plain": [
       "array([-1.3015873 ,  3.50793651, -0.01587302])"
      ]
     },
     "execution_count": 10,
     "metadata": {},
     "output_type": "execute_result"
    }
   ],
   "source": [
    "import numpy as np\n",
    "vec = np.array([1,2,3])\n",
    "vec @ np.array(rot_mat.R)"
   ]
  },
  {
   "cell_type": "markdown",
   "id": "584a65e1",
   "metadata": {},
   "source": [
    "## Linearizing the sphere\n",
    "We may want to linearize the sphere around a base point $\\mu$, such that the points on the sphere are represented in a local Euclidian tangent space $\\tau_{\\mu}$. The convenience comes from the linearity of tangent space, as mentioned in the Lie algebra section. $\\tau_{\\mu} gives a distorted \"flattened\" version of the unit sphere.\n",
    "\n",
    "Since the maximal distance from $\\mu$ to any point is $\\pi$, we are generally only concerned with tangent vectors $v \\in \\tau_{\\mu}$ where $||v|| < \\le \\pi$.\n",
    "\n",
    "A point $x$ on the sphere can be mapped to $\\tau_{\\mu}$ via the centered log map\n",
    "- $log_{\\mu} (x) = (x - \\mu (x^T \\mu)) \\frac{\\theta}{sin(\\theta)}$\n",
    "- $\\theta = arccos(x^T\\mu)$\n",
    "\n",
    "With the convention $\\frac{0}{sin(0)} = 1$."
   ]
  },
  {
   "cell_type": "code",
   "execution_count": null,
   "id": "c78e2613",
   "metadata": {},
   "outputs": [],
   "source": [
    "from lib.Math.math_utils import dot, arccos, sin\n",
    "\n",
    "def centered_log_map(x, mu):\n",
    "    theta = arccos(dot(x, mu))\n",
    "    safe_sin = theta / sin(theta) if theta != 0 else 1\n",
    "    log_mu = (x - mu * dot(x, mu)) * safe_sin\n",
    "    return log_mu\n",
    "\n"
   ]
  }
 ],
 "metadata": {
  "kernelspec": {
   "display_name": "Python 3 (ipykernel)",
   "language": "python",
   "name": "python3"
  },
  "language_info": {
   "codemirror_mode": {
    "name": "ipython",
    "version": 3
   },
   "file_extension": ".py",
   "mimetype": "text/x-python",
   "name": "python",
   "nbconvert_exporter": "python",
   "pygments_lexer": "ipython3",
   "version": "3.9.13"
  }
 },
 "nbformat": 4,
 "nbformat_minor": 5
}
