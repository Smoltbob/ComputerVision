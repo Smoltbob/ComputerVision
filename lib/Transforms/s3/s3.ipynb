{
 "cells": [
  {
   "cell_type": "markdown",
   "id": "43e0a420",
   "metadata": {},
   "source": [
    "# Running this notebook\n",
    "\n",
    "`bazel build lib/Transforms/s3:jupyter && ./bazel-bin/lib/Transforms/s3/jupyter`\n",
    "\n",
    "# $S^3$, the 4-dimensional sphere\n",
    "# Unit quaternions\n",
    "Unit quaternions are also called rotation quaternions as they represent the 3D rotation group SO3."
   ]
  },
  {
   "cell_type": "markdown",
   "id": "6920b5f7",
   "metadata": {},
   "source": [
    "# Rotate a vector using a point on the sphere\n",
    "According to Euler's rotation theorem, any roations or sequence of rotations about a fixed point is equivalent to a single rotation by a given angle $\\theta$ about a fixed axis. This axis is usually represented by a unit vector.\n",
    "\n",
    "Quaternions are a way of storing this axis-angle representation in four numbers.\n",
    "\n",
    "Then a rotation of angle $\\theta$ around the axis defined by the unit vector $\\vec{u}$ can be represented by the quaternion $q = cos(\\frac{\\theta}{2}) + (u_x i + u_y j + u_z k) sin(\\frac{\\theta}{2})$.\n",
    "\n",
    "If we represent a 3D vector $p$ by a quaternion such that $p = p_x i + p_y j + p_z k$, then we can rotate it by $q$ by using the Hamilton product $p' = q p q^{-1}$."
   ]
  },
  {
   "cell_type": "code",
   "execution_count": 4,
   "id": "e6a589bd",
   "metadata": {},
   "outputs": [
    {
     "data": {
      "text/plain": [
       "(q = 0.0 + 0.2672612419124244i + 0.5345224838248488j + 0.8017837257372732k,\n",
       " q = 0 + 1i + 2j + 3k)"
      ]
     },
     "execution_count": 4,
     "metadata": {},
     "output_type": "execute_result"
    }
   ],
   "source": [
    "# create a vector\n",
    "# create a rotation quaternion\n",
    "# rotate\n",
    "from lib.Transforms.s3.s3 import S3\n",
    "from lib.Math.Quaternions.quaternions import Quaternion\n",
    "myvector = Quaternion([0, 1, 2, 3])\n",
    "myrotation = S3([1,0,0,0])\n",
    "\n",
    "rotated_vector = myrotation @ myvector @myrotation.inverse()\n",
    "rotated_vector, myvector\n",
    "# Step 2: implement the conversions quaternion - matrix"
   ]
  },
  {
   "cell_type": "markdown",
   "id": "584a65e1",
   "metadata": {},
   "source": [
    "## Linearizing the sphere\n",
    "We may want to linearize the sphere around a base point $\\mu$, such that the points on the sphere are represented in a local Euclidian tangent space $\\tau_{\\mu}$. The convenience comes from the linearity of tangent space, as mentioned in the Lie algebra section. $\\tau_{\\mu} gives a distorted \"flattened\" version of the unit sphere.\n",
    "\n",
    "Since the maximal distance from $\\mu$ to any point is $\\pi$, we are generally only concerned with tangent vectors $v \\in \\tau_{\\mu}$ where $||v|| < \\le \\pi$.\n",
    "\n",
    "A point $x$ on the sphere can be mapped to $\\tau_{\\mu}$ via the centered log map\n",
    "- $log_{\\mu} (x) = (x - \\mu (x^T \\mu)) \\frac{\\theta}{sin(\\theta)}$\n",
    "- $\\theta = arccos(x^T\\mu)$\n",
    "\n",
    "With the convention $\\frac{0}{sin(0)} = 1$."
   ]
  },
  {
   "cell_type": "code",
   "execution_count": null,
   "id": "c78e2613",
   "metadata": {},
   "outputs": [],
   "source": [
    "from lib.Math.math_utils import dot, arccos, sin\n",
    "\n",
    "def centered_log_map(x, mu):\n",
    "    theta = arccos(dot(x, mu))\n",
    "    safe_sin = theta / sin(theta) if theta != 0 else 1\n",
    "    log_mu = (x - mu * dot(x, mu)) * safe_sin\n",
    "    return log_mu\n",
    "\n"
   ]
  }
 ],
 "metadata": {
  "kernelspec": {
   "display_name": "Python 3 (ipykernel)",
   "language": "python",
   "name": "python3"
  },
  "language_info": {
   "codemirror_mode": {
    "name": "ipython",
    "version": 3
   },
   "file_extension": ".py",
   "mimetype": "text/x-python",
   "name": "python",
   "nbconvert_exporter": "python",
   "pygments_lexer": "ipython3",
   "version": "3.9.13"
  }
 },
 "nbformat": 4,
 "nbformat_minor": 5
}
