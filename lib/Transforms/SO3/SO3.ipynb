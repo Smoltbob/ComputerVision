{
 "cells": [
  {
   "cell_type": "markdown",
   "metadata": {},
   "source": [
    "# Running this notebook\n",
    "`bazel build lib/Transforms/SO3:jupyter && ./bazel-bin/lib/Transforms/SO3/jupyter`\n",
    "\n",
    "# SO(3), the group of rotations in 3D space\n",
    "## Introduction\n",
    "SO(3), the 3D rotation group, is the group of all roations about the origin of three-dimensional Euclidian space $\\mathbb{R}^3$ under the operation of composition ([wiki](https://en.wikipedia.org/wiki/3D_rotation_group)). \n",
    "\n",
    "- A rotation about the origin preserves the origin, euclidian distance and orientation.\n",
    "- Composing two rotations results in another rotation.\n",
    "- Every rotation has a unique inverse rotation.\n",
    "- The identity map satisfies the definition of a rotation.\n",
    "\n",
    "Therefore the set of all rotations is a group under composition."
   ]
  },
  {
   "cell_type": "code",
   "execution_count": 1,
   "metadata": {},
   "outputs": [
    {
     "name": "stdout",
     "output_type": "stream",
     "text": [
      "    def __init__(self, R=None):\n",
      "        if R is None:\n",
      "            R = [[1, 0, 0], [0, 1, 0], [0, 0, 1]]\n",
      "        self.R = R\n",
      "\n"
     ]
    }
   ],
   "source": [
    "from scipy.spatial.transform import Rotation as Rot\n",
    "# TODO matrices, vectors, quaternions\n",
    "%load_ext autoreload\n",
    "from SO3 import *\n",
    "import inspect\n",
    "\n",
    "lines = inspect.getsource(SO3.__init__)\n",
    "print(lines)\n",
    "\n",
    "RR = Rot.from_rotvec(([0, 0, 3.1415/2]))\n",
    "rotation = SO3(RR.as_matrix())"
   ]
  },
  {
   "cell_type": "markdown",
   "metadata": {},
   "source": [
    "## Representing rotations\n",
    "TODO move this to its own notebook.\n",
    "\n",
    "Any 3D rotation can be described as a single rotation about some axis.\n",
    "While the minimum required number of parameters required too describe a rotation is 3, there are multiple ways to represent a rotation.\n",
    "\n",
    "We can represent rotations using:\n",
    "\n",
    "### Matrices (SO3))\n",
    "Matrices are useful because:\n",
    "- They allow to easily rotate vectors\n",
    "- They make it easy to combine rotations\n",
    "\n",
    "However:\n",
    "- They are not concise\n",
    "\n",
    "Matrices have 9 degrees of freedom, which means they need 6 constraints to express 3D rotations.\n",
    "\n",
    "Rotation matrices are usually formed with column vectors. They represent a 3D orthonormal basis.\n",
    "\n",
    "### Euler axis and angle\n",
    "We can represent the rotation a a 3-vector, of which the norm is the angle.\n",
    "\n",
    "The axis-angle representation is useful because:\n",
    "- It only takes three scalars\n",
    "\n",
    "However:\n",
    "- They are undefined if the angle is 0\n",
    "- They are not trivial to combine\n",
    "- They suffer from gimbal lock\n",
    "\n",
    "### Euler rotations\n",
    "They split the rotation of the coordinate system into three simpler consecutive rotation. For instance in aviation:; z-y-x = yaw pitch roll.\n",
    "There are thus different possible orders of rotations.\n",
    "\n",
    "We can differentiate intrinsic (ie rotate around the axes of the object) and extrinsic (ie rotate around the axis of the coordinate frame) rotations. They are equivalent, except that the order of rotations in inverted.\n",
    "\n",
    "### Quaternions\n",
    "They form a 4 dimensional vector space.\n",
    "\n",
    "They have mainly the following benefits:\n",
    "- Compact representation and less susceptible to round-off errors\n",
    "- We can combine rotations simply by using the product\n"
   ]
  },
  {
   "cell_type": "code",
   "execution_count": 4,
   "metadata": {},
   "outputs": [
    {
     "data": {
      "text/plain": [
       "array([[ 4.63267949e-05, -9.99999999e-01,  0.00000000e+00],\n",
       "       [ 9.99999999e-01,  4.63267949e-05,  0.00000000e+00],\n",
       "       [ 0.00000000e+00,  0.00000000e+00,  1.00000000e+00]])"
      ]
     },
     "execution_count": 4,
     "metadata": {},
     "output_type": "execute_result"
    }
   ],
   "source": [
    "rotation.R"
   ]
  },
  {
   "cell_type": "markdown",
   "metadata": {},
   "source": [
    "## SO(3) in Lie theory\n",
    "The rotation group has a natural structure as a manifold for which the group operations are smoothly differentiable, so it is a Lie group.\n",
    "\n",
    "### Lie algebra\n",
    "Associated with every Lie group is its Lie algebra, a linear space of the same dimension as the Lie group, closed under a bilinear alternating product called the Lie bracket. \n",
    "\n",
    "The Lie algebra of SO(3) is denoted by $\\mathfrak {so}(3)$ and consists of all skew-symmetric 3 × 3 matrices. \n",
    "\n",
    "The Lie algebra $\\mathfrak {so}(3)$ is isomorphic to the Lie algebra  $\\mathbb{R}^3$. Under this isomorphism, an Euleur vector $\\omega \\in \\mathbb{R}^3$ corresponds to the linear map $\\tilde{\\omega} (u) = \\omega \\times u$.\n",
    "\n",
    "In practice, a suitable basis to use $\\mathfrak {so}(3)$ as a 3-dimensional vector space is\n",
    "$$\n",
    "\\boldsymbol{L}_x = \\begin{bmatrix}0&0&0\\\\0&0&-1\\\\0&1&0\\end{bmatrix}, \\quad\n",
    "\\boldsymbol{L}_y = \\begin{bmatrix}0&0&1\\\\0&0&0\\\\-1&0&0\\end{bmatrix}, \\quad\n",
    "\\boldsymbol{L}_z = \\begin{bmatrix}0&-1&0\\\\1&0&0\\\\0&0&0\\end{bmatrix}.\n",
    "$$\n",
    "We can then identify any matrix of in this Lie algebra with an Euler vector $\\omega = (x, y, z) \\in \\mathbb{R}^3$.\n",
    "\n",
    "$$\n",
    "\\widehat{\\boldsymbol{\\omega}} =\\boldsymbol{\\omega}\\cdot \\boldsymbol{L} = x \\boldsymbol{L}_x + y \\boldsymbol{L}_y + z \\boldsymbol{L}_z =\\begin{bmatrix}0&-z&y\\\\z&0&-x\\\\-y&x&0\\end{bmatrix} \\in \\mathfrak{so}(3)\n",
    "$$\n",
    "\n",
    "We can go from the skew symetric notations to euler angles and back using the skew and vee operators."
   ]
  },
  {
   "cell_type": "code",
   "execution_count": 5,
   "metadata": {},
   "outputs": [
    {
     "name": "stdout",
     "output_type": "stream",
     "text": [
      "def skew(v):\n",
      "    return [[0, -v[2], v[1]], [v[2], 0, -v[0]], [-v[1], v[0], 0]]\n",
      "\n",
      "def vee(W):\n",
      "    return [-W[1][2], W[0][2], -W[0][1]]\n",
      "\n"
     ]
    }
   ],
   "source": [
    "lines = inspect.getsource(skew)\n",
    "print(lines)\n",
    "\n",
    "lines = inspect.getsource(vee)\n",
    "print(lines)"
   ]
  },
  {
   "cell_type": "markdown",
   "metadata": {},
   "source": [
    "#### Logarithm map $\\log : \\operatorname{SO}(3) \\to \\mathfrak{so}(3)$\n",
    "Given $R \\in \\operatorname{SO}(3)$, let $A = \\frac{1}{2} (R - R^T)$ and let $\\|A\\| = \\sqrt{-\\frac{1}{2}\\operatorname{Tr}\\left(A^2\\right)}$. Then the logarithm of $R$ is given by \n",
    "$$\n",
    "\\log R = \\frac{\\sin^{-1}\\|A\\|}{\\|A\\|}A\n",
    "$$"
   ]
  },
  {
   "cell_type": "code",
   "execution_count": 6,
   "metadata": {},
   "outputs": [
    {
     "name": "stdout",
     "output_type": "stream",
     "text": [
      "    def log_map(self):\n",
      "        \"\"\"\n",
      "        Returns the skew matrix in lie algebra associated to the\n",
      "        SO3 rotation matrix R\n",
      "        \"\"\"\n",
      "        R = self.R\n",
      "        A = (R - R.T) / 2\n",
      "        norm = np.sqrt(-np.trace(A @ A) / 2)\n",
      "        skew_matrix = ((np.arcsin(norm)) / norm) * A\n",
      "        return so3(vee(skew_matrix))\n",
      "\n"
     ]
    }
   ],
   "source": [
    "lines = inspect.getsource(SO3.log_map)\n",
    "print(lines)"
   ]
  },
  {
   "cell_type": "code",
   "execution_count": 7,
   "metadata": {},
   "outputs": [
    {
     "data": {
      "text/plain": [
       "(so3: [-0.0, 0.0, 1.5707963267948966],\n",
       " array([0.        , 0.        , 1.57079633]))"
      ]
     },
     "execution_count": 7,
     "metadata": {},
     "output_type": "execute_result"
    }
   ],
   "source": [
    "RR = Rot.from_rotvec(np.pi/2 * np.array([0, 0, 1]))\n",
    "R = RR.as_matrix()\n",
    "rotation = SO3(R)\n",
    "so = rotation.log_map()\n",
    "so, RR.as_euler(\"xyz\")"
   ]
  },
  {
   "cell_type": "markdown",
   "metadata": {},
   "source": [
    "#### Exponential map $\\exp : \\mathfrak{so}(3) \\to \\operatorname{SO}(3)$\n",
    "Since $\\operatorname{SO}(3)$ is a matrix group, the exponential map is the matrix exponential series\n",
    "$$\n",
    "\\begin{cases}\n",
    "\\exp : \\mathfrak{so}(3) \\to \\operatorname{SO}(3) \\\\\n",
    "A \\mapsto e^A = \\sum_{k=0}^\\infty \\frac{1}{k!} A^k\n",
    " = I + A + \\tfrac{1}{2} A^2 + \\cdots.\n",
    "\\end{cases}\n",
    "$$\n",
    "$A \\in \\mathfrak{so}(3)$ being by definition a skew-symetric matrix."
   ]
  },
  {
   "cell_type": "code",
   "execution_count": 8,
   "metadata": {},
   "outputs": [
    {
     "name": "stdout",
     "output_type": "stream",
     "text": [
      "    def exp_map_generic(self):\n",
      "        \"\"\"\n",
      "        Simply computes the matrix exponent.\n",
      "        We should iterate to infinity but we stop at 50.\n",
      "        \"\"\"\n",
      "        A = skew(self.w)\n",
      "        exp = np.eye(3)\n",
      "        for k in range(1, 50):\n",
      "            exp += (1 / np.math.factorial(k)) * np.linalg.matrix_power(A, k)\n",
      "        return SO3(exp)\n",
      "\n"
     ]
    }
   ],
   "source": [
    "lines = inspect.getsource(so3.exp_map_generic)\n",
    "print(lines)"
   ]
  },
  {
   "cell_type": "code",
   "execution_count": 9,
   "metadata": {},
   "outputs": [
    {
     "data": {
      "text/plain": [
       "(SO3: [[ 4.26480464e-17 -1.00000000e+00  0.00000000e+00]\n",
       "  [ 1.00000000e+00  4.26480464e-17  0.00000000e+00]\n",
       "  [ 0.00000000e+00  0.00000000e+00  1.00000000e+00]],\n",
       " array([[ 2.22044605e-16, -1.00000000e+00,  0.00000000e+00],\n",
       "        [ 1.00000000e+00,  2.22044605e-16,  0.00000000e+00],\n",
       "        [ 0.00000000e+00,  0.00000000e+00,  1.00000000e+00]]))"
      ]
     },
     "execution_count": 9,
     "metadata": {},
     "output_type": "execute_result"
    }
   ],
   "source": [
    "so.exp_map_generic(), R"
   ]
  },
  {
   "cell_type": "markdown",
   "metadata": {},
   "source": [
    "However as every $A \\in \\mathfrak{so}(3)$ is associated to a vector $\\omega = \\theta u$, a direct exponentiation is possible, and yields\n",
    "\n",
    "$$\n",
    "\\begin{align}\n",
    " \\exp(\\tilde{\\boldsymbol{\\omega}})\n",
    "   &= \\exp(\\theta(\\boldsymbol{u\\cdot L}))\n",
    "    = \\exp\\left(\\theta \\begin{bmatrix} 0 & -z & y \\\\ z & 0 & -x \\\\ -y & x & 0 \\end{bmatrix}\\right)\\\\[4pt]\n",
    "   &= \\boldsymbol{I} + 2cs(\\boldsymbol{u\\cdot L}) + 2s^2 (\\boldsymbol{u \\cdot L})^2 \\\\[4pt]\n",
    "   &= \\begin{bmatrix}\n",
    "        2 \\left(x^2 - 1\\right) s^2 + 1 & 2 x y s^2 - 2 z c s & 2 x z s^2 + 2 y c s \\\\\n",
    "        2 x y s^2 + 2 z c s & 2 \\left(y^2 - 1\\right) s^2 + 1 & 2 y z s^2 - 2 x c s \\\\\n",
    "        2 x z s^2 - 2 y c s & 2 y z s^2 + 2 x c s & 2 \\left(z^2 - 1\\right) s^2 + 1\n",
    "      \\end{bmatrix},\n",
    "\\end{align}\n",
    "$$"
   ]
  },
  {
   "cell_type": "code",
   "execution_count": 10,
   "metadata": {},
   "outputs": [
    {
     "name": "stdout",
     "output_type": "stream",
     "text": [
      "    def exp_map_euler(self):\n",
      "        \"\"\"\n",
      "        SO3 specific implementation\n",
      "        \"\"\"\n",
      "        w = np.array(self.w)\n",
      "        theta = np.linalg.norm(w)\n",
      "        w = w / theta\n",
      "        x = w[0]\n",
      "        y = w[1]\n",
      "        z = w[2]\n",
      "\n",
      "        c = np.cos(theta / 2)\n",
      "        s = np.sin(theta / 2)\n",
      "\n",
      "        exp = [\n",
      "            [\n",
      "                2 * (x**2 - 1) * s**2 + 1,\n",
      "                2 * x * y * (s**2) - 2 * z * c * s,\n",
      "                2 * x * z * s**2 + 2 * y * c * s,\n",
      "            ],\n",
      "            [\n",
      "                2 * x * y * s**2 + 2 * z * c * s,\n",
      "                2 * (y**2 - 1) * s**2 + 1,\n",
      "                2 * y * z * s**2 - 2 * x * c * s,\n",
      "            ],\n",
      "            [\n",
      "                2 * x * z * s**2 - 2 * y * c * s,\n",
      "                2 * y * z * s**2 + 2 * x * c * s,\n",
      "                2 * (z**2 - 1) * s**2 + 1,\n",
      "            ],\n",
      "        ]\n",
      "        return SO3(np.array(exp))\n",
      "\n"
     ]
    }
   ],
   "source": [
    "lines = inspect.getsource(so3.exp_map_euler)\n",
    "print(lines)"
   ]
  },
  {
   "cell_type": "code",
   "execution_count": 11,
   "metadata": {},
   "outputs": [
    {
     "data": {
      "text/plain": [
       "(SO3: [[ 2.22044605e-16 -1.00000000e+00  0.00000000e+00]\n",
       "  [ 1.00000000e+00  2.22044605e-16  0.00000000e+00]\n",
       "  [-0.00000000e+00  0.00000000e+00  1.00000000e+00]],\n",
       " array([[ 2.22044605e-16, -1.00000000e+00,  0.00000000e+00],\n",
       "        [ 1.00000000e+00,  2.22044605e-16,  0.00000000e+00],\n",
       "        [ 0.00000000e+00,  0.00000000e+00,  1.00000000e+00]]))"
      ]
     },
     "execution_count": 11,
     "metadata": {},
     "output_type": "execute_result"
    }
   ],
   "source": [
    "so.exp_map_euler(), R"
   ]
  },
  {
   "cell_type": "markdown",
   "metadata": {},
   "source": [
    "# Generating random rotation\n",
    "## Using the von Mises Fisher distribution\n",
    "We can draw random points on the 3D sphere using the von Mises Fisher distribution and consider that they lie on the algebra of SO3. "
   ]
  },
  {
   "cell_type": "code",
   "execution_count": 10,
   "metadata": {},
   "outputs": [
    {
     "data": {
      "text/plain": [
       "SO3: [[ 0.56400136 -0.77885805 -0.27437675]\n",
       " [ 0.82229032  0.56020144  0.10006484]\n",
       " [ 0.07576995 -0.28205405  0.95640181]]"
      ]
     },
     "execution_count": 10,
     "metadata": {},
     "output_type": "execute_result"
    }
   ],
   "source": [
    "from vonMisesFisher.vonMisesFisher import vMF\n",
    "from lib.Transforms.SO3 import SO3\n",
    "v = vMF.samplevMF(kappa = 50)\n",
    "v_in_algebra = SO3.so3(v)\n",
    "V_SO3 = v_in_algebra.exp_map_euler()\n",
    "V_SO3"
   ]
  },
  {
   "cell_type": "code",
   "execution_count": null,
   "metadata": {},
   "outputs": [],
   "source": []
  }
 ],
 "metadata": {
  "kernelspec": {
   "display_name": "Python 3 (ipykernel)",
   "language": "python",
   "name": "python3"
  },
  "language_info": {
   "codemirror_mode": {
    "name": "ipython",
    "version": 3
   },
   "file_extension": ".py",
   "mimetype": "text/x-python",
   "name": "python",
   "nbconvert_exporter": "python",
   "pygments_lexer": "ipython3",
   "version": "3.9.13"
  },
  "vscode": {
   "interpreter": {
    "hash": "916dbcbb3f70747c44a77c7bcd40155683ae19c65e1c03b4aa3499c5328201f1"
   }
  }
 },
 "nbformat": 4,
 "nbformat_minor": 2
}
