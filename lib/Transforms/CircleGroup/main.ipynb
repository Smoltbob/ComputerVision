{
 "cells": [
  {
   "cell_type": "markdown",
   "metadata": {},
   "source": [
    "# Running this notebook\n",
    "`bazel build lib/Transforms/CircleGroup:jupyter && ./bazel-bin/lib/Transforms/CircleGroup/jupyter`\n",
    "\n",
    "# The Circle Group\n",
    "When viewing the plane as the plane $\\mathbb C$ of complex numbers, we can describe the rotation of angle $\\theta$ about the origin as a multiplication by the number $e^{i\\theta} = cos \\theta + i sin \\theta$. The set of all such numbers is $$\\mathbb{S}^1 = \\{ z \\in \\mathbb C : |z| = 1 \\}.$$\n",
    "\n",
    "It is called the circle group, ie the multiplicative group $\\mathbb{S}^1$ of all complex numbers with absolute value.\n",
    "\n",
    "$\\mathbb{S}^1$ is a  group under the operation of complex multiplication.\n",
    "\n",
    "\n",
    "## $\\operatorname{SO}(2)$\n",
    "The circle group is isomorphic to the special orthogonal group $\\operatorname{SO}(2)$.\n",
    "\n",
    "In fact we can represent complex numbers as $2 \\times 2$ real matrices, and then the unit complex numbers correspond to $2 \\times 2$ orthogonal matrices with unit determinant.\n",
    "\n",
    "$$\n",
    "e^{i\\theta} \\leftrightarrow \\begin{bmatrix}\n",
    "\\cos \\theta & -\\sin \\theta \\\\\n",
    "\\sin \\theta &  \\cos \\theta \\\\\n",
    "\\end{bmatrix} \n",
    "$$\n",
    "\n",
    "And multiplying the matrices is equivalent to adding the angles.\n",
    "\n",
    "\n",
    "## $\\mathbb{U}(1)$\n",
    "The circle group is also the group $\\mathbb{U}(1)$ of $1 \\times 1$ complex-valued unitary matrices, that act on the complex plane by rotation about the origin.\n",
    "\n",
    "In linear algebra, a complex square matrix $U$ is unitary if its conjugate transpose $U*$ is also its inverse. It is the complex analogue to an orthogonal matrix.\n",
    "\n",
    "Unitary matrices preserve norms.\n",
    "\n",
    "## Operations on $\\mathbb{S}^1$\n",
    "In practice, we use the same operations as in $\\mathbb{C}$ but the unit norm constraint makes some operations simpler.\n",
    "\n",
    "### Exponential map\n",
    "The circle group can be parametrized by the angle $\\theta$ of rotation (in radians, counterclockwise from the positive x axis) by $\\theta \\mapsto z = e^{i\\theta} = \\cos\\theta + i\\sin\\theta,$ which is its exponent map $\\exp : \\mathbb R \\to \\mathbb{S}^1$, ie from the additive real numbers to the multiplicative circle group.\n",
    "\n",
    "The multiplication of complex numbers corresponds to the addition of angles : $e^{i\\theta_1}e^{i\\theta_2} = e^{i(\\theta_1+\\theta_2)}.$\n"
   ]
  },
  {
   "cell_type": "code",
   "execution_count": 1,
   "metadata": {},
   "outputs": [
    {
     "name": "stdout",
     "output_type": "stream",
     "text": [
      "    def exp_map(rot_angle):\n",
      "        \"\"\"\n",
      "        From angle in R to element in S1\n",
      "        \"\"\"\n",
      "        return S1(rot_angle)\n",
      "\n",
      "    def __init__(self, angle = 0):\n",
      "        \"\"\"\n",
      "        TODO enforce unit complex\n",
      "        Note angle is in radians, defined counter clockwise\n",
      "        around the origin.\n",
      "        \"\"\"\n",
      "        self.z = Complex(cos(angle), sin(angle))\n",
      "        assert(self.z.magnitude() == 1) # TODO floating point\n",
      "\n"
     ]
    }
   ],
   "source": [
    "from CircleGroup import *\n",
    "import inspect\n",
    "\n",
    "lines = inspect.getsource(S1.exp_map)\n",
    "print(lines)\n",
    "\n",
    "lines = inspect.getsource(S1.__init__)\n",
    "print(lines)"
   ]
  },
  {
   "cell_type": "markdown",
   "metadata": {},
   "source": [
    "### Log map"
   ]
  },
  {
   "cell_type": "code",
   "execution_count": 2,
   "metadata": {},
   "outputs": [
    {
     "name": "stdout",
     "output_type": "stream",
     "text": [
      "    def log_map(self):\n",
      "        \"\"\"\n",
      "        From S1 to angle in R\n",
      "        TODO enforce unity\n",
      "        \"\"\"\n",
      "        return self.angle()\n",
      "\n"
     ]
    }
   ],
   "source": [
    "lines = inspect.getsource(S1.log_map)\n",
    "print(lines)"
   ]
  },
  {
   "cell_type": "code",
   "execution_count": 3,
   "metadata": {},
   "outputs": [
    {
     "name": "stdout",
     "output_type": "stream",
     "text": [
      "S1: 0.5 rads\n"
     ]
    }
   ],
   "source": [
    "s1a = S1(0.5)\n",
    "print(s1a)"
   ]
  },
  {
   "cell_type": "code",
   "execution_count": 4,
   "metadata": {},
   "outputs": [
    {
     "name": "stdout",
     "output_type": "stream",
     "text": [
      "S1: 0.09999999999999999 rads\n"
     ]
    }
   ],
   "source": [
    "s2a = S1(0.1)\n",
    "print(s2a)"
   ]
  },
  {
   "cell_type": "code",
   "execution_count": 5,
   "metadata": {},
   "outputs": [
    {
     "data": {
      "text/plain": [
       "S1: 0.6 rads"
      ]
     },
     "execution_count": 5,
     "metadata": {},
     "output_type": "execute_result"
    }
   ],
   "source": [
    "s1a @ s2a"
   ]
  },
  {
   "cell_type": "code",
   "execution_count": 6,
   "metadata": {},
   "outputs": [
    {
     "name": "stdout",
     "output_type": "stream",
     "text": [
      "0.5\n"
     ]
    }
   ],
   "source": [
    "angle = s1a.log_map()\n",
    "print(angle)"
   ]
  },
  {
   "cell_type": "code",
   "execution_count": 7,
   "metadata": {},
   "outputs": [
    {
     "data": {
      "text/plain": [
       "S1: 0.6 rads"
      ]
     },
     "execution_count": 7,
     "metadata": {},
     "output_type": "execute_result"
    }
   ],
   "source": [
    "S1(s1a.log_map() + s2a.log_map())"
   ]
  },
  {
   "cell_type": "code",
   "execution_count": 8,
   "metadata": {},
   "outputs": [
    {
     "data": {
      "text/plain": [
       "S1: -0.5 rads"
      ]
     },
     "execution_count": 8,
     "metadata": {},
     "output_type": "execute_result"
    }
   ],
   "source": [
    "s1a.inverse()"
   ]
  },
  {
   "cell_type": "code",
   "execution_count": 9,
   "metadata": {},
   "outputs": [],
   "source": [
    "# Explain\n",
    "# Euler formula to get the log / exp map\n",
    "# Combining angles\n",
    "## Multiply in the group \n",
    "## Add in the algebra\n",
    "# Applying a rotation to 2D points"
   ]
  }
 ],
 "metadata": {
  "kernelspec": {
   "display_name": "Python 3 (ipykernel)",
   "language": "python",
   "name": "python3"
  },
  "language_info": {
   "codemirror_mode": {
    "name": "ipython",
    "version": 3
   },
   "file_extension": ".py",
   "mimetype": "text/x-python",
   "name": "python",
   "nbconvert_exporter": "python",
   "pygments_lexer": "ipython3",
   "version": "3.9.13"
  },
  "vscode": {
   "interpreter": {
    "hash": "916dbcbb3f70747c44a77c7bcd40155683ae19c65e1c03b4aa3499c5328201f1"
   }
  }
 },
 "nbformat": 4,
 "nbformat_minor": 2
}
